{
 "cells": [
  {
   "cell_type": "code",
   "execution_count": 1,
   "id": "944057b3",
   "metadata": {},
   "outputs": [],
   "source": [
    "import warnings\n",
    "warnings.filterwarnings(action='ignore')\n",
    "%config Completer.use_jedi = False\n",
    "import numpy as np\n",
    "import pandas as pd\n",
    "import matplotlib.pyplot as plt # 시각화 그래프\n",
    "plt.rcParams['font.family'] = 'NanumGothicCoding'\n",
    "plt.rcParams['font.size'] = 15\n",
    "import matplotlib as mpl\n",
    "mpl.rcParams['axes.unicode_minus'] = False\n",
    "import seaborn as sns"
   ]
  },
  {
   "cell_type": "markdown",
   "id": "77a527a0",
   "metadata": {},
   "source": [
    "clustering이란 여러개의 데이터가 있을 때 군집화 하는 것을 의미한다.   \n",
    "비슷한 데이터끼리 묶어놓으면 관리하기 쉽다는 장점이 있다. 예를 들어 학원을 운영할 때 고급반, 중급반, 초급반으로 나눠 적절히 분류해서 관리한다면 활용 방안이 많아 질 것이다.  \n",
    "비지도 학습(unsupervised learning) 알고리즘은 정확한 방향성이 일치하지 않더라도 알아서 학습이 가능한 알고리즘으로 데이터를 군집화하는 알고리즘이 비지도 학습에 속한다. => KMeans 알고리즘이 대표적인 비지도 학습 알고리즘이다.\n",
    "\n",
    "pip install scikit-learn => 머신러닝 알고리즘을 사용하기 위한 라이브러리"
   ]
  },
  {
   "cell_type": "code",
   "execution_count": 2,
   "id": "564ac7e5",
   "metadata": {},
   "outputs": [],
   "source": [
    "# clustering(군집화)에 필요한 라이브러리를 import 시킨다.\n",
    "from sklearn.cluster import KMeans"
   ]
  },
  {
   "cell_type": "markdown",
   "id": "8ed545b9",
   "metadata": {},
   "source": [
    "clustering을 실행할 데이터를 만든다."
   ]
  },
  {
   "cell_type": "code",
   "execution_count": 5,
   "id": "3157ec44",
   "metadata": {},
   "outputs": [],
   "source": [
    "'''\n",
    "df = pd.DataFrame(columns=['x', 'y'])\n",
    "df.loc[0] = [2, 3]\n",
    "df.loc[1] = [2, 11]\n",
    "df.loc[2] = [2, 18]\n",
    "df.loc[3] = [4, 5]\n",
    "df.loc[4] = [4, 7]\n",
    "df.loc[5] = [5, 3]\n",
    "df.loc[6] = [5, 15]\n",
    "df.loc[7] = [6, 6]\n",
    "df.loc[8] = [6, 8]\n",
    "df.loc[9] = [6, 9]\n",
    "df.loc[10] = [7, 2]\n",
    "df.loc[11] = [7, 4]\n",
    "df.loc[12] = [7, 5]\n",
    "df.loc[13] = [7, 17]\n",
    "df.loc[14] = [7, 18]\n",
    "df.loc[15] = [8, 5]\n",
    "df.loc[16] = [8, 4]\n",
    "df.loc[17] = [9, 10]\n",
    "df.loc[18] = [9, 11]\n",
    "df.loc[19] = [9, 15]\n",
    "df.loc[20] = [9, 19]\n",
    "df.loc[21] = [10, 5]\n",
    "df.loc[22] = [10, 8]\n",
    "df.loc[23] = [10, 18]\n",
    "df.loc[24] = [12, 6]\n",
    "df.loc[25] = [13, 5]\n",
    "df.loc[26] = [14, 11]\n",
    "df.loc[27] = [15, 6]\n",
    "df.loc[28] = [15, 18]\n",
    "df.loc[29] = [18, 12]\n",
    "df\n",
    "'''\n",
    "pass"
   ]
  },
  {
   "cell_type": "code",
   "execution_count": 4,
   "id": "f91f68ce",
   "metadata": {},
   "outputs": [
    {
     "data": {
      "text/html": [
       "<div>\n",
       "<style scoped>\n",
       "    .dataframe tbody tr th:only-of-type {\n",
       "        vertical-align: middle;\n",
       "    }\n",
       "\n",
       "    .dataframe tbody tr th {\n",
       "        vertical-align: top;\n",
       "    }\n",
       "\n",
       "    .dataframe thead th {\n",
       "        text-align: right;\n",
       "    }\n",
       "</style>\n",
       "<table border=\"1\" class=\"dataframe\">\n",
       "  <thead>\n",
       "    <tr style=\"text-align: right;\">\n",
       "      <th></th>\n",
       "      <th>x</th>\n",
       "      <th>y</th>\n",
       "    </tr>\n",
       "  </thead>\n",
       "  <tbody>\n",
       "    <tr>\n",
       "      <th>0</th>\n",
       "      <td>2</td>\n",
       "      <td>3</td>\n",
       "    </tr>\n",
       "    <tr>\n",
       "      <th>1</th>\n",
       "      <td>2</td>\n",
       "      <td>11</td>\n",
       "    </tr>\n",
       "    <tr>\n",
       "      <th>2</th>\n",
       "      <td>2</td>\n",
       "      <td>18</td>\n",
       "    </tr>\n",
       "    <tr>\n",
       "      <th>3</th>\n",
       "      <td>4</td>\n",
       "      <td>5</td>\n",
       "    </tr>\n",
       "    <tr>\n",
       "      <th>4</th>\n",
       "      <td>4</td>\n",
       "      <td>7</td>\n",
       "    </tr>\n",
       "  </tbody>\n",
       "</table>\n",
       "</div>"
      ],
      "text/plain": [
       "   x   y\n",
       "0  2   3\n",
       "1  2  11\n",
       "2  2  18\n",
       "3  4   5\n",
       "4  4   7"
      ]
     },
     "execution_count": 4,
     "metadata": {},
     "output_type": "execute_result"
    }
   ],
   "source": [
    "# df.to_csv('./data/cluster.csv', index=False)\n",
    "df = pd.read_csv('./data/cluster.csv')\n",
    "df.head()"
   ]
  },
  {
   "cell_type": "code",
   "execution_count": 6,
   "id": "a438530c",
   "metadata": {},
   "outputs": [
    {
     "name": "stdout",
     "output_type": "stream",
     "text": [
      "RangeIndex(start=0, stop=30, step=1)\n"
     ]
    }
   ],
   "source": [
    "# index: 데이터프레임의 인덱스를 얻어온다.\n",
    "print(df.index)"
   ]
  },
  {
   "cell_type": "code",
   "execution_count": 7,
   "id": "b7e8ee68",
   "metadata": {},
   "outputs": [
    {
     "name": "stdout",
     "output_type": "stream",
     "text": [
      "<class 'numpy.ndarray'>\n",
      "[[ 2  3]\n",
      " [ 2 11]\n",
      " [ 2 18]\n",
      " [ 4  5]\n",
      " [ 4  7]\n",
      " [ 5  3]\n",
      " [ 5 15]\n",
      " [ 6  6]\n",
      " [ 6  8]\n",
      " [ 6  9]\n",
      " [ 7  2]\n",
      " [ 7  4]\n",
      " [ 7  5]\n",
      " [ 7 17]\n",
      " [ 7 18]\n",
      " [ 8  5]\n",
      " [ 8  4]\n",
      " [ 9 10]\n",
      " [ 9 11]\n",
      " [ 9 15]\n",
      " [ 9 19]\n",
      " [10  5]\n",
      " [10  8]\n",
      " [10 18]\n",
      " [12  6]\n",
      " [13  5]\n",
      " [14 11]\n",
      " [15  6]\n",
      " [15 18]\n",
      " [18 12]]\n"
     ]
    }
   ],
   "source": [
    "# values: 데이터프레임에 저장된 데이터만 넘파이 배열 형태로 얻어온다.\n",
    "print(type(df.values))\n",
    "print(df.values)\n",
    "point = df.values"
   ]
  },
  {
   "cell_type": "markdown",
   "id": "e3951d62",
   "metadata": {},
   "source": [
    "cluctering을 실행할 데이터를 시각화한다."
   ]
  },
  {
   "cell_type": "code",
   "execution_count": 15,
   "id": "d6f5c8e9",
   "metadata": {
    "scrolled": false
   },
   "outputs": [
    {
     "data": {
      "image/png": "[encoded data removed]",
      "text/plain": [
       "<Figure size 864x576 with 1 Axes>"
      ]
     },
     "metadata": {
      "needs_background": "light"
     },
     "output_type": "display_data"
    }
   ],
   "source": [
    "plt.figure(figsize=[12, 8])\n",
    "sns.scatterplot(data=df, x='x', y='y', s=100, hue='cluster', palette='Dark2', style='cluster')\n",
    "plt.title('KMenas 시각화')\n",
    "plt.xlabel('x축')\n",
    "plt.ylabel('y축')\n",
    "plt.show()"
   ]
  },
  {
   "cell_type": "markdown",
   "id": "a3063edb",
   "metadata": {},
   "source": [
    "<img src=\"./images/palette.png\" align=\"left\" width=\"800\"/>"
   ]
  },
  {
   "cell_type": "markdown",
   "id": "dfc8c291",
   "metadata": {},
   "source": [
    "KMeans를 수행하기 위해서는 클러스터링을 수행할 데이터의 주제를 결정하고 얼마나 많은 클러스터를 만들지 결정한다.\n",
    "이 때, 데이터가 정확할 수록 유리하게 클러스터링을 할 수 있고 클러스터링을 수행하는 방법은 무작위 중심(cenrtoid)값 선택, KMeans++ 법등 다양한 방법이 있다.  \n",
    "\n",
    "무작위 중심(cenrtoid)값 선택 알고리즘을 이용한 클러스터링\n",
    "중심에 가까운 데이터를 클러스터에 포함시키고 중심을 클러스터의 중앙으로 이동시키는 과정을 반복해서 수행하면 되는데 더 이상 중심의 위치가 변하지 않을 때 까지 반복하는 것이 일반적인 방법이고 이러한 과정을 거치면 결과적으로 완벽하게 군집화된 클러스터를 얻을 수 있다.  \n",
    "<img src=\"./images/clustering1.png\" align=\"left\" width=\"1200\"/>"
   ]
  },
  {
   "cell_type": "markdown",
   "id": "a7ac25d8",
   "metadata": {},
   "source": [
    "클러스터링을 위한 무작위 중심을 결정하는 방법은 가장 먼저 특정 노드(데이터)를 선택해서 클러스터의 중심으로 설정(파랑색)한다.\n",
    "그 후에는 선택된 노드(파랑색)에서 가장 먼 노드(노랑색)를 두 번째 클러스터의 중심으로 설정한다.\n",
    "그 다음 부터는 이미 선택(파랑색, 노랑색)된 중심점들로 부터 가장 멀리 떨어져있는 노드(녹색)를 선택해서 클러스터의 중심으로 설정한다.  \n",
    "<img src=\"./images/clustering2.png\" align=\"left\" width=\"1200\"/>"
   ]
  },
  {
   "cell_type": "markdown",
   "id": "56c8a741",
   "metadata": {},
   "source": [
    "1, 2, 3 세 개의 클러스터가 존재한다고 가정하고 하나의 데이터를 선택해서 세 개의 클러스터 중심 중에서 가장 가까운 클러스터에 속하도록 만드는 작업을 반복해서 실행한다.  \n",
    "이러한 과정을 전체 데이터에 대해서 실행하면 아래 그림과 같을 것이다.  \n",
    "<img src=\"./images/clustering3.png\" align=\"left\" width=\"1200\"/>"
   ]
  },
  {
   "cell_type": "markdown",
   "id": "daeefc84",
   "metadata": {},
   "source": [
    "대략적으로 군집화가 완료되면 완벽한 군집화를 위해 중심의 위치를 데이터의 중간으로 이동시킨다.  \n",
    "중심의 위치를 이동시키고 다시 모든 데이터에 대해서 어떤 클러스터에 가까운지를 하나씩 체크해서 만약 특정 데이터가 다른 클러스터의 중심에 더 가깝다면 그 클러스터에 속하도록 설정하면 된다.  \n",
    "클러스터 중심의 위치가 더 이상 바뀌지 않으면 클러스터링이 끝난다.  "
   ]
  },
  {
   "cell_type": "markdown",
   "id": "184c4115",
   "metadata": {},
   "source": [
    "KMenas 알고리즘을 이용해서 클러스터 4개를 생성한다."
   ]
  },
  {
   "cell_type": "code",
   "execution_count": 13,
   "id": "457153c6",
   "metadata": {},
   "outputs": [
    {
     "name": "stdout",
     "output_type": "stream",
     "text": [
      "KMeans(n_clusters=4)\n",
      "[[ 5.83333333  5.08333333]\n",
      " [15.66666667 13.66666667]\n",
      " [ 6.375      16.375     ]\n",
      " [11.14285714  7.28571429]]\n",
      "[0 2 2 0 0 0 2 0 0 0 0 0 0 2 2 0 0 3 3 2 2 3 3 2 3 3 1 3 1 1]\n"
     ]
    }
   ],
   "source": [
    "# sklearn 라이브러리의 KMeans 알고리즘을 이용해서 모델을 만들고 데이터프레임의 데이터를 학습시킨다.\n",
    "# n_clusters 속성에 군집화 할 클러스터의 개수를 지정해서 모델을 만들고 fit() 메소드로 학습시킨다.\n",
    "kmeans = KMeans(n_clusters=4).fit(point)\n",
    "print(kmeans)\n",
    "# cluster_centers_: KMeans 알고리즘에 의해 클러스터의 중심 위치를 얻어온다.\n",
    "print(kmeans.cluster_centers_)\n",
    "\n",
    "print(kmeans.labels_)"
   ]
  },
  {
   "cell_type": "markdown",
   "id": "c9cf2bde",
   "metadata": {},
   "source": [
    "데이터프레임에 cluster라는 열을 추가하고 군집화된 결과를 넣어준다."
   ]
  },
  {
   "cell_type": "code",
   "execution_count": 14,
   "id": "8b41c2c7",
   "metadata": {},
   "outputs": [
    {
     "data": {
      "text/html": [
       "<div>\n",
       "<style scoped>\n",
       "    .dataframe tbody tr th:only-of-type {\n",
       "        vertical-align: middle;\n",
       "    }\n",
       "\n",
       "    .dataframe tbody tr th {\n",
       "        vertical-align: top;\n",
       "    }\n",
       "\n",
       "    .dataframe thead th {\n",
       "        text-align: right;\n",
       "    }\n",
       "</style>\n",
       "<table border=\"1\" class=\"dataframe\">\n",
       "  <thead>\n",
       "    <tr style=\"text-align: right;\">\n",
       "      <th></th>\n",
       "      <th>x</th>\n",
       "      <th>y</th>\n",
       "      <th>cluster</th>\n",
       "    </tr>\n",
       "  </thead>\n",
       "  <tbody>\n",
       "    <tr>\n",
       "      <th>0</th>\n",
       "      <td>2</td>\n",
       "      <td>3</td>\n",
       "      <td>0</td>\n",
       "    </tr>\n",
       "    <tr>\n",
       "      <th>1</th>\n",
       "      <td>2</td>\n",
       "      <td>11</td>\n",
       "      <td>2</td>\n",
       "    </tr>\n",
       "    <tr>\n",
       "      <th>2</th>\n",
       "      <td>2</td>\n",
       "      <td>18</td>\n",
       "      <td>2</td>\n",
       "    </tr>\n",
       "    <tr>\n",
       "      <th>3</th>\n",
       "      <td>4</td>\n",
       "      <td>5</td>\n",
       "      <td>0</td>\n",
       "    </tr>\n",
       "    <tr>\n",
       "      <th>4</th>\n",
       "      <td>4</td>\n",
       "      <td>7</td>\n",
       "      <td>0</td>\n",
       "    </tr>\n",
       "    <tr>\n",
       "      <th>5</th>\n",
       "      <td>5</td>\n",
       "      <td>3</td>\n",
       "      <td>0</td>\n",
       "    </tr>\n",
       "    <tr>\n",
       "      <th>6</th>\n",
       "      <td>5</td>\n",
       "      <td>15</td>\n",
       "      <td>2</td>\n",
       "    </tr>\n",
       "    <tr>\n",
       "      <th>7</th>\n",
       "      <td>6</td>\n",
       "      <td>6</td>\n",
       "      <td>0</td>\n",
       "    </tr>\n",
       "    <tr>\n",
       "      <th>8</th>\n",
       "      <td>6</td>\n",
       "      <td>8</td>\n",
       "      <td>0</td>\n",
       "    </tr>\n",
       "    <tr>\n",
       "      <th>9</th>\n",
       "      <td>6</td>\n",
       "      <td>9</td>\n",
       "      <td>0</td>\n",
       "    </tr>\n",
       "    <tr>\n",
       "      <th>10</th>\n",
       "      <td>7</td>\n",
       "      <td>2</td>\n",
       "      <td>0</td>\n",
       "    </tr>\n",
       "    <tr>\n",
       "      <th>11</th>\n",
       "      <td>7</td>\n",
       "      <td>4</td>\n",
       "      <td>0</td>\n",
       "    </tr>\n",
       "    <tr>\n",
       "      <th>12</th>\n",
       "      <td>7</td>\n",
       "      <td>5</td>\n",
       "      <td>0</td>\n",
       "    </tr>\n",
       "    <tr>\n",
       "      <th>13</th>\n",
       "      <td>7</td>\n",
       "      <td>17</td>\n",
       "      <td>2</td>\n",
       "    </tr>\n",
       "    <tr>\n",
       "      <th>14</th>\n",
       "      <td>7</td>\n",
       "      <td>18</td>\n",
       "      <td>2</td>\n",
       "    </tr>\n",
       "    <tr>\n",
       "      <th>15</th>\n",
       "      <td>8</td>\n",
       "      <td>5</td>\n",
       "      <td>0</td>\n",
       "    </tr>\n",
       "    <tr>\n",
       "      <th>16</th>\n",
       "      <td>8</td>\n",
       "      <td>4</td>\n",
       "      <td>0</td>\n",
       "    </tr>\n",
       "    <tr>\n",
       "      <th>17</th>\n",
       "      <td>9</td>\n",
       "      <td>10</td>\n",
       "      <td>3</td>\n",
       "    </tr>\n",
       "    <tr>\n",
       "      <th>18</th>\n",
       "      <td>9</td>\n",
       "      <td>11</td>\n",
       "      <td>3</td>\n",
       "    </tr>\n",
       "    <tr>\n",
       "      <th>19</th>\n",
       "      <td>9</td>\n",
       "      <td>15</td>\n",
       "      <td>2</td>\n",
       "    </tr>\n",
       "    <tr>\n",
       "      <th>20</th>\n",
       "      <td>9</td>\n",
       "      <td>19</td>\n",
       "      <td>2</td>\n",
       "    </tr>\n",
       "    <tr>\n",
       "      <th>21</th>\n",
       "      <td>10</td>\n",
       "      <td>5</td>\n",
       "      <td>3</td>\n",
       "    </tr>\n",
       "    <tr>\n",
       "      <th>22</th>\n",
       "      <td>10</td>\n",
       "      <td>8</td>\n",
       "      <td>3</td>\n",
       "    </tr>\n",
       "    <tr>\n",
       "      <th>23</th>\n",
       "      <td>10</td>\n",
       "      <td>18</td>\n",
       "      <td>2</td>\n",
       "    </tr>\n",
       "    <tr>\n",
       "      <th>24</th>\n",
       "      <td>12</td>\n",
       "      <td>6</td>\n",
       "      <td>3</td>\n",
       "    </tr>\n",
       "    <tr>\n",
       "      <th>25</th>\n",
       "      <td>13</td>\n",
       "      <td>5</td>\n",
       "      <td>3</td>\n",
       "    </tr>\n",
       "    <tr>\n",
       "      <th>26</th>\n",
       "      <td>14</td>\n",
       "      <td>11</td>\n",
       "      <td>1</td>\n",
       "    </tr>\n",
       "    <tr>\n",
       "      <th>27</th>\n",
       "      <td>15</td>\n",
       "      <td>6</td>\n",
       "      <td>3</td>\n",
       "    </tr>\n",
       "    <tr>\n",
       "      <th>28</th>\n",
       "      <td>15</td>\n",
       "      <td>18</td>\n",
       "      <td>1</td>\n",
       "    </tr>\n",
       "    <tr>\n",
       "      <th>29</th>\n",
       "      <td>18</td>\n",
       "      <td>12</td>\n",
       "      <td>1</td>\n",
       "    </tr>\n",
       "  </tbody>\n",
       "</table>\n",
       "</div>"
      ],
      "text/plain": [
       "     x   y  cluster\n",
       "0    2   3        0\n",
       "1    2  11        2\n",
       "2    2  18        2\n",
       "3    4   5        0\n",
       "4    4   7        0\n",
       "5    5   3        0\n",
       "6    5  15        2\n",
       "7    6   6        0\n",
       "8    6   8        0\n",
       "9    6   9        0\n",
       "10   7   2        0\n",
       "11   7   4        0\n",
       "12   7   5        0\n",
       "13   7  17        2\n",
       "14   7  18        2\n",
       "15   8   5        0\n",
       "16   8   4        0\n",
       "17   9  10        3\n",
       "18   9  11        3\n",
       "19   9  15        2\n",
       "20   9  19        2\n",
       "21  10   5        3\n",
       "22  10   8        3\n",
       "23  10  18        2\n",
       "24  12   6        3\n",
       "25  13   5        3\n",
       "26  14  11        1\n",
       "27  15   6        3\n",
       "28  15  18        1\n",
       "29  18  12        1"
      ]
     },
     "execution_count": 14,
     "metadata": {},
     "output_type": "execute_result"
    }
   ],
   "source": [
    "df['cluster'] = kmeans.labels_\n",
    "df"
   ]
  },
  {
   "cell_type": "markdown",
   "id": "2cde3b47",
   "metadata": {},
   "source": [
    "클러스터링된 결과를 시각화한다."
   ]
  },
  {
   "cell_type": "code",
   "execution_count": 16,
   "id": "e75d739d",
   "metadata": {},
   "outputs": [
    {
     "data": {
      "image/png": "[encoded data removed]",
      "text/plain": [
       "<Figure size 864x576 with 1 Axes>"
      ]
     },
     "metadata": {
      "needs_background": "light"
     },
     "output_type": "display_data"
    }
   ],
   "source": [
    "plt.figure(figsize=[12, 8])\n",
    "# 군집화된 결과를 hue 속성에 지정해서 서로다른 색상으로 구분한다.\n",
    "# palette 속성을 지정하면 시각화되는 데이터의 색상을 변경할 수 있다. 종류는 palette.png 참조\n",
    "# 색상이 잘 구분되지 않으면 palette 속성으로 색상 팔레트를 지정하면 된다.\n",
    "# 색상 팔레트 이름\n",
    "# BrBG, PiYG, PRGn, PuOr, RdBu, RdGy, RdYlBu, RdYlGn, Spectral, Accent, Dark2, Paired, Pastel1, Pastel2\n",
    "# Set1, Set2, Set3, Blues, BuGn, BuPu, GnBu, Greens, Greys, Oranges, OrRd, PuBu, PuBuGn, PuRd, Purples\n",
    "# RdPu, Reds, YlGn, YlGnBu, YlOrBr, YlOrRd\n",
    "# style 속성을 사용해 scatter 모양을 다양하게 표시할 수 있다.\n",
    "sns.scatterplot(data=df, x='x', y='y', s=100, hue='cluster', palette='Dark2', style='cluster')\n",
    "plt.title('KMenas 시각화')\n",
    "plt.xlabel('x축')\n",
    "plt.ylabel('y축')\n",
    "plt.show()"
   ]
  },
  {
   "cell_type": "code",
   "execution_count": null,
   "id": "98b9f950",
   "metadata": {},
   "outputs": [],
   "source": []
  }
 ],
 "metadata": {
  "kernelspec": {
   "display_name": "Python 3",
   "language": "python",
   "name": "python3"
  },
  "language_info": {
   "codemirror_mode": {
    "name": "ipython",
    "version": 3
   },
   "file_extension": ".py",
   "mimetype": "text/x-python",
   "name": "python",
   "nbconvert_exporter": "python",
   "pygments_lexer": "ipython3",
   "version": "3.6.8"
  }
 },
 "nbformat": 4,
 "nbformat_minor": 5
}
