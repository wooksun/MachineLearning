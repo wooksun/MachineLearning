{
 "cells": [
  {
   "cell_type": "code",
   "execution_count": 1,
   "id": "6c55d7a7",
   "metadata": {},
   "outputs": [
    {
     "name": "stdout",
     "output_type": "stream",
     "text": [
      "WARNING:tensorflow:From c:\\python\\lib\\site-packages\\tensorflow\\python\\compat\\v2_compat.py:101: disable_resource_variables (from tensorflow.python.ops.variable_scope) is deprecated and will be removed in a future version.\n",
      "Instructions for updating:\n",
      "non-resource variables are not supported in the long term\n"
     ]
    }
   ],
   "source": [
    "import warnings\n",
    "warnings.filterwarnings(action='ignore')\n",
    "%config Completer.use_jedi = False\n",
    "import tensorflow.compat.v1 as tf # tensolflow 1.x 버전을 사용한다.\n",
    "tf.disable_v2_behavior() # tensorflow 2.x 버전의 문법을 사용하지 않겠다고 선언한다. => 1.x 버전을 사용할 시에 코딩\n",
    "import numpy as np\n",
    "import pandas as pd"
   ]
  },
  {
   "cell_type": "code",
   "execution_count": 2,
   "id": "56bfd24f",
   "metadata": {},
   "outputs": [
    {
     "name": "stdout",
     "output_type": "stream",
     "text": [
      "[[2, 3], [4, 3], [6, 4], [8, 6], [10, 7], [12, 8], [14, 9]]\n",
      "<class 'list'>\n",
      "[[ 2  3]\n",
      " [ 4  3]\n",
      " [ 6  4]\n",
      " [ 8  6]\n",
      " [10  7]\n",
      " [12  8]\n",
      " [14  9]]\n",
      "<class 'numpy.ndarray'>\n"
     ]
    }
   ],
   "source": [
    "# x => [공부 시간, 과외 시간]\n",
    "x = [[2, 3], [4, 3], [6, 4], [8, 6], [10, 7], [12, 8], [14, 9]] # 7행 2열\n",
    "print(x)\n",
    "print(type(x))\n",
    "\n",
    "xData = np.array(x)\n",
    "print(xData)\n",
    "print(type(xData))"
   ]
  },
  {
   "cell_type": "code",
   "execution_count": 3,
   "id": "9114df2c",
   "metadata": {},
   "outputs": [
    {
     "name": "stdout",
     "output_type": "stream",
     "text": [
      "[0, 0, 0, 1, 1, 1, 1]\n",
      "<class 'list'>\n",
      "[0 0 0 1 1 1 1]\n",
      "<class 'numpy.ndarray'>\n",
      "[[0]\n",
      " [0]\n",
      " [0]\n",
      " [1]\n",
      " [1]\n",
      " [1]\n",
      " [1]]\n",
      "<class 'numpy.ndarray'>\n"
     ]
    }
   ],
   "source": [
    "# y => [합격 여부] => 실제값\n",
    "y = [0, 0, 0, 1, 1, 1, 1] # 1행 7열\n",
    "print(y)\n",
    "print(type(y))\n",
    "\n",
    "yData = np.array(y)\n",
    "print(yData)\n",
    "print(type(yData))\n",
    "\n",
    "# reshape(): numpy에서 데이터는 그대로 유지한채 배열의 형태(차원)을 변경한다.\n",
    "# 1행 7열 numpy 배열 => 7행 1열 numpy 배열\n",
    "yData = np.array(y).reshape(7, 1)\n",
    "print(yData)\n",
    "print(type(yData))"
   ]
  },
  {
   "cell_type": "markdown",
   "id": "a1a948a7",
   "metadata": {},
   "source": [
    "xData와 yData를 저장할 placeholder를 만든다."
   ]
  },
  {
   "cell_type": "code",
   "execution_count": 4,
   "id": "2fc834c5",
   "metadata": {},
   "outputs": [],
   "source": [
    "# placeholder에 넘파이 배열을 대입하는 경우 shape 속성을 이용해서 대입될 넘파이 배열의 차원을 지정해야 한다.\n",
    "# [None, 2] => placeholder에 대입될 넘파이 배열의 행의 개수는 몇개라도 상관없고 열의 개수는 무조건 2개라는 의미이다.\n",
    "X = tf.placeholder(dtype=tf.float32, shape=[None, 2]) # xData가 대입될 placeholder\n",
    "Y = tf.placeholder(dtype=tf.float32, shape=[None, 1]) # yData가 대입될 placeholder"
   ]
  },
  {
   "cell_type": "markdown",
   "id": "2b1137aa",
   "metadata": {},
   "source": [
    "가중치와 y절편을 임의의 값으로 정한다."
   ]
  },
  {
   "cell_type": "code",
   "execution_count": 5,
   "id": "60e60d02",
   "metadata": {},
   "outputs": [
    {
     "name": "stdout",
     "output_type": "stream",
     "text": [
      "a\n",
      "[[0.05585134]\n",
      " [0.44677234]]\n",
      "b\n",
      "[0.89848363]\n",
      "================================================================================\n",
      "a1: 0.055851, a2: 0.446772, b: 0.898484\n",
      "================================================================================\n",
      "a1: 0.055851, a2: 0.446772, b: 0.898484\n"
     ]
    }
   ],
   "source": [
    "a = tf.Variable(tf.random_uniform([2, 1], dtype=tf.float32)) # 난수를 2행 1열로 발생시킨다.\n",
    "b = tf.Variable(tf.random_uniform([1], dtype=tf.float32)) \n",
    "sess = tf.Session()\n",
    "sess.run(tf.global_variables_initializer())\n",
    "print('a\\n', sess.run(a), sep='')\n",
    "print('b\\n', sess.run(b), sep='')\n",
    "print('=' * 80)\n",
    "print('a1: {:f}, a2: {:f}, b: {:f}'.format(sess.run(a)[0][0], sess.run(a)[1][0], sess.run(b)[0]))\n",
    "print('=' * 80)\n",
    "print('a1: %f, a2: %f, b: %f' % (sess.run(a)[0], sess.run(a)[1], sess.run(b)))"
   ]
  },
  {
   "cell_type": "markdown",
   "id": "6bc9af1c",
   "metadata": {},
   "source": [
    "시그모이드 방정식, 오차 함수, 경사 하강"
   ]
  },
  {
   "cell_type": "code",
   "execution_count": 6,
   "id": "849cb5f2",
   "metadata": {},
   "outputs": [],
   "source": [
    "# sigmoid(): tensorflow에서 시그모이드 방정식을 계산한다.\n",
    "# matmul(): tensorflow에서 행렬의 곱(적)을 계산한다.\n",
    "# Y = 1 / (1 + np.e ** -(a1 * x1 + a2 * x2 + b))\n",
    "y = tf.sigmoid(tf.matmul(X, a) + b) # 시그모이드 방정식, 예측값\n",
    "loss = -tf.reduce_mean(Y * tf.log(y) + (1 - Y) * tf.log(1 - y)) # 오차 함수\n",
    "gratident_descent = tf.train.GradientDescentOptimizer(0.1).minimize(loss) # 경사 하강"
   ]
  },
  {
   "cell_type": "markdown",
   "id": "b906703a",
   "metadata": {},
   "source": [
    "sigmoid() 메소드의 실행 결과(y)가 0.5 이상이면 1을, 0.5 미만이면 -1을 리턴시킨다."
   ]
  },
  {
   "cell_type": "code",
   "execution_count": 7,
   "id": "67467dfd",
   "metadata": {},
   "outputs": [
    {
     "name": "stdout",
     "output_type": "stream",
     "text": [
      "[1 2]\n",
      "[1 0]\n",
      "[1 0]\n"
     ]
    }
   ],
   "source": [
    "sess = tf.Session()\n",
    "# cast(data, dtype): tensorflow에서 데이터(data)를 dtype으로 형변환한다.\n",
    "predict = tf.cast(tf.constant([1.9, 2.1]), dtype=tf.int32)\n",
    "print(sess.run(predict)) # [1 2]\n",
    "# cast() 메소드는 캐스팅할 데이터가 boolean 타입이면 True는 1로 False는 0으로 형변환한다.\n",
    "predict = tf.cast(tf.constant([True, False]), dtype=tf.int32)\n",
    "print(sess.run(predict)) # [1 0]\n",
    "predict = tf.cast([0.5 >= 0.5, 0.5 < 0.5], dtype=tf.int32)\n",
    "print(sess.run(predict)) # [1 0]"
   ]
  },
  {
   "cell_type": "markdown",
   "id": "deb22a59",
   "metadata": {},
   "source": [
    "sigmoid() 메소드를 실행한 예상값(0 또는 1)을 계산한다."
   ]
  },
  {
   "cell_type": "code",
   "execution_count": 10,
   "id": "cb30e506",
   "metadata": {},
   "outputs": [],
   "source": [
    "predict = tf.cast(y >= 0.5, dtype=tf.float32)"
   ]
  },
  {
   "cell_type": "markdown",
   "id": "7e4ebaae",
   "metadata": {},
   "source": [
    "예측값(predict)과 실제값(Y)이 일치하는 정도(정확도, accuracy)를 계산한다."
   ]
  },
  {
   "cell_type": "code",
   "execution_count": 11,
   "id": "19faa8ed",
   "metadata": {},
   "outputs": [
    {
     "name": "stdout",
     "output_type": "stream",
     "text": [
      "True False\n"
     ]
    }
   ],
   "source": [
    "sess = tf.Session()\n",
    "# equal(): 인수로 지정한 값이 같으면 True, 다르면 False를 리턴한다.\n",
    "print(sess.run(tf.equal(1, 1)), sess.run(tf.equal(1, 0))) # True False\n",
    "# 정확도 : 예측값과 실제값 비교 후 T/F를 1/0으로 캐스팅하고 평균을 계산한다.\n",
    "accuracy = tf.reduce_mean(tf.cast(tf.equal(predict, Y), dtype=tf.int32)) # 예측값 vs 실제값"
   ]
  },
  {
   "cell_type": "markdown",
   "id": "24cc0b85",
   "metadata": {},
   "source": [
    "학습시킨다."
   ]
  },
  {
   "cell_type": "code",
   "execution_count": 16,
   "id": "0149c688",
   "metadata": {},
   "outputs": [
    {
     "name": "stdout",
     "output_type": "stream",
     "text": [
      "epoch:      0, loss:  1.8060, a1:  0.0441, a2:  0.8441, b:  0.0196\n",
      "epoch:    300, loss:  0.2435, a1:  0.6678, a2: -0.2749, b: -2.8224\n",
      "epoch:    600, loss:  0.1769, a1:  0.7040, a2: -0.0682, b: -4.2080\n",
      "epoch:    900, loss:  0.1400, a1:  0.6397, a2:  0.2132, b: -5.2152\n",
      "epoch:   1200, loss:  0.1158, a1:  0.5554, a2:  0.4853, b: -6.0174\n",
      "epoch:   1500, loss:  0.0985, a1:  0.4712, a2:  0.7326, b: -6.6865\n",
      "epoch:   1800, loss:  0.0856, a1:  0.3930, a2:  0.9536, b: -7.2613\n",
      "epoch:   2100, loss:  0.0757, a1:  0.3222, a2:  1.1509, b: -7.7654\n",
      "epoch:   2400, loss:  0.0678, a1:  0.2586, a2:  1.3276, b: -8.2147\n",
      "epoch:   2700, loss:  0.0613, a1:  0.2017, a2:  1.4865, b: -8.6199\n",
      "epoch:   3000, loss:  0.0560, a1:  0.1505, a2:  1.6304, b: -8.9890\n"
     ]
    }
   ],
   "source": [
    "sess = tf.Session()\n",
    "sess.run(tf.global_variables_initializer())\n",
    "\n",
    "for epoch in range(3001):\n",
    "    # sess.run([실행할 내용, ...], feed_dict={플레이스홀더 이름: 플레이스홀더에 저장할 데이터, ...})\n",
    "    a_, b_, loss_, _ = sess.run([a, b, loss, gratident_descent], feed_dict={X: xData, Y: yData})\n",
    "    if epoch % 300 == 0:\n",
    "        print('epoch: {:6d}, loss: {:7.4f}, a1: {:7.4f}, a2: {:7.4f}, b: {:7.4f}'.format(epoch, loss_, a_[0][0], a_[1][0], b_[0]))"
   ]
  },
  {
   "cell_type": "code",
   "execution_count": null,
   "id": "d048e87d",
   "metadata": {},
   "outputs": [],
   "source": []
  },
  {
   "cell_type": "code",
   "execution_count": null,
   "id": "c8585d98",
   "metadata": {},
   "outputs": [],
   "source": []
  }
 ],
 "metadata": {
  "kernelspec": {
   "display_name": "Python 3",
   "language": "python",
   "name": "python3"
  },
  "language_info": {
   "codemirror_mode": {
    "name": "ipython",
    "version": 3
   },
   "file_extension": ".py",
   "mimetype": "text/x-python",
   "name": "python",
   "nbconvert_exporter": "python",
   "pygments_lexer": "ipython3",
   "version": "3.6.8"
  }
 },
 "nbformat": 4,
 "nbformat_minor": 5
}
