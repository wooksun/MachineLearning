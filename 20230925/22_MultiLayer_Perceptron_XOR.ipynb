{
 "cells": [
  {
   "cell_type": "code",
   "execution_count": 1,
   "id": "620cd39a",
   "metadata": {},
   "outputs": [
    {
     "name": "stdout",
     "output_type": "stream",
     "text": [
      "WARNING:tensorflow:From c:\\python\\lib\\site-packages\\tensorflow\\python\\compat\\v2_compat.py:101: disable_resource_variables (from tensorflow.python.ops.variable_scope) is deprecated and will be removed in a future version.\n",
      "Instructions for updating:\n",
      "non-resource variables are not supported in the long term\n"
     ]
    }
   ],
   "source": [
    "import warnings\n",
    "warnings.filterwarnings(action='ignore')\n",
    "%config Completer.use_jedi = False\n",
    "import tensorflow.compat.v1 as tf\n",
    "tf.disable_v2_behavior()"
   ]
  },
  {
   "cell_type": "markdown",
   "id": "7de54e94",
   "metadata": {},
   "source": [
    "<img src=\"./images/multiLayer perceptron1.png\" align=\"left\" width=\"1500\"/>"
   ]
  },
  {
   "cell_type": "markdown",
   "id": "9b912242",
   "metadata": {},
   "source": [
    "<img src=\"./images/multiLayer perceptron2.png\" align=\"left\" width=\"1500\"/>"
   ]
  },
  {
   "cell_type": "markdown",
   "id": "44b22443",
   "metadata": {},
   "source": [
    "<img src=\"./images/multiLayer perceptron3.png\" align=\"left\" width=\"1500\"/>"
   ]
  },
  {
   "cell_type": "markdown",
   "id": "411fccf6",
   "metadata": {},
   "source": [
    "<img src=\"./images/multiLayer perceptron4.png\" align=\"left\" width=\"1500\"/>"
   ]
  },
  {
   "cell_type": "markdown",
   "id": "e32b6b86",
   "metadata": {},
   "source": [
    "<img src=\"./images/multiLayer perceptron5.png\" align=\"left\" width=\"1000\"/>"
   ]
  },
  {
   "cell_type": "markdown",
   "id": "bd3a2034",
   "metadata": {},
   "source": [
    "XOR 연산은 입력 데이터를 X라고 할 경우[[0,0], [0, 1], [1, 0], [1, 1]]과 같은 경우의 수가 있다.  \n",
    "총 4개의 데이터가 각각 2개의 특성을 가지고 있으므로 X는 [4, 2]의 형태로 정의할 수 있다.  \n",
    "입력값에 따른 출력값 Y는 [[0], [1], [1], [0]]이므로 Y는 [4, 1]의 형태로 정의할 수 있다."
   ]
  },
  {
   "cell_type": "code",
   "execution_count": 2,
   "id": "ad0ee30a",
   "metadata": {},
   "outputs": [],
   "source": [
    "X = tf.placeholder(dtype=tf.float32, shape=[4, 2]) # 입력값\n",
    "Y = tf.placeholder(dtype=tf.float32, shape=[4, 1]) # 출력값"
   ]
  },
  {
   "cell_type": "markdown",
   "id": "93dfa177",
   "metadata": {},
   "source": [
    "1번째 히든 레이어에서 2개의 입력(X)과 1개의 편향값(B1)을 받아서 2개의 시그모이드 출력(Z)을 다음 레이어로 전달한다."
   ]
  },
  {
   "cell_type": "code",
   "execution_count": 3,
   "id": "35d31f91",
   "metadata": {},
   "outputs": [],
   "source": [
    "# 2개의 입력을 받는 2개의 뉴런을 만든다.\n",
    "# random_normal() 메소드는 정규 분포로 부터 난수값을 반환하고 random_uniform()은 균등 분포로 부터 난수값을 반환한다.\n",
    "W1 = tf.Variable(tf.random_normal([2, 2]))\n",
    "# 각 뉴런은 1개의 편향값을 가진다.\n",
    "# zeros() 메소드는 모든 원소의 값이 0인 텐서(2차원 이상의 행렬)를 생성한다.\n",
    "B1 = tf.Variable(tf.zeros([2]))\n",
    "# 시그모이드 함수를 거쳐 출력값으로 Z를 리턴한다. => tf.sigmoid(W1 * X + B1)\n",
    "Z = tf.sigmoid(tf.matmul(X, W1) + B1)"
   ]
  },
  {
   "cell_type": "code",
   "execution_count": 4,
   "id": "b0e0a399",
   "metadata": {},
   "outputs": [
    {
     "name": "stdout",
     "output_type": "stream",
     "text": [
      "[[ 0.8811427   0.953503  ]\n",
      " [-0.64716905 -1.4921741 ]]\n",
      "[0. 0.]\n",
      "[[0.5        0.5       ]\n",
      " [0.34362775 0.18359566]\n",
      " [0.7070589  0.7218191 ]\n",
      " [0.558228   0.36849678]]\n"
     ]
    }
   ],
   "source": [
    "sess = tf.Session()\n",
    "sess.run(tf.global_variables_initializer())\n",
    "print(sess.run(W1)) # 랜덤값\n",
    "print(sess.run(B1))\n",
    "train_X = [[0,0], [0, 1], [1, 0], [1, 1]]\n",
    "print(sess.run(Z, feed_dict={X: train_X}))\n",
    "sess.close()"
   ]
  },
  {
   "cell_type": "markdown",
   "id": "0acdfbf6",
   "metadata": {},
   "source": [
    "2번째 히든 레이어에서 1번째 히든 레이어의 출력값인 Z와 1개의 편향값을 받아서 1개의 시그모이드를 출력(Y_hat)한다."
   ]
  },
  {
   "cell_type": "code",
   "execution_count": 5,
   "id": "608a6a8e",
   "metadata": {},
   "outputs": [],
   "source": [
    "# Z를 입력값으로 받는 1개의 뉴런을 만든다.\n",
    "W2 = tf.Variable(tf.random_normal([2, 1]))\n",
    "# 각 뉴런은 1개의 편향값을 가진다.\n",
    "B2 = tf.Variable(tf.zeros([1]))\n",
    "# 시그모이드 함수를 거쳐 출력값으로 Z를 리턴한다. => tf.sigmoid(W2 * X + B2)\n",
    "Y_hat = tf.sigmoid(tf.matmul(Z, W2) + B2)"
   ]
  },
  {
   "cell_type": "code",
   "execution_count": 6,
   "id": "9f20d04a",
   "metadata": {},
   "outputs": [
    {
     "name": "stdout",
     "output_type": "stream",
     "text": [
      "[[-1.2838403]\n",
      " [ 1.0382979]]\n",
      "[0.]\n",
      "[[0.4693457 ]\n",
      " [0.42183816]\n",
      " [0.6240465 ]\n",
      " [0.53369373]]\n"
     ]
    }
   ],
   "source": [
    "sess = tf.Session()\n",
    "sess.run(tf.global_variables_initializer())\n",
    "print(sess.run(W2))\n",
    "print(sess.run(B2))\n",
    "print(sess.run(Y_hat, feed_dict={X: train_X}))\n",
    "sess.close()"
   ]
  },
  {
   "cell_type": "markdown",
   "id": "17afb658",
   "metadata": {},
   "source": [
    "손실 함수로 크로스 엔트로피를 사용하고, 경사 하강법으로 모델의 매개 변수(가중치, 편향)을 최적화 한다."
   ]
  },
  {
   "cell_type": "code",
   "execution_count": 7,
   "id": "e54f9b28",
   "metadata": {},
   "outputs": [],
   "source": [
    "# 크로스 엔트로피\n",
    "loss = tf.reduce_mean(\n",
    "    -1 * (Y * tf.log(Y_hat) + (1.0 - Y) * tf.log(1.0 - Y_hat))\n",
    ")\n",
    "# 경사 하강법\n",
    "train_step = tf.train.GradientDescentOptimizer(0.05).minimize(loss)\n",
    "# 모델을 학습하기 위한 데이터를 만든다.\n",
    "train_X = [[0,0], [0, 1], [1, 0], [1, 1]]\n",
    "train_Y = [[0], [1], [1], [0]]"
   ]
  },
  {
   "cell_type": "markdown",
   "id": "87ecffd3",
   "metadata": {},
   "source": [
    "학습을 진행한다."
   ]
  },
  {
   "cell_type": "code",
   "execution_count": 8,
   "id": "502d4559",
   "metadata": {},
   "outputs": [
    {
     "name": "stdout",
     "output_type": "stream",
     "text": [
      "학습 데이터: [[0, 0], [0, 1], [1, 0], [1, 1]]\n",
      "================================================================================\n",
      "epoch: 0\n",
      "output\n",
      "[[0.49093974]\n",
      " [0.485585  ]\n",
      " [0.47344896]\n",
      " [0.47223377]]\n",
      "================================================================================\n",
      "epoch: 5000\n",
      "output\n",
      "[[0.1777032 ]\n",
      " [0.7199008 ]\n",
      " [0.5523686 ]\n",
      " [0.60113823]]\n",
      "================================================================================\n",
      "epoch: 10000\n",
      "output\n",
      "[[0.04285073]\n",
      " [0.9442527 ]\n",
      " [0.5024451 ]\n",
      " [0.5256334 ]]\n",
      "================================================================================\n",
      "epoch: 15000\n",
      "output\n",
      "[[0.0204283 ]\n",
      " [0.9771537 ]\n",
      " [0.4989364 ]\n",
      " [0.51088995]]\n",
      "================================================================================\n",
      "epoch: 20000\n",
      "output\n",
      "[[0.01316363]\n",
      " [0.98650277]\n",
      " [0.49867392]\n",
      " [0.50651467]]\n",
      "================================================================================\n"
     ]
    }
   ],
   "source": [
    "with tf.Session() as sess:\n",
    "    sess.run(tf.global_variables_initializer())\n",
    "    print('학습 데이터: {}'.format(train_X))\n",
    "    print('=' * 80)\n",
    "    \n",
    "    for epoch in range(20001):\n",
    "        sess.run(train_step, feed_dict={X: train_X, Y: train_Y})\n",
    "        if epoch % 5000 == 0:\n",
    "            print('epoch: {}'.format(epoch))\n",
    "            print('output\\n', sess.run(Y_hat, feed_dict={X: train_X, Y: train_Y}), sep='')\n",
    "            print('=' * 80)"
   ]
  },
  {
   "cell_type": "markdown",
   "id": "a7d8a4f9",
   "metadata": {},
   "source": [
    "학습 결과를 통해 [0, 0], [1, 1]은 0에 상당히 가까운 값을 출력하고 [0, 1], [1, 0]은 1에 상당히 가까운 값을 출력하는 것을 확인할 수 있다."
   ]
  },
  {
   "cell_type": "code",
   "execution_count": null,
   "id": "168ccf9a",
   "metadata": {},
   "outputs": [],
   "source": []
  },
  {
   "cell_type": "code",
   "execution_count": null,
   "id": "23e48b8b",
   "metadata": {},
   "outputs": [],
   "source": []
  },
  {
   "cell_type": "code",
   "execution_count": null,
   "id": "6f1ccf44",
   "metadata": {},
   "outputs": [],
   "source": []
  },
  {
   "cell_type": "code",
   "execution_count": null,
   "id": "297ba636",
   "metadata": {},
   "outputs": [],
   "source": []
  },
  {
   "cell_type": "code",
   "execution_count": null,
   "id": "2749e955",
   "metadata": {},
   "outputs": [],
   "source": []
  }
 ],
 "metadata": {
  "kernelspec": {
   "display_name": "Python 3",
   "language": "python",
   "name": "python3"
  },
  "language_info": {
   "codemirror_mode": {
    "name": "ipython",
    "version": 3
   },
   "file_extension": ".py",
   "mimetype": "text/x-python",
   "name": "python",
   "nbconvert_exporter": "python",
   "pygments_lexer": "ipython3",
   "version": "3.6.8"
  }
 },
 "nbformat": 4,
 "nbformat_minor": 5
}
