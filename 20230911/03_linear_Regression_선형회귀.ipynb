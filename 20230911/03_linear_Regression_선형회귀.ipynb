{
 "cells": [
  {
   "cell_type": "code",
   "execution_count": 1,
   "id": "aa67d20f",
   "metadata": {},
   "outputs": [
    {
     "name": "stdout",
     "output_type": "stream",
     "text": [
      "WARNING:tensorflow:From c:\\python\\lib\\site-packages\\tensorflow\\python\\compat\\v2_compat.py:101: disable_resource_variables (from tensorflow.python.ops.variable_scope) is deprecated and will be removed in a future version.\n",
      "Instructions for updating:\n",
      "non-resource variables are not supported in the long term\n"
     ]
    }
   ],
   "source": [
    "import warnings\n",
    "warnings.filterwarnings(action='ignore')\n",
    "%config Completer.use_jedi = False\n",
    "import tensorflow.compat.v1 as tf # tensolflow 1.x 버전을 사용한다.\n",
    "tf.disable_v2_behavior() # tensorflow 2.x 버전의 문법을 사용하지 않겠다고 선언한다. => 1.x 버전을 사용할 시에 코딩"
   ]
  },
  {
   "cell_type": "markdown",
   "id": "d9a525f6",
   "metadata": {},
   "source": [
    "학습 데이터를 만든다."
   ]
  },
  {
   "cell_type": "code",
   "execution_count": 2,
   "id": "5e913d45",
   "metadata": {},
   "outputs": [],
   "source": [
    "xData = [1, 2, 3, 4, 5, 6, 7] # 1일 근무 시간\n",
    "yData = [25000, 55000, 75000, 110000, 128000, 155000, 180000] # 근무시간에 따른 매출 금액, 실제값, 관측값, 답, 레이블"
   ]
  },
  {
   "cell_type": "markdown",
   "id": "7d5f36b3",
   "metadata": {},
   "source": [
    "과적합을 방지하기 위해서 난수를 발생시켜 기울기(가중치)와 y절편(바이어스)을 정한다.  \n",
    "과적합이란? 학습시킨 데이터에서는 높은 정확도를 보이지만, 학습시킨 데이터 이외의 데이터에서는 낮은 정확도를 보이는 문제점을 말한다."
   ]
  },
  {
   "cell_type": "code",
   "execution_count": 3,
   "id": "d8c7f216",
   "metadata": {},
   "outputs": [
    {
     "name": "stdout",
     "output_type": "stream",
     "text": [
      "a = <tf.Variable 'Variable:0' shape=(1,) dtype=float32_ref>, b = <tf.Variable 'Variable_1:0' shape=(1,) dtype=float32_ref>\n"
     ]
    }
   ],
   "source": [
    "# random_uniform([난수의 개수], 최소값, 최대값): 최대값과 최소값 사이에서 지정한 개수의 난수를 발생시킨다.\n",
    "a = tf.Variable(tf.random_uniform([1], -100, 100)) # 기울기(가중치), -100 ~ 100 사이의 난수\n",
    "b = tf.Variable(tf.random_uniform([1], -100, 100)) # y절편(바이어스), -100 ~ 100 사이의 난수\n",
    "print('a = {}, b = {}'.format(a, b))"
   ]
  },
  {
   "cell_type": "markdown",
   "id": "8237f60d",
   "metadata": {},
   "source": [
    "tensorflow 변수를 초기화하고 난수로 발생시킨 기울기와 y절편의 값을 확인한다."
   ]
  },
  {
   "cell_type": "code",
   "execution_count": 4,
   "id": "db40283c",
   "metadata": {},
   "outputs": [
    {
     "name": "stdout",
     "output_type": "stream",
     "text": [
      "a = [39.520737], b = [-25.666832]\n"
     ]
    }
   ],
   "source": [
    "sess = tf.Session()\n",
    "sess.run(tf.global_variables_initializer())\n",
    "print('a = {}, b = {}'.format(sess.run(a), sess.run(b)))"
   ]
  },
  {
   "cell_type": "markdown",
   "id": "b762f05f",
   "metadata": {},
   "source": [
    "근무 시간과 매출 금액을 기억할 tensorflow에서 사용할 자료형(placeholder)를 선언한다."
   ]
  },
  {
   "cell_type": "code",
   "execution_count": 7,
   "id": "0ddbc35b",
   "metadata": {},
   "outputs": [],
   "source": [
    "x = tf.placeholder(dtype=tf.float32) # 근무 시간을 기억할 placeholder를 선언한다.\n",
    "y = tf.placeholder(dtype=tf.float32) # 매출 금액을 기억할 placeholder를 선언한다."
   ]
  },
  {
   "cell_type": "markdown",
   "id": "34d5e3e0",
   "metadata": {},
   "source": [
    "1차 방정식 형태의 가설을 세우고 오차(손실, 비용) 함수를 정의한다."
   ]
  },
  {
   "cell_type": "code",
   "execution_count": 8,
   "id": "9e29b3fb",
   "metadata": {},
   "outputs": [],
   "source": [
    "# 1차 방정식 형태의 가설, Y => 예측값\n",
    "Y = a * x + b\n",
    "# 평균 제곱법을 이용하는 오차 함수\n",
    "# 실제값(yData => y라는 placeholder에 저장한다.)과 예측값(Y)의 편차에 대한 제곱의 평균을 이용한다.\n",
    "# square(): tensorflow에서 제곱값을 계산한다.\n",
    "# reduce_mean(): tensorflow에서 평균을 계산한다.\n",
    "cost = tf.reduce_mean(tf.square(Y - y))"
   ]
  },
  {
   "cell_type": "markdown",
   "id": "883a1999",
   "metadata": {},
   "source": [
    "경사 하강법 메소드로 오차 함수의 실행 결과를 가장 작게(최소) 만드는 방향으로 학습하도록 정의한다."
   ]
  },
  {
   "cell_type": "code",
   "execution_count": 9,
   "id": "2182a283",
   "metadata": {},
   "outputs": [],
   "source": [
    "# 경사 하상 알고리즘의 학습율(learning rate)을 설정한다.\n",
    "learning_rate = tf.Variable(0.01)\n",
    "# train.GradientDescentOptimizer(학습율): 학습율에 따른 오차를 계산한다.\n",
    "# minimize(오차 함수): 경하 하강 알고리즘에 따라 인수로 지정된 오차 함수 실행 결과의 최소값을 찾는다.\n",
    "train = tf.train.GradientDescentOptimizer(learning_rate).minimize(cost)"
   ]
  },
  {
   "cell_type": "markdown",
   "id": "68870b6e",
   "metadata": {},
   "source": [
    "학습시킨다."
   ]
  },
  {
   "cell_type": "code",
   "execution_count": 20,
   "id": "b08a7e7e",
   "metadata": {},
   "outputs": [
    {
     "name": "stdout",
     "output_type": "stream",
     "text": [
      "epoch:    0, 오차:  4557753344.00, 기울기: 10421.152, y절편:  2129.685\n",
      "epoch:  500, 오차:     8688544.00, 기울기: 25536.123, y절편:  1957.111\n",
      "epoch: 1000, 오차:     8633839.00, 기울기: 25627.305, y절편:  1505.591\n",
      "epoch: 1500, 오차:     8632673.00, 기울기: 25640.590, y절편:  1439.799\n",
      "epoch: 2000, 오차:     8632647.00, 기울기: 25642.527, y절편:  1430.208\n",
      "epoch: 2500, 오차:     8632652.00, 기울기: 25642.805, y절편:  1428.823\n",
      "epoch: 3000, 오차:     8632657.00, 기울기: 25642.844, y절편:  1428.634\n",
      "epoch: 3500, 오차:     8632656.00, 기울기: 25642.848, y절편:  1428.613\n",
      "epoch: 4000, 오차:     8632656.00, 기울기: 25642.848, y절편:  1428.613\n",
      "epoch: 4500, 오차:     8632656.00, 기울기: 25642.848, y절편:  1428.613\n",
      "epoch: 5000, 오차:     8632656.00, 기울기: 25642.848, y절편:  1428.613\n",
      "기울기: 25642.848, y절편:  1428.613\n",
      "8시간 근무했을 때 예상 매출 금액: 206,571원\n"
     ]
    }
   ],
   "source": [
    "# Session을 만들고 변수를 초기화 시킨다.\n",
    "sess = tf.Session()\n",
    "sess.run(tf.global_variables_initializer())\n",
    "\n",
    "for i in range(5001):\n",
    "    # 오차 함수의 결과를 가장 작게 만드는 학습을 할 수 있도록 placeholder에 데이터를 대입하고, 학습시킨다.\n",
    "    # 학습할 데이터는 반드시 placeholder의 feed_dict 속성에 딕셔너리 타입으로 대입시켜야 한다.\n",
    "    # 딕셔너리의 key에는 placeholder, value에는 placeholder에 저장할 리스트 또는 튜플 타입의 데이터를 지정한다.\n",
    "    sess.run(train, feed_dict={x: xData, y: yData})\n",
    "    \n",
    "    # 일정 에포크(epoch) 단위마다 중간 결과를 출력한다.\n",
    "    if i % 500 == 0:\n",
    "        # epoch(i), 오차(cost), 기울기(a), y절편(b)\n",
    "        #print('epoch: {:4d}, 오차: {:14.2f}, 기울기: {:9.3f}, y절편: {:9.3f}'.format(i, \n",
    "        #            sess.run(cost, feed_dict={x: xData, y: yData}), sess.run(a)[0], sess.run(b)[0]))\n",
    "        print('epoch: %4d, 오차: %14.2f, 기울기: %9.3f, y절편: %9.3f' % (i, \n",
    "                    sess.run(cost, feed_dict={x: xData, y: yData}), sess.run(a), sess.run(b)))\n",
    "\n",
    "print('기울기: {:9.3f}, y절편: {:9.3f}'.format(sess.run(a)[0], sess.run(b)[0]))\n",
    "print('8시간 근무했을 때 예상 매출 금액: {:,.0f}원'.format(sess.run(a)[0] * 8 + sess.run(b)[0]))"
   ]
  },
  {
   "cell_type": "markdown",
   "id": "6ec8eac5",
   "metadata": {},
   "source": [
    "학습이 완료된 후 원하는 입력에 대한 예측 결과를 출력한다."
   ]
  },
  {
   "cell_type": "code",
   "execution_count": 18,
   "id": "40ab9d53",
   "metadata": {},
   "outputs": [
    {
     "name": "stdout",
     "output_type": "stream",
     "text": [
      " 8시간 근무했을 때 예상 매출 금액: 206,571원\n",
      " 9시간 근무했을 때 예상 매출 금액: 232,214원\n",
      "10시간 근무했을 때 예상 매출 금액: 257,857원\n",
      "11시간 근무했을 때 예상 매출 금액: 283,500원\n",
      "12시간 근무했을 때 예상 매출 금액: 309,143원\n",
      "13시간 근무했을 때 예상 매출 금액: 334,786원\n",
      "14시간 근무했을 때 예상 매출 금액: 360,428원\n",
      "15시간 근무했을 때 예상 매출 금액: 386,071원\n",
      "16시간 근무했을 때 예상 매출 금액: 411,714원\n",
      "17시간 근무했을 때 예상 매출 금액: 437,357원\n",
      "18시간 근무했을 때 예상 매출 금액: 463,000원\n",
      "19시간 근무했을 때 예상 매출 금액: 488,643원\n",
      "20시간 근무했을 때 예상 매출 금액: 514,286원\n",
      "21시간 근무했을 때 예상 매출 금액: 539,928원\n",
      "22시간 근무했을 때 예상 매출 금액: 565,571원\n",
      "23시간 근무했을 때 예상 매출 금액: 591,214원\n",
      "24시간 근무했을 때 예상 매출 금액: 616,857원\n"
     ]
    }
   ],
   "source": [
    "for i in range(8, 25):\n",
    "    #print('{:2d}시간 근무했을 때 예상 매출 금액: {:,.0f}원'.format(i, sess.run(a)[0] * i + sess.run(b)[0]))\n",
    "    print('{:2d}시간 근무했을 때 예상 매출 금액: {:,.0f}원'.format(i, sess.run(Y, feed_dict={x: [i]})[0]))"
   ]
  },
  {
   "cell_type": "code",
   "execution_count": null,
   "id": "1337983d",
   "metadata": {},
   "outputs": [],
   "source": []
  },
  {
   "cell_type": "code",
   "execution_count": null,
   "id": "f7b1bd0f",
   "metadata": {},
   "outputs": [],
   "source": []
  },
  {
   "cell_type": "code",
   "execution_count": null,
   "id": "f9b2bf06",
   "metadata": {},
   "outputs": [],
   "source": []
  }
 ],
 "metadata": {
  "kernelspec": {
   "display_name": "Python 3",
   "language": "python",
   "name": "python3"
  },
  "language_info": {
   "codemirror_mode": {
    "name": "ipython",
    "version": 3
   },
   "file_extension": ".py",
   "mimetype": "text/x-python",
   "name": "python",
   "nbconvert_exporter": "python",
   "pygments_lexer": "ipython3",
   "version": "3.6.8"
  }
 },
 "nbformat": 4,
 "nbformat_minor": 5
}
