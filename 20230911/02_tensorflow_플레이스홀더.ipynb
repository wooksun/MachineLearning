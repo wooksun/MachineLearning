{
 "cells": [
  {
   "cell_type": "code",
   "execution_count": 1,
   "id": "26f889b0",
   "metadata": {},
   "outputs": [
    {
     "name": "stdout",
     "output_type": "stream",
     "text": [
      "WARNING:tensorflow:From c:\\python\\lib\\site-packages\\tensorflow\\python\\compat\\v2_compat.py:101: disable_resource_variables (from tensorflow.python.ops.variable_scope) is deprecated and will be removed in a future version.\n",
      "Instructions for updating:\n",
      "non-resource variables are not supported in the long term\n"
     ]
    }
   ],
   "source": [
    "import warnings\n",
    "warnings.filterwarnings(action='ignore')\n",
    "%config Completer.use_jedi = False\n",
    "import tensorflow.compat.v1 as tf # tensolflow 1.x 버전을 사용한다.\n",
    "tf.disable_v2_behavior() # tensorflow 2.x 버전의 문법을 사용하지 않겠다고 선언한다. => 1.x 버전을 사용할 시에 코딩"
   ]
  },
  {
   "cell_type": "markdown",
   "id": "802e60a1",
   "metadata": {},
   "source": [
    "placehoder는 tensorflow에서 사용하는 여러건의 데이터를 저장하는 일종의 배열(리스트)이다.  \n",
    "placehoder(dtype[, shape, name])  \n",
    "dtype: placehoder에 저장되는 데이터의 자료형  \n",
    "shape: placehoder에 저장되는 데이터의 차원(생략가능)  \n",
    "name: placehoder의 이름(생략가능)"
   ]
  },
  {
   "cell_type": "code",
   "execution_count": 6,
   "id": "a76f052b",
   "metadata": {},
   "outputs": [
    {
     "name": "stdout",
     "output_type": "stream",
     "text": [
      "x = Tensor(\"Placeholder_8:0\", dtype=int32)\n",
      "y = Tensor(\"Placeholder_9:0\", dtype=int32)\n",
      "z = Tensor(\"add_4:0\", dtype=int32)\n",
      "================================================================================\n",
      "[6 6 6 6 6]\n"
     ]
    }
   ],
   "source": [
    "# tensorflow의 placeholder에 저장할 데이터를 선언한다.\n",
    "xData = [1, 2, 3, 4, 5]\n",
    "yDate = [5, 4, 3, 2, 1]\n",
    "\n",
    "# placeholder를 선언한다.\n",
    "x = tf.placeholder(dtype=tf.int32) # xData의 내용을 기억할 placeholder를 선언한다.\n",
    "y = tf.placeholder(dtype=tf.int32) # yData의 내용을 기억할 placeholder를 선언한다.\n",
    "print('x = {}'.format(x))\n",
    "print('y = {}'.format(y))\n",
    "\n",
    "z = x + y # placeholder를 사용하는 수식을 선언한다.\n",
    "print('z = {}'.format(z))\n",
    "print('=' * 80)\n",
    "\n",
    "sess = tf.Session()\n",
    "\n",
    "# 수식에 사용할 데이터를 placeholder에 대입하고, 실행한다.\n",
    "# z라고 정의한 수식을 실행한다. => x, y placeholder에 데이터가 채워져있지 않으면 에러가 발생된다.\n",
    "# 반드시 feed_dict 속성에 딕셔너리 타입을 사용해서 placeholder에 데이터를 채우고, 연산을 실행한다.\n",
    "# feed_dict 속성에 넣어주는 딕셔너리는 {placeholder 이름: 데이터, placeholder 이름: 데이터, ...}와 같은 형식으로 \n",
    "# 만들어 사용하며 데이터에는 리스트 또는 튜플 타입의 데이터를 넣어준다.\n",
    "result = sess.run(z, feed_dict={x: xData, y: yDate})\n",
    "print(result)"
   ]
  }
 ],
 "metadata": {
  "kernelspec": {
   "display_name": "Python 3",
   "language": "python",
   "name": "python3"
  },
  "language_info": {
   "codemirror_mode": {
    "name": "ipython",
    "version": 3
   },
   "file_extension": ".py",
   "mimetype": "text/x-python",
   "name": "python",
   "nbconvert_exporter": "python",
   "pygments_lexer": "ipython3",
   "version": "3.6.8"
  }
 },
 "nbformat": 4,
 "nbformat_minor": 5
}
