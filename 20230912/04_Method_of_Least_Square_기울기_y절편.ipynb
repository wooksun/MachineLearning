{
 "cells": [
  {
   "cell_type": "code",
   "execution_count": 14,
   "id": "04bbaab0",
   "metadata": {},
   "outputs": [],
   "source": [
    "import warnings\n",
    "warnings.filterwarnings(action='ignore')\n",
    "%config Completer.use_jedi = False\n",
    "import tensorflow.compat.v1 as tf # tensolflow 1.x 버전을 사용한다.\n",
    "tf.disable_v2_behavior() # tensorflow 2.x 버전의 문법을 사용하지 않겠다고 선언한다. => 1.x 버전을 사용할 시에 코딩\n",
    "import numpy as np\n",
    "import pandas as pd\n",
    "import matplotlib.pyplot as plt # 시각화 그래프\n",
    "plt.rcParams['font.family'] = 'NanumGothicCoding'\n",
    "plt.rcParams['font.size'] = 15\n",
    "import matplotlib as mpl\n",
    "mpl.rcParams['axes.unicode_minus'] = False\n",
    "import seaborn as sns"
   ]
  },
  {
   "cell_type": "markdown",
   "id": "6c8d350c",
   "metadata": {},
   "source": [
    "최소 제곱법으로 기울기(가중치)와 y절편(바이어스)을 계산할 데이터를 만든다."
   ]
  },
  {
   "cell_type": "code",
   "execution_count": 19,
   "id": "09c3eda7",
   "metadata": {},
   "outputs": [],
   "source": [
    "x = [2, 4, 6, 8] # 공부 시간\n",
    "y = [81, 93, 91, 97] # 시험 점수 => 실제값"
   ]
  },
  {
   "cell_type": "markdown",
   "id": "a94d732f",
   "metadata": {},
   "source": [
    "공부 시간과 시험 점수 데이터를 판다스 데이터프레임으로 만든다."
   ]
  },
  {
   "cell_type": "code",
   "execution_count": 5,
   "id": "96cebd61",
   "metadata": {},
   "outputs": [
    {
     "data": {
      "text/html": [
       "<div>\n",
       "<style scoped>\n",
       "    .dataframe tbody tr th:only-of-type {\n",
       "        vertical-align: middle;\n",
       "    }\n",
       "\n",
       "    .dataframe tbody tr th {\n",
       "        vertical-align: top;\n",
       "    }\n",
       "\n",
       "    .dataframe thead th {\n",
       "        text-align: right;\n",
       "    }\n",
       "</style>\n",
       "<table border=\"1\" class=\"dataframe\">\n",
       "  <thead>\n",
       "    <tr style=\"text-align: right;\">\n",
       "      <th></th>\n",
       "      <th>x</th>\n",
       "      <th>y</th>\n",
       "    </tr>\n",
       "  </thead>\n",
       "  <tbody>\n",
       "    <tr>\n",
       "      <th>0</th>\n",
       "      <td>2</td>\n",
       "      <td>81</td>\n",
       "    </tr>\n",
       "    <tr>\n",
       "      <th>1</th>\n",
       "      <td>4</td>\n",
       "      <td>93</td>\n",
       "    </tr>\n",
       "    <tr>\n",
       "      <th>2</th>\n",
       "      <td>6</td>\n",
       "      <td>91</td>\n",
       "    </tr>\n",
       "    <tr>\n",
       "      <th>3</th>\n",
       "      <td>8</td>\n",
       "      <td>97</td>\n",
       "    </tr>\n",
       "  </tbody>\n",
       "</table>\n",
       "</div>"
      ],
      "text/plain": [
       "   x   y\n",
       "0  2  81\n",
       "1  4  93\n",
       "2  6  91\n",
       "3  8  97"
      ]
     },
     "execution_count": 5,
     "metadata": {},
     "output_type": "execute_result"
    }
   ],
   "source": [
    "df = pd.DataFrame(columns=['x', 'y']) # 빈 데이터프레임을 만든다.\n",
    "# 빈 데이터프레임에 데이터를 넣을때는 loc[index]를 사용해서 리스트 형태의 데이터를 넣어주면 된다.\n",
    "df.loc[0] = [2, 81]\n",
    "df.loc[1] = [4, 93]\n",
    "df.loc[2] = [6, 91]\n",
    "df.loc[3] = [8, 97]\n",
    "df"
   ]
  },
  {
   "cell_type": "markdown",
   "id": "fc1ad3c4",
   "metadata": {},
   "source": [
    "공부 시간에 따른 시험 점수 시각화"
   ]
  },
  {
   "cell_type": "code",
   "execution_count": 17,
   "id": "0d76bd9c",
   "metadata": {},
   "outputs": [
    {
     "data": {
      "image/png": "[encoded data removed]",
      "text/plain": [
       "<Figure size 864x576 with 1 Axes>"
      ]
     },
     "metadata": {
      "needs_background": "light"
     },
     "output_type": "display_data"
    }
   ],
   "source": [
    "plt.figure(figsize=(12, 8))\n",
    "sns.scatterplot(data=df, x='x', y='y', s=100)\n",
    "plt.title('공부 시간에 따른 시험 성적')\n",
    "plt.xlabel('공부 시간')\n",
    "plt.ylabel('시험 성적')\n",
    "plt.show()"
   ]
  },
  {
   "cell_type": "markdown",
   "id": "1a8aa777",
   "metadata": {},
   "source": [
    "기울기 공식 => $\\frac{\\sum_{i = 0}^{n - 1}(x_i - \\bar x)(y_i - \\bar y)}{\\sum_{i = 0}^{n - 1}(x_i - \\bar x)^2}$"
   ]
  },
  {
   "cell_type": "code",
   "execution_count": 20,
   "id": "1675e2ee",
   "metadata": {},
   "outputs": [
    {
     "name": "stdout",
     "output_type": "stream",
     "text": [
      "공부 시간의 평균: 5.0, 시험 점수의 평균: 90.5\n"
     ]
    }
   ],
   "source": [
    "mean_x = np.mean(x) # 공부 시간의 평균\n",
    "mean_y = np.mean(y) # 시험 점수의 평균\n",
    "print('공부 시간의 평균: {}, 시험 점수의 평균: {}'.format(mean_x, mean_y))"
   ]
  },
  {
   "cell_type": "code",
   "execution_count": 21,
   "id": "f18d510b",
   "metadata": {},
   "outputs": [
    {
     "name": "stdout",
     "output_type": "stream",
     "text": [
      "46.0\n"
     ]
    }
   ],
   "source": [
    "# 기울기 공식에서 분자를 계산하는 함수\n",
    "def top(x, mean_x, y, mean_y):\n",
    "    total = 0.0\n",
    "    for i in range(len(x)):\n",
    "        total += (x[i] - mean_x) * (y[i] - mean_y)\n",
    "    return total\n",
    "\n",
    "molecule = top(x, mean_x, y, mean_y)\n",
    "print(molecule)"
   ]
  },
  {
   "cell_type": "code",
   "execution_count": 22,
   "id": "11bf9650",
   "metadata": {},
   "outputs": [
    {
     "name": "stdout",
     "output_type": "stream",
     "text": [
      "20.0\n"
     ]
    }
   ],
   "source": [
    "# 기울기 공식에서 분모를 계산하는 함수\n",
    "def bottom(x, mean_x):\n",
    "    total = 0.0\n",
    "    for i in range(len(x)):\n",
    "        total += (x[i] - mean_x) ** 2\n",
    "    return total\n",
    "\n",
    "denominator = bottom(x, mean_x)\n",
    "print(denominator)"
   ]
  },
  {
   "cell_type": "code",
   "execution_count": 24,
   "id": "6f3f28c3",
   "metadata": {},
   "outputs": [
    {
     "name": "stdout",
     "output_type": "stream",
     "text": [
      "기울기 공식의 분자: 46.0, 기울기 공식의 분모: 20.0\n",
      "기울기: 2.3\n"
     ]
    }
   ],
   "source": [
    "print('기울기 공식의 분자: {}, 기울기 공식의 분모: {}'.format(molecule, denominator))\n",
    "a = molecule / denominator\n",
    "print('기울기: {}'.format(a))"
   ]
  },
  {
   "cell_type": "markdown",
   "id": "07dbf148",
   "metadata": {},
   "source": [
    "y절편 공식 => $\\bar y - a \\bar x $"
   ]
  },
  {
   "cell_type": "code",
   "execution_count": 25,
   "id": "f18855a0",
   "metadata": {},
   "outputs": [
    {
     "name": "stdout",
     "output_type": "stream",
     "text": [
      "y절편: 79.0\n"
     ]
    }
   ],
   "source": [
    "b = mean_y - (a * mean_x)\n",
    "print('y절편: {}'.format(b))"
   ]
  }
 ],
 "metadata": {
  "kernelspec": {
   "display_name": "Python 3",
   "language": "python",
   "name": "python3"
  },
  "language_info": {
   "codemirror_mode": {
    "name": "ipython",
    "version": 3
   },
   "file_extension": ".py",
   "mimetype": "text/x-python",
   "name": "python",
   "nbconvert_exporter": "python",
   "pygments_lexer": "ipython3",
   "version": "3.6.8"
  }
 },
 "nbformat": 4,
 "nbformat_minor": 5
}
