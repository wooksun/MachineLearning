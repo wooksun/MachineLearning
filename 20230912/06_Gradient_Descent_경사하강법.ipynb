{
 "cells": [
  {
   "cell_type": "markdown",
   "id": "3172371c",
   "metadata": {},
   "source": [
    "경사 하강법(Gradient Descent)\n",
    "\n",
    "기울기를 너무 크게 잡으면 오차가 커지고, 너무 작게 잡아도 오차가 커진다.  \n",
    "기울기를 무한대로 키우면 오차도 무한대로 커지고 기울기를 무한대로 작게해도 오차는 무한대로 커진다."
   ]
  },
  {
   "cell_type": "code",
   "execution_count": 9,
   "id": "35c93f75",
   "metadata": {},
   "outputs": [],
   "source": [
    "import warnings\n",
    "warnings.filterwarnings(action='ignore')\n",
    "%config Completer.use_jedi = False\n",
    "import tensorflow.compat.v1 as tf # tensolflow 1.x 버전을 사용한다.\n",
    "tf.disable_v2_behavior() # tensorflow 2.x 버전의 문법을 사용하지 않겠다고 선언한다. => 1.x 버전을 사용할 시에 코딩\n",
    "import numpy as np\n",
    "import pandas as pd"
   ]
  },
  {
   "cell_type": "code",
   "execution_count": 10,
   "id": "ad3c525d",
   "metadata": {},
   "outputs": [],
   "source": [
    "data = [[2, 81], [4, 93], [6, 91], [8, 97]] # [x(공부 시간), y(시험 성적)]\n",
    "x = [i[0] for i in data] # 공부 시간\n",
    "y = [i[1] for i in data] # 시험 성적"
   ]
  },
  {
   "cell_type": "code",
   "execution_count": 11,
   "id": "c1c14b90",
   "metadata": {},
   "outputs": [
    {
     "name": "stdout",
     "output_type": "stream",
     "text": [
      "a = [7.463332], b = [73.43866]\n"
     ]
    }
   ],
   "source": [
    "# 기울기 a와 y절편 b를 임의로 정한다.\n",
    "# random_uniform([난수의 개수], 최소값, 최대값, dtype=난수의 데이터 타입, seed=숫자)\n",
    "# dtype 생략시 기본값은 tf.floar32이고 seed를 지정하면 항상 일정한 배열의 난수가 생성된다.\n",
    "a = tf.Variable(tf.random_uniform([1], 0, 10)) # 기울기(가중치), 0 ~ 10 사이의 난수\n",
    "b = tf.Variable(tf.random_uniform([1], 0, 100)) # y절편(바이어스), 0 ~ 100 사이의 난수\n",
    "sess = tf.Session()\n",
    "sess.run(tf.global_variables_initializer())\n",
    "print('a = {}, b = {}'.format(sess.run(a), sess.run(b)))"
   ]
  },
  {
   "cell_type": "code",
   "execution_count": 12,
   "id": "50303692",
   "metadata": {},
   "outputs": [],
   "source": [
    "# 예측 성적(Y)을 얻기위한 가설(수식)을 만든다. Y => 예측값\n",
    "Y = a * x + b"
   ]
  },
  {
   "cell_type": "code",
   "execution_count": 14,
   "id": "fef6f5e3",
   "metadata": {},
   "outputs": [],
   "source": [
    "# tensorflow에서 실행할 RMSE(평균 제곱근 오차) 수식(오차 함수)을 만든다.\n",
    "# tf.square(Y - y): 예측 성적(Y)과 실제 성적(y)의 편차의 제곱을 계산한다.\n",
    "# tf.reduce_mean(tf.square(Y - y)): 예측 성적과 실제 성적의 편차의 제곱의 평균을 계산한다.\n",
    "# tf.sqrt(tf.reduce_mean(tf.square(Y - y))): 예측 성적과 실제 성적의 편차의 제곱의 평균에 대한 제곱근을 계산한다.\n",
    "rmse = tf.sqrt(tf.reduce_mean(tf.square(Y - y)))"
   ]
  },
  {
   "cell_type": "code",
   "execution_count": 15,
   "id": "7bdad3fc",
   "metadata": {},
   "outputs": [],
   "source": [
    "# 경사 하강법을 이용해서 RMSE를 최소로 하는 값을 찾는 수식을 만든다.\n",
    "learning_rate = 0.1\n",
    "gratident_descent = tf.train.GradientDescentOptimizer(learning_rate=learning_rate).minimize(rmse)"
   ]
  },
  {
   "cell_type": "code",
   "execution_count": 22,
   "id": "f47c751c",
   "metadata": {},
   "outputs": [
    {
     "name": "stdout",
     "output_type": "stream",
     "text": [
      "epoch:    0, RMSE: 11.6005, 기울기: 7.3227, y절편: 54.2543\n",
      "epoch:  200, RMSE:  7.6560, 기울기: 5.2113, y절편: 61.6265\n",
      "epoch:  400, RMSE:  5.1109, 기울기: 4.0327, y절편: 68.6603\n",
      "epoch:  600, RMSE:  3.4643, 기울기: 3.0896, y절편: 74.2880\n",
      "epoch:  800, RMSE:  2.9608, 기울기: 2.5802, y절편: 77.3278\n",
      "epoch: 1000, RMSE:  2.8896, 기울기: 2.3918, y절편: 78.4523\n",
      "epoch: 1200, RMSE:  2.8819, 기울기: 2.3297, y절편: 78.8226\n",
      "epoch: 1400, RMSE:  2.8811, 기울기: 2.3096, y절편: 78.9426\n",
      "epoch: 1600, RMSE:  2.8810, 기울기: 2.3031, y절편: 78.9814\n",
      "epoch: 1800, RMSE:  2.8810, 기울기: 2.3010, y절편: 78.9940\n",
      "epoch: 2000, RMSE:  2.8810, 기울기: 2.3003, y절편: 78.9981\n",
      "epoch: 2200, RMSE:  2.8810, 기울기: 2.3001, y절편: 78.9994\n",
      "epoch: 2400, RMSE:  2.8810, 기울기: 2.3001, y절편: 78.9994\n",
      "epoch: 2600, RMSE:  2.8810, 기울기: 2.3001, y절편: 78.9994\n",
      "epoch: 2800, RMSE:  2.8810, 기울기: 2.3001, y절편: 78.9994\n",
      "epoch: 3000, RMSE:  2.8810, 기울기: 2.3001, y절편: 78.9994\n"
     ]
    }
   ],
   "source": [
    "# 학습 시킨다.\n",
    "import time\n",
    "sess = tf.Session()\n",
    "sess.run(tf.global_variables_initializer())\n",
    "\n",
    "for epoch in range(3001):\n",
    "    sess.run(gratident_descent)\n",
    "    if epoch % 200 == 0:\n",
    "        print('epoch: {:4d}, RMSE: {:7.4f}, 기울기: {:6.4f}, y절편: {:6.4f}'.format(epoch, sess.run(rmse), sess.run(a)[0], sess.run(b)[0]))\n",
    "        time.sleep(0.3)"
   ]
  },
  {
   "cell_type": "code",
   "execution_count": null,
   "id": "d54cd8c0",
   "metadata": {},
   "outputs": [],
   "source": []
  },
  {
   "cell_type": "code",
   "execution_count": null,
   "id": "2a411552",
   "metadata": {},
   "outputs": [],
   "source": []
  },
  {
   "cell_type": "code",
   "execution_count": null,
   "id": "3d74a8c0",
   "metadata": {},
   "outputs": [],
   "source": []
  }
 ],
 "metadata": {
  "kernelspec": {
   "display_name": "Python 3",
   "language": "python",
   "name": "python3"
  },
  "language_info": {
   "codemirror_mode": {
    "name": "ipython",
    "version": 3
   },
   "file_extension": ".py",
   "mimetype": "text/x-python",
   "name": "python",
   "nbconvert_exporter": "python",
   "pygments_lexer": "ipython3",
   "version": "3.6.8"
  }
 },
 "nbformat": 4,
 "nbformat_minor": 5
}
