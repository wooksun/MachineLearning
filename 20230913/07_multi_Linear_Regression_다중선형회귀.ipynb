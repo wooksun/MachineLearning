{
 "cells": [
  {
   "cell_type": "code",
   "execution_count": 1,
   "id": "87d83a6a",
   "metadata": {},
   "outputs": [
    {
     "name": "stdout",
     "output_type": "stream",
     "text": [
      "WARNING:tensorflow:From c:\\python\\lib\\site-packages\\tensorflow\\python\\compat\\v2_compat.py:101: disable_resource_variables (from tensorflow.python.ops.variable_scope) is deprecated and will be removed in a future version.\n",
      "Instructions for updating:\n",
      "non-resource variables are not supported in the long term\n"
     ]
    }
   ],
   "source": [
    "import warnings\n",
    "warnings.filterwarnings(action='ignore')\n",
    "%config Completer.use_jedi = False\n",
    "import tensorflow.compat.v1 as tf # tensolflow 1.x 버전을 사용한다.\n",
    "tf.disable_v2_behavior() # tensorflow 2.x 버전의 문법을 사용하지 않겠다고 선언한다. => 1.x 버전을 사용할 시에 코딩\n",
    "import numpy as np\n",
    "import pandas as pd"
   ]
  },
  {
   "cell_type": "code",
   "execution_count": 2,
   "id": "ea801db6",
   "metadata": {},
   "outputs": [],
   "source": [
    "data = [[2, 0, 81], [4, 4, 93], [6, 2, 91], [8, 3, 97]] # [x1(공부 시간), x2(과외 시간), y(시험 성적)]\n",
    "x1 = [i[0] for i in data] # 공부 시간\n",
    "x2 = [i[1] for i in data] # 과외 시간\n",
    "y = [i[2] for i in data] # 시험 성적"
   ]
  },
  {
   "cell_type": "code",
   "execution_count": 6,
   "id": "7767f674",
   "metadata": {},
   "outputs": [
    {
     "name": "stdout",
     "output_type": "stream",
     "text": [
      "a1 = [6.9545794], a2 = [1.7722368], b = [73.23424]\n"
     ]
    }
   ],
   "source": [
    "# 기울기 a와 y절편 b를 임의로 정한다.\n",
    "# random_uniform([난수의 개수], 최소값, 최대값, dtype=난수의 데이터 타입, seed=숫자)\n",
    "# dtype 생략시 기본값은 tf.floar32이고 seed를 지정하면 항상 일정한 배열의 난수가 생성된다.\n",
    "a1 = tf.Variable(tf.random_uniform([1], 0, 10)) \n",
    "a2 = tf.Variable(tf.random_uniform([1], 0, 10)) \n",
    "b = tf.Variable(tf.random_uniform([1], 0, 100)) \n",
    "sess = tf.Session()\n",
    "sess.run(tf.global_variables_initializer())\n",
    "print('a1 = {}, a2 = {}, b = {}'.format(sess.run(a1), sess.run(a2), sess.run(b)))"
   ]
  },
  {
   "cell_type": "code",
   "execution_count": 8,
   "id": "b9f88e9c",
   "metadata": {},
   "outputs": [],
   "source": [
    "# 예측 성적(Y)을 얻기위한 가설(수식)을 만든다. Y => 예측값\n",
    "Y = a1 * x1 + a2 * x2 + b\n",
    "# tensorflow에서 실행할 RMSE 수식을 만든다.\n",
    "rmse = tf.sqrt(tf.reduce_mean(tf.square(Y - y)))\n",
    "# 경사 하강법을 이용해서 RMSE를 최소로 하는 값을 찾는 수식을 만든다.\n",
    "gratident_descent = tf.train.GradientDescentOptimizer(0.1).minimize(rmse)"
   ]
  },
  {
   "cell_type": "code",
   "execution_count": 9,
   "id": "b13a7ada",
   "metadata": {},
   "outputs": [
    {
     "name": "stdout",
     "output_type": "stream",
     "text": [
      "epoch:    0, RMSE: 31.4060, 기울기1: 4.4378, 기울기2: 9.6031,y절편: 19.3042\n",
      "epoch:  200, RMSE: 20.3874, 기울기1: 8.0575, 기울기2: 6.5186,y절편: 27.5316\n",
      "epoch:  400, RMSE: 17.1138, 기울기1: 7.5018, 기울기2: 4.8193,y절편: 35.4067\n",
      "epoch:  600, RMSE: 13.9354, 기울기1: 6.5044, 기울기2: 4.0935,y절편: 43.2821\n",
      "epoch:  800, RMSE: 10.7642, 기울기1: 5.3858, 기울기2: 3.6361,y절편: 51.1538\n",
      "epoch: 1000, RMSE:  7.5944, 기울기1: 4.2429, 기울기2: 3.2332,y절편: 59.0231\n",
      "epoch: 1200, RMSE:  4.4286, 기울기1: 3.0977, 기울기2: 2.8374,y절편: 66.8874\n",
      "epoch: 1400, RMSE:  1.3199, 기울기1: 1.9210, 기울기2: 2.4271,y절편: 74.7042\n",
      "epoch: 1600, RMSE:  1.8369, 기울기1: 1.3122, 기울기2: 2.1918,y절편: 77.2626\n",
      "epoch: 1800, RMSE:  1.8370, 기울기1: 1.2443, 기울기2: 2.1682,y절편: 77.7147\n",
      "epoch: 2000, RMSE:  1.8370, 기울기1: 1.2326, 기울기2: 2.1641,y절편: 77.7946\n",
      "epoch: 2200, RMSE:  1.8370, 기울기1: 1.2305, 기울기2: 2.1634,y절편: 77.8087\n",
      "epoch: 2400, RMSE:  1.8370, 기울기1: 1.2302, 기울기2: 2.1633,y절편: 77.8112\n",
      "epoch: 2600, RMSE:  1.8371, 기울기1: 1.2301, 기울기2: 2.1633,y절편: 77.8113\n",
      "epoch: 2800, RMSE:  1.8371, 기울기1: 1.2301, 기울기2: 2.1633,y절편: 77.8113\n",
      "epoch: 3000, RMSE:  1.8371, 기울기1: 1.2301, 기울기2: 2.1633,y절편: 77.8113\n"
     ]
    }
   ],
   "source": [
    "# 학습 시킨다.\n",
    "import time\n",
    "sess = tf.Session()\n",
    "sess.run(tf.global_variables_initializer())\n",
    "\n",
    "for epoch in range(3001):\n",
    "    sess.run(gratident_descent)\n",
    "    if epoch % 200 == 0:\n",
    "        print('epoch: {:4d}, RMSE: {:7.4f}, 기울기1: {:6.4f}, 기울기2: {:6.4f},y절편: {:6.4f}'.format(epoch, \n",
    "                        sess.run(rmse), sess.run(a1)[0], sess.run(a2)[0], sess.run(b)[0]))\n",
    "        time.sleep(0.3)"
   ]
  }
 ],
 "metadata": {
  "kernelspec": {
   "display_name": "Python 3",
   "language": "python",
   "name": "python3"
  },
  "language_info": {
   "codemirror_mode": {
    "name": "ipython",
    "version": 3
   },
   "file_extension": ".py",
   "mimetype": "text/x-python",
   "name": "python",
   "nbconvert_exporter": "python",
   "pygments_lexer": "ipython3",
   "version": "3.6.8"
  }
 },
 "nbformat": 4,
 "nbformat_minor": 5
}
