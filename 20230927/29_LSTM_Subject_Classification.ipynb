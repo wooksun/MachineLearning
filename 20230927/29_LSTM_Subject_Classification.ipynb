{
 "cells": [
  {
   "cell_type": "code",
   "execution_count": 1,
   "id": "685df83e",
   "metadata": {},
   "outputs": [
    {
     "name": "stdout",
     "output_type": "stream",
     "text": [
      "WARNING:tensorflow:From c:\\python\\lib\\site-packages\\tensorflow\\python\\compat\\v2_compat.py:101: disable_resource_variables (from tensorflow.python.ops.variable_scope) is deprecated and will be removed in a future version.\n",
      "Instructions for updating:\n",
      "non-resource variables are not supported in the long term\n"
     ]
    }
   ],
   "source": [
    "import warnings\n",
    "warnings.filterwarnings(action='ignore')\n",
    "%config Completer.use_jedi = False\n",
    "import tensorflow.compat.v1 as tf\n",
    "tf.disable_v2_behavior()\n",
    "import numpy as np\n",
    "import pandas as pd"
   ]
  },
  {
   "cell_type": "markdown",
   "id": "d539a41d",
   "metadata": {},
   "source": [
    "지문을 읽고 주제 분류하기\n",
    "\n",
    "다음과 같은 입력 데이터를 데이터프레임으로 저장한다. 입력 데이터는 음식 관련 및 스포츠 관련 지문으로 구성되어 있다."
   ]
  },
  {
   "cell_type": "code",
   "execution_count": 2,
   "id": "30d5d5ba",
   "metadata": {},
   "outputs": [
    {
     "data": {
      "text/html": [
       "<div>\n",
       "<style scoped>\n",
       "    .dataframe tbody tr th:only-of-type {\n",
       "        vertical-align: middle;\n",
       "    }\n",
       "\n",
       "    .dataframe tbody tr th {\n",
       "        vertical-align: top;\n",
       "    }\n",
       "\n",
       "    .dataframe thead th {\n",
       "        text-align: right;\n",
       "    }\n",
       "</style>\n",
       "<table border=\"1\" class=\"dataframe\">\n",
       "  <thead>\n",
       "    <tr style=\"text-align: right;\">\n",
       "      <th></th>\n",
       "      <th>paragraph</th>\n",
       "      <th>category</th>\n",
       "    </tr>\n",
       "  </thead>\n",
       "  <tbody>\n",
       "    <tr>\n",
       "      <th>0</th>\n",
       "      <td>Dishplace is located in sunnyvale downtown the...</td>\n",
       "      <td>food</td>\n",
       "    </tr>\n",
       "    <tr>\n",
       "      <th>1</th>\n",
       "      <td>Srvice can be slower during busy hours but our...</td>\n",
       "      <td>food</td>\n",
       "    </tr>\n",
       "    <tr>\n",
       "      <th>2</th>\n",
       "      <td>Portions are huge both french toast and their ...</td>\n",
       "      <td>food</td>\n",
       "    </tr>\n",
       "    <tr>\n",
       "      <th>3</th>\n",
       "      <td>We started with apps going the chicken and waf...</td>\n",
       "      <td>food</td>\n",
       "    </tr>\n",
       "    <tr>\n",
       "      <th>4</th>\n",
       "      <td>The biscuits and gravy was too salty two peopl...</td>\n",
       "      <td>food</td>\n",
       "    </tr>\n",
       "    <tr>\n",
       "      <th>5</th>\n",
       "      <td>The garlic fries were a great starter (and a h...</td>\n",
       "      <td>food</td>\n",
       "    </tr>\n",
       "    <tr>\n",
       "      <th>6</th>\n",
       "      <td>Our meal was excellent i had the pasta ai form...</td>\n",
       "      <td>food</td>\n",
       "    </tr>\n",
       "    <tr>\n",
       "      <th>7</th>\n",
       "      <td>What i enjoy most about palo alto is so many r...</td>\n",
       "      <td>food</td>\n",
       "    </tr>\n",
       "    <tr>\n",
       "      <th>8</th>\n",
       "      <td>The drinks came out fairly quickly a good two ...</td>\n",
       "      <td>food</td>\n",
       "    </tr>\n",
       "    <tr>\n",
       "      <th>9</th>\n",
       "      <td>Despite the not so good burger the service was...</td>\n",
       "      <td>food</td>\n",
       "    </tr>\n",
       "    <tr>\n",
       "      <th>10</th>\n",
       "      <td>The four reigning major champions simona halep...</td>\n",
       "      <td>sports</td>\n",
       "    </tr>\n",
       "    <tr>\n",
       "      <th>11</th>\n",
       "      <td>The briton was seeded nn7 here last year befor...</td>\n",
       "      <td>sports</td>\n",
       "    </tr>\n",
       "    <tr>\n",
       "      <th>12</th>\n",
       "      <td>Stephens surged her way back from injury in st...</td>\n",
       "      <td>sports</td>\n",
       "    </tr>\n",
       "    <tr>\n",
       "      <th>13</th>\n",
       "      <td>When it came to england chances in the world c...</td>\n",
       "      <td>sports</td>\n",
       "    </tr>\n",
       "    <tr>\n",
       "      <th>14</th>\n",
       "      <td>The team that eliminated russia – croatia – al...</td>\n",
       "      <td>sports</td>\n",
       "    </tr>\n",
       "    <tr>\n",
       "      <th>15</th>\n",
       "      <td>The perseyside outfit finished in fourth place...</td>\n",
       "      <td>sports</td>\n",
       "    </tr>\n",
       "    <tr>\n",
       "      <th>16</th>\n",
       "      <td>Liverpool fc will return to premier league act...</td>\n",
       "      <td>sports</td>\n",
       "    </tr>\n",
       "    <tr>\n",
       "      <th>17</th>\n",
       "      <td>Alisson signed for liverpool fc from as roma t...</td>\n",
       "      <td>sports</td>\n",
       "    </tr>\n",
       "    <tr>\n",
       "      <th>18</th>\n",
       "      <td>But the rankings during that run-in to new yor...</td>\n",
       "      <td>sports</td>\n",
       "    </tr>\n",
       "    <tr>\n",
       "      <th>19</th>\n",
       "      <td>Then came the oh-so-familiar djokovic-nadal no...</td>\n",
       "      <td>sports</td>\n",
       "    </tr>\n",
       "  </tbody>\n",
       "</table>\n",
       "</div>"
      ],
      "text/plain": [
       "                                            paragraph category\n",
       "0   Dishplace is located in sunnyvale downtown the...     food\n",
       "1   Srvice can be slower during busy hours but our...     food\n",
       "2   Portions are huge both french toast and their ...     food\n",
       "3   We started with apps going the chicken and waf...     food\n",
       "4   The biscuits and gravy was too salty two peopl...     food\n",
       "5   The garlic fries were a great starter (and a h...     food\n",
       "6   Our meal was excellent i had the pasta ai form...     food\n",
       "7   What i enjoy most about palo alto is so many r...     food\n",
       "8   The drinks came out fairly quickly a good two ...     food\n",
       "9   Despite the not so good burger the service was...     food\n",
       "10  The four reigning major champions simona halep...   sports\n",
       "11  The briton was seeded nn7 here last year befor...   sports\n",
       "12  Stephens surged her way back from injury in st...   sports\n",
       "13  When it came to england chances in the world c...   sports\n",
       "14  The team that eliminated russia – croatia – al...   sports\n",
       "15  The perseyside outfit finished in fourth place...   sports\n",
       "16  Liverpool fc will return to premier league act...   sports\n",
       "17  Alisson signed for liverpool fc from as roma t...   sports\n",
       "18  But the rankings during that run-in to new yor...   sports\n",
       "19  Then came the oh-so-familiar djokovic-nadal no...   sports"
      ]
     },
     "execution_count": 2,
     "metadata": {},
     "output_type": "execute_result"
    }
   ],
   "source": [
    "paragraph_dict_list = [\n",
    "    {'paragraph': 'Dishplace is located in sunnyvale downtown there is parking around the area but it can be difficult to find during peak business hours my sisters and i came to this place for dinner on a weekday they were really busy so i highly recommended making reservations unless you have the patience to wait', 'category': 'food'},\n",
    "    {'paragraph': 'Srvice can be slower during busy hours but our waiter was courteous and help gave some great entree recommendations', 'category': 'food'},\n",
    "    {'paragraph': 'Portions are huge both french toast and their various omelettes are really good their french toast is probably 1.5x more than other brunch places great place to visit if you are hungry and dont want to wait 1 hour for a table', 'category': 'food'},\n",
    "    {'paragraph': 'We started with apps going the chicken and waffle slides and chicken nachos the sliders were amazing and the nachos were good too maybe by themselves the nachos would have scored better but after those sliders they were up against some tough competition', 'category': 'food'},\n",
    "    {'paragraph': 'The biscuits and gravy was too salty two people in my group had the gravy and all thought it was too salty my hubby ordered a side of double egg and it was served on two small plates who serves eggs to one person on separate plates we commented on that when it was delivered and even the server laughed and said she doesnt know why the kitchen does that presentation of food is important and they really missed on this one', 'category': 'food'},\n",
    "    {'paragraph': 'The garlic fries were a great starter (and a happy hour special) the pancakes looked and tasted great and were a fairly generous portion', 'category': 'food'},\n",
    "    {'paragraph': 'Our meal was excellent i had the pasta ai formaggi which was so rich i didnt dare eat it all although i certainly wanted to excellent flavors with a great texture contrast between the soft pasta and the crisp bread crumbs too much sauce for me but a wonderful dish', 'category': 'food'},\n",
    "    {'paragraph': 'What i enjoy most about palo alto is so many restaurants have dog-friendly seating outside i had bookmarked italico from when they first opened about a 1.5 years ago and was jonesing for some pasta so time to finally knock that bookmark off', 'category': 'food'},\n",
    "    {'paragraph': 'The drinks came out fairly quickly a good two to three minutes after the orders were taken i expected my iced tea to taste a bit more sweet but this was straight up green tea with ice in it not to complain of course but i was pleasantly surprised', 'category': 'food'},\n",
    "    {'paragraph': 'Despite the not so good burger the service was so slow the restaurant wasnt even half full and they took very long from the moment we got seated to the time we left it was almost 2 hours we thought that it would be quick since we ordered as soon as we sat down my coworkers did seem to enjoy their beef burgers for those who eat beef however i will not be returning it is too expensive and extremely slow service', 'category': 'food'},\n",
    "    {'paragraph': 'The four reigning major champions simona halep caroline wozniacki angelique kerber and defending us open champion sloane stephens could make a case for being the quartet most likely to succeed especially as all but stephens has also enjoyed the no1 ranking within the last 14 months as they prepare for their gruelling new york campaigns they currently hold the top four places in the ranks', 'category': 'sports'},\n",
    "    {'paragraph': 'The briton was seeded nn7 here last year before a slump in form and confidence took her down to no46 after five first-round losses but there have been signs of a turnaround including a victory over a sub-par serena williams in san jose plus wins against jelena ostapenko and victoria azarenka in montreal. konta pulled out of new haven this week with illness but will hope for good things where she first scored wins in a major before her big breakthroughs to the semis in australia and wimbledon', 'category': 'sports'},\n",
    "    {'paragraph': 'Stephens surged her way back from injury in stunning style to win her first major here last year—and ranked just no83 she has since proved what a big time player she is winning the miami title via four fellow major champions then reaching the final at the french open back on north american hard courts she ran to the final in montreal only just edged out by halep she has also avoided many of the big names in her quarter—except for wild card azarenka as a possible in the third round', 'category': 'sports'},\n",
    "    {'paragraph': 'When it came to england chances in the world cup it would be fair to say that most fans had never been more pessimistic than they were this year after enduring years of truly dismal performances at major tournaments – culminating in the 2014 event where they failed to win any of their three group games and finished in bottom spot those results led to the resignation of manager roy hodgson', 'category': 'sports'},\n",
    "    {'paragraph': 'The team that eliminated russia – croatia – also improved enormously during the tournament before it began their odds were 33/1 but they played with real flair and star players like luka modric ivan rakitic and ivan perisic showed their quality on the world stage having displayed their potential by winning all three of their group stage games croatia went on to face difficult tests like the semi-final against england', 'category': 'sports'},\n",
    "    {'paragraph': 'The perseyside outfit finished in fourth place in the premier league table and without a trophy last term after having reached the champions league final before losing to real madrid', 'category': 'sports'},\n",
    "    {'paragraph': 'Liverpool fc will return to premier league action on saturday lunchtime when they travel to leicester city in the top flight as they look to make it four wins in a row in the league', 'category': 'sports'},\n",
    "    {'paragraph': 'Alisson signed for liverpool fc from as roma this summer and the brazilian goalkeeper has helped the reds to keep three clean sheets in their first three premier league games', 'category': 'sports'},\n",
    "    {'paragraph': 'But the rankings during that run-in to new york hid some very different undercurrents for murray had struggled with a hip injury since the clay swing and had not played a match since losing his quarter-final at wimbledon and he would pull out of the us open just two days before the tournament began—too late however to promote nederer to the no2 seeding', 'category': 'sports'},\n",
    "    {'paragraph': 'Then came the oh-so-familiar djokovic-nadal no-quarter-given battle for dominance in the third set there were exhilarating rallies with both chasing to the net both retrieving what looked like winning shots nadal more than once pulled off a reverse smash and had his chance to seal the tie-break but it was djokovic serving at 10-9 who dragged one decisive error from nadal for a two-sets lead', 'category': 'sports'}\n",
    "]\n",
    "df = pd.DataFrame(paragraph_dict_list)\n",
    "df"
   ]
  },
  {
   "cell_type": "markdown",
   "id": "1a30dda5",
   "metadata": {},
   "source": [
    "데이터 전처리\n",
    "\n",
    "LSTM 모델이 입력 데이터를 처리할 수 있도록 수치값으로 변경한다.  \n",
    "텍스트인 입력값을 수치로 변환하기 위해서 지문에 사용된 모든 단어들을 모아서 중복을 제거한 후 단어 리스트를 만든다."
   ]
  },
  {
   "cell_type": "code",
   "execution_count": 3,
   "id": "b5a97265",
   "metadata": {
    "scrolled": true
   },
   "outputs": [
    {
     "name": "stdout",
     "output_type": "stream",
     "text": [
      "537\n",
      "{'roma', 'haven', 'surprised', 'soft', 'served', 'team', 'bit', 'retrieving', 'however', 'bottom', 'soon', 'odds', 'can', 'san', 'she', 'more', 'without', 'win', 'confidence', 'one', 'for', 'williams', 'murray', 'set', 'champions', 'portions', 'no83', 'liverpool', 'parking', 'salty', 'croatia', 'know', 'no2', 'victory', 'hungry', 'starter', 'up', 'champion', 'winning', 'had', 'potential', 'net', 'highly', 'generous', 'laughed', 'avoided', 'entree', 'got', 'didnt', 'style', 'quickly', 'waffle', 'hip', 'injury', 'serena', 'pancakes', 'course', 'sweet', 'ai', 'truly', 'oh-so-familiar', 'stephens', 'losses', 'fries', 'are', 'no46', 'sisters', 'courteous', 'apps', 'goalkeeper', 'real', 'looked', 'tasted', 'if', 'spot', 'rankings', 'you', '1', 'losing', 'reigning', 'tournaments', 'via', 'edged', 'wanted', 'busy', 'scored', 'help', 'proved', 'formaggi', 'pessimistic', 'four', 'kerber', 'chasing', 'modric', 'chance', 'quarter—except', 'meal', 'moment', 'exhilarating', 'league', 'patience', 'service', 'promote', 'flight', 'portion', 'azarenka', 'they', 'delivered', 'on', 'italico', 'any', 'from', 'term', 'downtown', 'two-sets', 'hold', 'my', 'round', 'dishplace', 'fellow', 'outside', 'server', '1.5x', 'fourth', 'side', 'fairly', 'business', 'wonderful', 'djokovic', 'taken', 'green', 'undercurrents', 'enormously', 'city', 'sub-par', 'taste', 'is', 'out', 'world', 'decisive', 'defending', 'happy', 'waiter', 'too', 'perseyside', 'long', 'succeed', 'competition', 'table', 'most', 'expensive', '(and', 'bread', 'big', 'been', 'that', 'many', 'why', 'what', 'seem', 'including', 'campaigns', 'days', 'bookmark', 'their', 'trophy', 'seeded', 'rallies', '33/1', 'group', 'unless', 'place', 'russia', 'results', 'some', 'at', 'wild', 'first', 'victoria', 'gave', 'food', 'special)', 'manager', 'star', 'egg', 'thought', 'american', 'possible', 'quality', 'complain', 'not', 'wins', 'when', 'between', 'despite', 'third', 'displayed', 'good', 'would', 'semis', 'bookmarked', 'signed', 'said', 'before', 'tough', 'dog-friendly', 'years', 'especially', 'having', 'full', 'nachos', 'caroline', 'started', 'performances', 'djokovic-nadal', 'culminating', 'nn7', 'reservations', 'wozniacki', 'hope', 'by', 'straight', 'showed', 'tournament', 'lead', 'slump', 'only', 'chances', 'roy', 'amazing', 'certainly', 'quartet', 'new', 'opened', 'open', 'card', 'struggled', 'sat', 'orders', 'halep', 'ice', 'maybe', 'tests', 'against', 'led', 'being', 'toast', 'double', 'alto', 'hodgson', 'extremely', 'other', 'luka', 'run-in', 'beef', 'brazilian', 'really', 'shots', 'wait', 'games', 'the', 'like', 'form', 'find', 'missed', 'angelique', 'minutes', 'year', 'face', 'smash', 'turnaround', 'burger', 'his', 'gravy', 'but', 'crumbs', 'travel', 'want', 'keep', 'north', 'off', 'sheets', 'also', 'lunchtime', 'flavors', 'in', '1.5', 'five', 'over', 'action', 'making', 'rich', 'quick', 'pasta', 'important', 'doesnt', 'sliders', 'quarter-final', 'finished', 'ivan', 'dont', 'hard', 'jonesing', 'fc', 'return', 'different', 'year—and', 'to', 'has', 'never', 'dominance', 'played', 'even', 'separate', 'breakthroughs', 'courts', 'once', 'plus', 'since', 'drinks', 'recommended', 'small', 'plates', '2', 'very', 'miami', 'and', 'nederer', 'alisson', 'it', 'down', 'match', 'eliminated', 'went', 'person', 'hubby', 'eggs', 'much', 'expected', 'kitchen', 'battle', 'seal', 'ran', 'illness', 'likely', 'with', 'he', 'which', 'three', 'as', 'area', 'dinner', 'a', 'slides', 'leicester', 'themselves', 'have', 'finally', 'clean', 'semi-final', 'going', 'things', 'began—too', 'reverse', 'pulled', 'difficult', 'located', 'began', 'swing', 'nadal', 'premier', 'dragged', 'slow', 'time', 'fans', 'excellent', 'months', 'within', 'names', '10-9', 'wasnt', 'first-round', 'around', 'presentation', 'clay', 'was', 'serves', 'this', 'visit', 'jose', 'after', 'serving', 'wimbledon', 'will', 'stage', 'australia', 'dare', 'biscuits', 'back', 'jelena', 'restaurant', 'iced', 'say', 'those', 'pull', 'seating', 'knock', 'we', 'chicken', 'texture', 'omelettes', 'people', 'late', 'outfit', 'tie-break', 'came', 'probably', 'simona', 'restaurants', 'tea', 'konta', 'brunch', 'did', 'player', 'top', 'fair', 'weekday', 'seated', 'reached', 'enduring', 'hid', 'eat', 'montreal.', '14', 'places', 'sunnyvale', 'enjoy', 'be', 'failed', 'improved', 'pleasantly', 'better', 'who', 'took', 'two', 'event', 'montreal', 'enjoyed', 'were', 'commented', 'french', 'although', 'briton', '–', 'flair', 'sloane', 'then', 'gruelling', 'us', 'signs', 'palo', 'major', 'look', 'ranks', 'garlic', 'dismal', 'here', 'saturday', 'recommendations', 'slower', 'various', 'currently', 'left', 'contrast', 'hours', 'burgers', 'reaching', 'about', 'prepare', 'huge', 'week', 'almost', 'there', 'ranking', 'stunning', 'case', 'me', 'so', 'ordered', 'cup', 'ostapenko', 'row', 'great', 'sauce', 'her', 'peak', 'madrid', 'last', 'reds', 'way', 'i', 'final', 'does', 'crisp', 'helped', 'dish', 'perisic', 'our', 'all', 'where', 'resignation', 'than', 'seeding', 'no-quarter-given', 'surged', 'title', 'make', 'could', 'rakitic', 'error', 'srvice', 'england', 'during', 'just', '2014', 'york', 'half', 'both', 'summer', 'no1', 'ranked', 'of', 'ago', 'coworkers', 'returning', 'players', 'hour'}\n"
     ]
    }
   ],
   "source": [
    "# 중복을 제거해서 지문에 사용된 단어를 모으기 위해서 빈 set을 선언한다.\n",
    "results = set()\n",
    "# print(type(results)) # <class 'set'>\n",
    "# print(type(df)) # <class 'pandas.core.frame.DataFrame'>\n",
    "# print(type(df.paragraph)) # <class 'pandas.core.series.Series'>\n",
    "# print(type(df.paragraph.str)) # <class 'pandas.core.strings.StringMethods'>\n",
    "# print(type(df.paragraph.str.lower())) # <class 'pandas.core.series.Series'>\n",
    "\n",
    "# 데이터프레임의 paragraph열(Series)을 모두 소문자로 변환한 후 공백을 경계로 나눠서 set에 저장한다.\n",
    "# results = df.paragraph.str.lower().str.split()\n",
    "# print(type(results))\n",
    "df.paragraph.str.lower().str.split().apply(results.update)\n",
    "print(len(results))\n",
    "print(results)"
   ]
  },
  {
   "cell_type": "markdown",
   "id": "60c42d17",
   "metadata": {},
   "source": [
    "set에 저장된 데이터를 아래와 같은 형태의 딕셔너리로 만든다.  \n",
    "{0: 'happy', 1: 'defending', 2: 'better', ..., 534: 'ran', 535: 'pulled', 536: 'seeding'}"
   ]
  },
  {
   "cell_type": "code",
   "execution_count": 4,
   "id": "7b7177f6",
   "metadata": {
    "scrolled": true
   },
   "outputs": [
    {
     "name": "stdout",
     "output_type": "stream",
     "text": [
      "<class 'dict'>\n",
      "{0: 'roma', 1: 'haven', 2: 'surprised', 3: 'soft', 4: 'served', 5: 'team', 6: 'bit', 7: 'retrieving', 8: 'however', 9: 'bottom', 10: 'soon', 11: 'odds', 12: 'can', 13: 'san', 14: 'she', 15: 'more', 16: 'without', 17: 'win', 18: 'confidence', 19: 'one', 20: 'for', 21: 'williams', 22: 'murray', 23: 'set', 24: 'champions', 25: 'portions', 26: 'no83', 27: 'liverpool', 28: 'parking', 29: 'salty', 30: 'croatia', 31: 'know', 32: 'no2', 33: 'victory', 34: 'hungry', 35: 'starter', 36: 'up', 37: 'champion', 38: 'winning', 39: 'had', 40: 'potential', 41: 'net', 42: 'highly', 43: 'generous', 44: 'laughed', 45: 'avoided', 46: 'entree', 47: 'got', 48: 'didnt', 49: 'style', 50: 'quickly', 51: 'waffle', 52: 'hip', 53: 'injury', 54: 'serena', 55: 'pancakes', 56: 'course', 57: 'sweet', 58: 'ai', 59: 'truly', 60: 'oh-so-familiar', 61: 'stephens', 62: 'losses', 63: 'fries', 64: 'are', 65: 'no46', 66: 'sisters', 67: 'courteous', 68: 'apps', 69: 'goalkeeper', 70: 'real', 71: 'looked', 72: 'tasted', 73: 'if', 74: 'spot', 75: 'rankings', 76: 'you', 77: '1', 78: 'losing', 79: 'reigning', 80: 'tournaments', 81: 'via', 82: 'edged', 83: 'wanted', 84: 'busy', 85: 'scored', 86: 'help', 87: 'proved', 88: 'formaggi', 89: 'pessimistic', 90: 'four', 91: 'kerber', 92: 'chasing', 93: 'modric', 94: 'chance', 95: 'quarter—except', 96: 'meal', 97: 'moment', 98: 'exhilarating', 99: 'league', 100: 'patience', 101: 'service', 102: 'promote', 103: 'flight', 104: 'portion', 105: 'azarenka', 106: 'they', 107: 'delivered', 108: 'on', 109: 'italico', 110: 'any', 111: 'from', 112: 'term', 113: 'downtown', 114: 'two-sets', 115: 'hold', 116: 'my', 117: 'round', 118: 'dishplace', 119: 'fellow', 120: 'outside', 121: 'server', 122: '1.5x', 123: 'fourth', 124: 'side', 125: 'fairly', 126: 'business', 127: 'wonderful', 128: 'djokovic', 129: 'taken', 130: 'green', 131: 'undercurrents', 132: 'enormously', 133: 'city', 134: 'sub-par', 135: 'taste', 136: 'is', 137: 'out', 138: 'world', 139: 'decisive', 140: 'defending', 141: 'happy', 142: 'waiter', 143: 'too', 144: 'perseyside', 145: 'long', 146: 'succeed', 147: 'competition', 148: 'table', 149: 'most', 150: 'expensive', 151: '(and', 152: 'bread', 153: 'big', 154: 'been', 155: 'that', 156: 'many', 157: 'why', 158: 'what', 159: 'seem', 160: 'including', 161: 'campaigns', 162: 'days', 163: 'bookmark', 164: 'their', 165: 'trophy', 166: 'seeded', 167: 'rallies', 168: '33/1', 169: 'group', 170: 'unless', 171: 'place', 172: 'russia', 173: 'results', 174: 'some', 175: 'at', 176: 'wild', 177: 'first', 178: 'victoria', 179: 'gave', 180: 'food', 181: 'special)', 182: 'manager', 183: 'star', 184: 'egg', 185: 'thought', 186: 'american', 187: 'possible', 188: 'quality', 189: 'complain', 190: 'not', 191: 'wins', 192: 'when', 193: 'between', 194: 'despite', 195: 'third', 196: 'displayed', 197: 'good', 198: 'would', 199: 'semis', 200: 'bookmarked', 201: 'signed', 202: 'said', 203: 'before', 204: 'tough', 205: 'dog-friendly', 206: 'years', 207: 'especially', 208: 'having', 209: 'full', 210: 'nachos', 211: 'caroline', 212: 'started', 213: 'performances', 214: 'djokovic-nadal', 215: 'culminating', 216: 'nn7', 217: 'reservations', 218: 'wozniacki', 219: 'hope', 220: 'by', 221: 'straight', 222: 'showed', 223: 'tournament', 224: 'lead', 225: 'slump', 226: 'only', 227: 'chances', 228: 'roy', 229: 'amazing', 230: 'certainly', 231: 'quartet', 232: 'new', 233: 'opened', 234: 'open', 235: 'card', 236: 'struggled', 237: 'sat', 238: 'orders', 239: 'halep', 240: 'ice', 241: 'maybe', 242: 'tests', 243: 'against', 244: 'led', 245: 'being', 246: 'toast', 247: 'double', 248: 'alto', 249: 'hodgson', 250: 'extremely', 251: 'other', 252: 'luka', 253: 'run-in', 254: 'beef', 255: 'brazilian', 256: 'really', 257: 'shots', 258: 'wait', 259: 'games', 260: 'the', 261: 'like', 262: 'form', 263: 'find', 264: 'missed', 265: 'angelique', 266: 'minutes', 267: 'year', 268: 'face', 269: 'smash', 270: 'turnaround', 271: 'burger', 272: 'his', 273: 'gravy', 274: 'but', 275: 'crumbs', 276: 'travel', 277: 'want', 278: 'keep', 279: 'north', 280: 'off', 281: 'sheets', 282: 'also', 283: 'lunchtime', 284: 'flavors', 285: 'in', 286: '1.5', 287: 'five', 288: 'over', 289: 'action', 290: 'making', 291: 'rich', 292: 'quick', 293: 'pasta', 294: 'important', 295: 'doesnt', 296: 'sliders', 297: 'quarter-final', 298: 'finished', 299: 'ivan', 300: 'dont', 301: 'hard', 302: 'jonesing', 303: 'fc', 304: 'return', 305: 'different', 306: 'year—and', 307: 'to', 308: 'has', 309: 'never', 310: 'dominance', 311: 'played', 312: 'even', 313: 'separate', 314: 'breakthroughs', 315: 'courts', 316: 'once', 317: 'plus', 318: 'since', 319: 'drinks', 320: 'recommended', 321: 'small', 322: 'plates', 323: '2', 324: 'very', 325: 'miami', 326: 'and', 327: 'nederer', 328: 'alisson', 329: 'it', 330: 'down', 331: 'match', 332: 'eliminated', 333: 'went', 334: 'person', 335: 'hubby', 336: 'eggs', 337: 'much', 338: 'expected', 339: 'kitchen', 340: 'battle', 341: 'seal', 342: 'ran', 343: 'illness', 344: 'likely', 345: 'with', 346: 'he', 347: 'which', 348: 'three', 349: 'as', 350: 'area', 351: 'dinner', 352: 'a', 353: 'slides', 354: 'leicester', 355: 'themselves', 356: 'have', 357: 'finally', 358: 'clean', 359: 'semi-final', 360: 'going', 361: 'things', 362: 'began—too', 363: 'reverse', 364: 'pulled', 365: 'difficult', 366: 'located', 367: 'began', 368: 'swing', 369: 'nadal', 370: 'premier', 371: 'dragged', 372: 'slow', 373: 'time', 374: 'fans', 375: 'excellent', 376: 'months', 377: 'within', 378: 'names', 379: '10-9', 380: 'wasnt', 381: 'first-round', 382: 'around', 383: 'presentation', 384: 'clay', 385: 'was', 386: 'serves', 387: 'this', 388: 'visit', 389: 'jose', 390: 'after', 391: 'serving', 392: 'wimbledon', 393: 'will', 394: 'stage', 395: 'australia', 396: 'dare', 397: 'biscuits', 398: 'back', 399: 'jelena', 400: 'restaurant', 401: 'iced', 402: 'say', 403: 'those', 404: 'pull', 405: 'seating', 406: 'knock', 407: 'we', 408: 'chicken', 409: 'texture', 410: 'omelettes', 411: 'people', 412: 'late', 413: 'outfit', 414: 'tie-break', 415: 'came', 416: 'probably', 417: 'simona', 418: 'restaurants', 419: 'tea', 420: 'konta', 421: 'brunch', 422: 'did', 423: 'player', 424: 'top', 425: 'fair', 426: 'weekday', 427: 'seated', 428: 'reached', 429: 'enduring', 430: 'hid', 431: 'eat', 432: 'montreal.', 433: '14', 434: 'places', 435: 'sunnyvale', 436: 'enjoy', 437: 'be', 438: 'failed', 439: 'improved', 440: 'pleasantly', 441: 'better', 442: 'who', 443: 'took', 444: 'two', 445: 'event', 446: 'montreal', 447: 'enjoyed', 448: 'were', 449: 'commented', 450: 'french', 451: 'although', 452: 'briton', 453: '–', 454: 'flair', 455: 'sloane', 456: 'then', 457: 'gruelling', 458: 'us', 459: 'signs', 460: 'palo', 461: 'major', 462: 'look', 463: 'ranks', 464: 'garlic', 465: 'dismal', 466: 'here', 467: 'saturday', 468: 'recommendations', 469: 'slower', 470: 'various', 471: 'currently', 472: 'left', 473: 'contrast', 474: 'hours', 475: 'burgers', 476: 'reaching', 477: 'about', 478: 'prepare', 479: 'huge', 480: 'week', 481: 'almost', 482: 'there', 483: 'ranking', 484: 'stunning', 485: 'case', 486: 'me', 487: 'so', 488: 'ordered', 489: 'cup', 490: 'ostapenko', 491: 'row', 492: 'great', 493: 'sauce', 494: 'her', 495: 'peak', 496: 'madrid', 497: 'last', 498: 'reds', 499: 'way', 500: 'i', 501: 'final', 502: 'does', 503: 'crisp', 504: 'helped', 505: 'dish', 506: 'perisic', 507: 'our', 508: 'all', 509: 'where', 510: 'resignation', 511: 'than', 512: 'seeding', 513: 'no-quarter-given', 514: 'surged', 515: 'title', 516: 'make', 517: 'could', 518: 'rakitic', 519: 'error', 520: 'srvice', 521: 'england', 522: 'during', 523: 'just', 524: '2014', 525: 'york', 526: 'half', 527: 'both', 528: 'summer', 529: 'no1', 530: 'ranked', 531: 'of', 532: 'ago', 533: 'coworkers', 534: 'returning', 535: 'players', 536: 'hour'}\n"
     ]
    }
   ],
   "source": [
    "# enumerate() 함수는 인수로 지정된 객체에 저장된 내용을 (인덱스, 데이터) 형태로 리턴한다.\n",
    "# for index, word in enumerate(results):\n",
    "    # print(index, word)\n",
    "idx2word = dict(enumerate(results))\n",
    "print(type(idx2word))\n",
    "print(idx2word)"
   ]
  },
  {
   "cell_type": "markdown",
   "id": "1e297dc1",
   "metadata": {},
   "source": [
    "{key: value, ...} 형태의 딕셔너리를 아래와 같이 {value: key, ...} 형태의 딕셔너리로 변환한다.  \n",
    "{'happy': 0, 'defending': 1,'better': 2, ...,'ran': 534,'pulled': 535,'seeding': 536}"
   ]
  },
  {
   "cell_type": "code",
   "execution_count": 5,
   "id": "665a57ee",
   "metadata": {
    "scrolled": true
   },
   "outputs": [
    {
     "name": "stdout",
     "output_type": "stream",
     "text": [
      "<class 'dict'>\n",
      "{'roma': 0, 'haven': 1, 'surprised': 2, 'soft': 3, 'served': 4, 'team': 5, 'bit': 6, 'retrieving': 7, 'however': 8, 'bottom': 9, 'soon': 10, 'odds': 11, 'can': 12, 'san': 13, 'she': 14, 'more': 15, 'without': 16, 'win': 17, 'confidence': 18, 'one': 19, 'for': 20, 'williams': 21, 'murray': 22, 'set': 23, 'champions': 24, 'portions': 25, 'no83': 26, 'liverpool': 27, 'parking': 28, 'salty': 29, 'croatia': 30, 'know': 31, 'no2': 32, 'victory': 33, 'hungry': 34, 'starter': 35, 'up': 36, 'champion': 37, 'winning': 38, 'had': 39, 'potential': 40, 'net': 41, 'highly': 42, 'generous': 43, 'laughed': 44, 'avoided': 45, 'entree': 46, 'got': 47, 'didnt': 48, 'style': 49, 'quickly': 50, 'waffle': 51, 'hip': 52, 'injury': 53, 'serena': 54, 'pancakes': 55, 'course': 56, 'sweet': 57, 'ai': 58, 'truly': 59, 'oh-so-familiar': 60, 'stephens': 61, 'losses': 62, 'fries': 63, 'are': 64, 'no46': 65, 'sisters': 66, 'courteous': 67, 'apps': 68, 'goalkeeper': 69, 'real': 70, 'looked': 71, 'tasted': 72, 'if': 73, 'spot': 74, 'rankings': 75, 'you': 76, '1': 77, 'losing': 78, 'reigning': 79, 'tournaments': 80, 'via': 81, 'edged': 82, 'wanted': 83, 'busy': 84, 'scored': 85, 'help': 86, 'proved': 87, 'formaggi': 88, 'pessimistic': 89, 'four': 90, 'kerber': 91, 'chasing': 92, 'modric': 93, 'chance': 94, 'quarter—except': 95, 'meal': 96, 'moment': 97, 'exhilarating': 98, 'league': 99, 'patience': 100, 'service': 101, 'promote': 102, 'flight': 103, 'portion': 104, 'azarenka': 105, 'they': 106, 'delivered': 107, 'on': 108, 'italico': 109, 'any': 110, 'from': 111, 'term': 112, 'downtown': 113, 'two-sets': 114, 'hold': 115, 'my': 116, 'round': 117, 'dishplace': 118, 'fellow': 119, 'outside': 120, 'server': 121, '1.5x': 122, 'fourth': 123, 'side': 124, 'fairly': 125, 'business': 126, 'wonderful': 127, 'djokovic': 128, 'taken': 129, 'green': 130, 'undercurrents': 131, 'enormously': 132, 'city': 133, 'sub-par': 134, 'taste': 135, 'is': 136, 'out': 137, 'world': 138, 'decisive': 139, 'defending': 140, 'happy': 141, 'waiter': 142, 'too': 143, 'perseyside': 144, 'long': 145, 'succeed': 146, 'competition': 147, 'table': 148, 'most': 149, 'expensive': 150, 'and': 326, 'bread': 152, 'big': 153, 'been': 154, 'that': 155, 'many': 156, 'why': 157, 'what': 158, 'seem': 159, 'including': 160, 'campaigns': 161, 'days': 162, 'bookmark': 163, 'their': 164, 'trophy': 165, 'seeded': 166, 'rallies': 167, '33/1': 168, 'group': 169, 'unless': 170, 'place': 171, 'russia': 172, 'results': 173, 'some': 174, 'at': 175, 'wild': 176, 'first': 177, 'victoria': 178, 'gave': 179, 'food': 180, 'special': 181, 'manager': 182, 'star': 183, 'egg': 184, 'thought': 185, 'american': 186, 'possible': 187, 'quality': 188, 'complain': 189, 'not': 190, 'wins': 191, 'when': 192, 'between': 193, 'despite': 194, 'third': 195, 'displayed': 196, 'good': 197, 'would': 198, 'semis': 199, 'bookmarked': 200, 'signed': 201, 'said': 202, 'before': 203, 'tough': 204, 'dog-friendly': 205, 'years': 206, 'especially': 207, 'having': 208, 'full': 209, 'nachos': 210, 'caroline': 211, 'started': 212, 'performances': 213, 'djokovic-nadal': 214, 'culminating': 215, 'nn7': 216, 'reservations': 217, 'wozniacki': 218, 'hope': 219, 'by': 220, 'straight': 221, 'showed': 222, 'tournament': 223, 'lead': 224, 'slump': 225, 'only': 226, 'chances': 227, 'roy': 228, 'amazing': 229, 'certainly': 230, 'quartet': 231, 'new': 232, 'opened': 233, 'open': 234, 'card': 235, 'struggled': 236, 'sat': 237, 'orders': 238, 'halep': 239, 'ice': 240, 'maybe': 241, 'tests': 242, 'against': 243, 'led': 244, 'being': 245, 'toast': 246, 'double': 247, 'alto': 248, 'hodgson': 249, 'extremely': 250, 'other': 251, 'luka': 252, 'run-in': 253, 'beef': 254, 'brazilian': 255, 'really': 256, 'shots': 257, 'wait': 258, 'games': 259, 'the': 260, 'like': 261, 'form': 262, 'find': 263, 'missed': 264, 'angelique': 265, 'minutes': 266, 'year': 267, 'face': 268, 'smash': 269, 'turnaround': 270, 'burger': 271, 'his': 272, 'gravy': 273, 'but': 274, 'crumbs': 275, 'travel': 276, 'want': 277, 'keep': 278, 'north': 279, 'off': 280, 'sheets': 281, 'also': 282, 'lunchtime': 283, 'flavors': 284, 'in': 285, '1.5': 286, 'five': 287, 'over': 288, 'action': 289, 'making': 290, 'rich': 291, 'quick': 292, 'pasta': 293, 'important': 294, 'doesnt': 295, 'sliders': 296, 'quarter-final': 297, 'finished': 298, 'ivan': 299, 'dont': 300, 'hard': 301, 'jonesing': 302, 'fc': 303, 'return': 304, 'different': 305, 'year—and': 306, 'to': 307, 'has': 308, 'never': 309, 'dominance': 310, 'played': 311, 'even': 312, 'separate': 313, 'breakthroughs': 314, 'courts': 315, 'once': 316, 'plus': 317, 'since': 318, 'drinks': 319, 'recommended': 320, 'small': 321, 'plates': 322, '2': 323, 'very': 324, 'miami': 325, 'nederer': 327, 'alisson': 328, 'it': 329, 'down': 330, 'match': 331, 'eliminated': 332, 'went': 333, 'person': 334, 'hubby': 335, 'eggs': 336, 'much': 337, 'expected': 338, 'kitchen': 339, 'battle': 340, 'seal': 341, 'ran': 342, 'illness': 343, 'likely': 344, 'with': 345, 'he': 346, 'which': 347, 'three': 348, 'as': 349, 'area': 350, 'dinner': 351, 'a': 352, 'slides': 353, 'leicester': 354, 'themselves': 355, 'have': 356, 'finally': 357, 'clean': 358, 'semi-final': 359, 'going': 360, 'things': 361, 'began—too': 362, 'reverse': 363, 'pulled': 364, 'difficult': 365, 'located': 366, 'began': 367, 'swing': 368, 'nadal': 369, 'premier': 370, 'dragged': 371, 'slow': 372, 'time': 373, 'fans': 374, 'excellent': 375, 'months': 376, 'within': 377, 'names': 378, '10-9': 379, 'wasnt': 380, 'first-round': 381, 'around': 382, 'presentation': 383, 'clay': 384, 'was': 385, 'serves': 386, 'this': 387, 'visit': 388, 'jose': 389, 'after': 390, 'serving': 391, 'wimbledon': 392, 'will': 393, 'stage': 394, 'australia': 395, 'dare': 396, 'biscuits': 397, 'back': 398, 'jelena': 399, 'restaurant': 400, 'iced': 401, 'say': 402, 'those': 403, 'pull': 404, 'seating': 405, 'knock': 406, 'we': 407, 'chicken': 408, 'texture': 409, 'omelettes': 410, 'people': 411, 'late': 412, 'outfit': 413, 'tie-break': 414, 'came': 415, 'probably': 416, 'simona': 417, 'restaurants': 418, 'tea': 419, 'konta': 420, 'brunch': 421, 'did': 422, 'player': 423, 'top': 424, 'fair': 425, 'weekday': 426, 'seated': 427, 'reached': 428, 'enduring': 429, 'hid': 430, 'eat': 431, 'montreal.': 432, '14': 433, 'places': 434, 'sunnyvale': 435, 'enjoy': 436, 'be': 437, 'failed': 438, 'improved': 439, 'pleasantly': 440, 'better': 441, 'who': 442, 'took': 443, 'two': 444, 'event': 445, 'montreal': 446, 'enjoyed': 447, 'were': 448, 'commented': 449, 'french': 450, 'although': 451, 'briton': 452, '–': 453, 'flair': 454, 'sloane': 455, 'then': 456, 'gruelling': 457, 'us': 458, 'signs': 459, 'palo': 460, 'major': 461, 'look': 462, 'ranks': 463, 'garlic': 464, 'dismal': 465, 'here': 466, 'saturday': 467, 'recommendations': 468, 'slower': 469, 'various': 470, 'currently': 471, 'left': 472, 'contrast': 473, 'hours': 474, 'burgers': 475, 'reaching': 476, 'about': 477, 'prepare': 478, 'huge': 479, 'week': 480, 'almost': 481, 'there': 482, 'ranking': 483, 'stunning': 484, 'case': 485, 'me': 486, 'so': 487, 'ordered': 488, 'cup': 489, 'ostapenko': 490, 'row': 491, 'great': 492, 'sauce': 493, 'her': 494, 'peak': 495, 'madrid': 496, 'last': 497, 'reds': 498, 'way': 499, 'i': 500, 'final': 501, 'does': 502, 'crisp': 503, 'helped': 504, 'dish': 505, 'perisic': 506, 'our': 507, 'all': 508, 'where': 509, 'resignation': 510, 'than': 511, 'seeding': 512, 'no-quarter-given': 513, 'surged': 514, 'title': 515, 'make': 516, 'could': 517, 'rakitic': 518, 'error': 519, 'srvice': 520, 'england': 521, 'during': 522, 'just': 523, '2014': 524, 'york': 525, 'half': 526, 'both': 527, 'summer': 528, 'no1': 529, 'ranked': 530, 'of': 531, 'ago': 532, 'coworkers': 533, 'returning': 534, 'players': 535, 'hour': 536}\n"
     ]
    }
   ],
   "source": [
    "word2idx = {value.replace('(', '').replace(')', ''): key for key, value in idx2word.items()}\n",
    "print(type(word2idx))\n",
    "print(word2idx)"
   ]
  },
  {
   "cell_type": "code",
   "execution_count": 6,
   "id": "bcb75685",
   "metadata": {},
   "outputs": [
    {
     "name": "stdout",
     "output_type": "stream",
     "text": [
      "141 332 364\n"
     ]
    }
   ],
   "source": [
    "print(word2idx['happy'], word2idx['eliminated'], word2idx['pulled'])"
   ]
  },
  {
   "cell_type": "markdown",
   "id": "3710e571",
   "metadata": {},
   "source": [
    "word2idx 딕셔너리를 활용해서 모든 지문을 구성하는 단어 목록을 수치로 변환한 열을 데이터프레임에 추가한다."
   ]
  },
  {
   "cell_type": "code",
   "execution_count": 7,
   "id": "5e8fc9d0",
   "metadata": {},
   "outputs": [],
   "source": [
    "# 지문을 구성하는 모든 단어를 수치로 변환하는 함수를 만든다.\n",
    "def encode_paragraph(paragraph):\n",
    "    words = paragraph.split()\n",
    "    # print(words)\n",
    "    encoded = []\n",
    "    for word in words:\n",
    "        encoded.append([word2idx[word.lower().replace('(', '').replace(')', '')]])\n",
    "    # print(encoded)\n",
    "    return encoded"
   ]
  },
  {
   "cell_type": "code",
   "execution_count": 8,
   "id": "f83bacdb",
   "metadata": {},
   "outputs": [
    {
     "data": {
      "text/html": [
       "<div>\n",
       "<style scoped>\n",
       "    .dataframe tbody tr th:only-of-type {\n",
       "        vertical-align: middle;\n",
       "    }\n",
       "\n",
       "    .dataframe tbody tr th {\n",
       "        vertical-align: top;\n",
       "    }\n",
       "\n",
       "    .dataframe thead th {\n",
       "        text-align: right;\n",
       "    }\n",
       "</style>\n",
       "<table border=\"1\" class=\"dataframe\">\n",
       "  <thead>\n",
       "    <tr style=\"text-align: right;\">\n",
       "      <th></th>\n",
       "      <th>paragraph</th>\n",
       "      <th>category</th>\n",
       "      <th>enc_paragraph</th>\n",
       "    </tr>\n",
       "  </thead>\n",
       "  <tbody>\n",
       "    <tr>\n",
       "      <th>0</th>\n",
       "      <td>Dishplace is located in sunnyvale downtown the...</td>\n",
       "      <td>food</td>\n",
       "      <td>[[118], [136], [366], [285], [435], [113], [48...</td>\n",
       "    </tr>\n",
       "    <tr>\n",
       "      <th>1</th>\n",
       "      <td>Srvice can be slower during busy hours but our...</td>\n",
       "      <td>food</td>\n",
       "      <td>[[520], [12], [437], [469], [522], [84], [474]...</td>\n",
       "    </tr>\n",
       "    <tr>\n",
       "      <th>2</th>\n",
       "      <td>Portions are huge both french toast and their ...</td>\n",
       "      <td>food</td>\n",
       "      <td>[[25], [64], [479], [527], [450], [246], [326]...</td>\n",
       "    </tr>\n",
       "    <tr>\n",
       "      <th>3</th>\n",
       "      <td>We started with apps going the chicken and waf...</td>\n",
       "      <td>food</td>\n",
       "      <td>[[407], [212], [345], [68], [360], [260], [408...</td>\n",
       "    </tr>\n",
       "    <tr>\n",
       "      <th>4</th>\n",
       "      <td>The biscuits and gravy was too salty two peopl...</td>\n",
       "      <td>food</td>\n",
       "      <td>[[260], [397], [326], [273], [385], [143], [29...</td>\n",
       "    </tr>\n",
       "  </tbody>\n",
       "</table>\n",
       "</div>"
      ],
      "text/plain": [
       "                                           paragraph category  \\\n",
       "0  Dishplace is located in sunnyvale downtown the...     food   \n",
       "1  Srvice can be slower during busy hours but our...     food   \n",
       "2  Portions are huge both french toast and their ...     food   \n",
       "3  We started with apps going the chicken and waf...     food   \n",
       "4  The biscuits and gravy was too salty two peopl...     food   \n",
       "\n",
       "                                       enc_paragraph  \n",
       "0  [[118], [136], [366], [285], [435], [113], [48...  \n",
       "1  [[520], [12], [437], [469], [522], [84], [474]...  \n",
       "2  [[25], [64], [479], [527], [450], [246], [326]...  \n",
       "3  [[407], [212], [345], [68], [360], [260], [408...  \n",
       "4  [[260], [397], [326], [273], [385], [143], [29...  "
      ]
     },
     "execution_count": 8,
     "metadata": {},
     "output_type": "execute_result"
    }
   ],
   "source": [
    "# 지문이 수치로 변환된 결과를 데이터프레임에 추가한다.\n",
    "df['enc_paragraph'] = df.paragraph.apply(encode_paragraph)\n",
    "df.head()"
   ]
  },
  {
   "cell_type": "markdown",
   "id": "731e746b",
   "metadata": {},
   "source": [
    "분류 항목(food[1, 0], sports[0, 1])을 원-핫 인코딩으로 수치로 변환한 열을 데이터프레임에 추가한다.  "
   ]
  },
  {
   "cell_type": "code",
   "execution_count": 9,
   "id": "3823bb2f",
   "metadata": {},
   "outputs": [],
   "source": [
    "# 분류 항목을 원-핫 인코딩 수치로 변환하는 함수를 만든다.\n",
    "def encode_category(category):\n",
    "    if category == 'food':\n",
    "        return [1, 0]\n",
    "    else:\n",
    "        return [0, 1]"
   ]
  },
  {
   "cell_type": "code",
   "execution_count": 10,
   "id": "bc5dc964",
   "metadata": {},
   "outputs": [
    {
     "data": {
      "text/html": [
       "<div>\n",
       "<style scoped>\n",
       "    .dataframe tbody tr th:only-of-type {\n",
       "        vertical-align: middle;\n",
       "    }\n",
       "\n",
       "    .dataframe tbody tr th {\n",
       "        vertical-align: top;\n",
       "    }\n",
       "\n",
       "    .dataframe thead th {\n",
       "        text-align: right;\n",
       "    }\n",
       "</style>\n",
       "<table border=\"1\" class=\"dataframe\">\n",
       "  <thead>\n",
       "    <tr style=\"text-align: right;\">\n",
       "      <th></th>\n",
       "      <th>paragraph</th>\n",
       "      <th>category</th>\n",
       "      <th>enc_paragraph</th>\n",
       "      <th>enc_category</th>\n",
       "    </tr>\n",
       "  </thead>\n",
       "  <tbody>\n",
       "    <tr>\n",
       "      <th>0</th>\n",
       "      <td>Dishplace is located in sunnyvale downtown the...</td>\n",
       "      <td>food</td>\n",
       "      <td>[[118], [136], [366], [285], [435], [113], [48...</td>\n",
       "      <td>[0, 1]</td>\n",
       "    </tr>\n",
       "    <tr>\n",
       "      <th>1</th>\n",
       "      <td>Srvice can be slower during busy hours but our...</td>\n",
       "      <td>food</td>\n",
       "      <td>[[520], [12], [437], [469], [522], [84], [474]...</td>\n",
       "      <td>[0, 1]</td>\n",
       "    </tr>\n",
       "    <tr>\n",
       "      <th>2</th>\n",
       "      <td>Portions are huge both french toast and their ...</td>\n",
       "      <td>food</td>\n",
       "      <td>[[25], [64], [479], [527], [450], [246], [326]...</td>\n",
       "      <td>[0, 1]</td>\n",
       "    </tr>\n",
       "    <tr>\n",
       "      <th>3</th>\n",
       "      <td>We started with apps going the chicken and waf...</td>\n",
       "      <td>food</td>\n",
       "      <td>[[407], [212], [345], [68], [360], [260], [408...</td>\n",
       "      <td>[0, 1]</td>\n",
       "    </tr>\n",
       "    <tr>\n",
       "      <th>4</th>\n",
       "      <td>The biscuits and gravy was too salty two peopl...</td>\n",
       "      <td>food</td>\n",
       "      <td>[[260], [397], [326], [273], [385], [143], [29...</td>\n",
       "      <td>[0, 1]</td>\n",
       "    </tr>\n",
       "  </tbody>\n",
       "</table>\n",
       "</div>"
      ],
      "text/plain": [
       "                                           paragraph category  \\\n",
       "0  Dishplace is located in sunnyvale downtown the...     food   \n",
       "1  Srvice can be slower during busy hours but our...     food   \n",
       "2  Portions are huge both french toast and their ...     food   \n",
       "3  We started with apps going the chicken and waf...     food   \n",
       "4  The biscuits and gravy was too salty two peopl...     food   \n",
       "\n",
       "                                       enc_paragraph enc_category  \n",
       "0  [[118], [136], [366], [285], [435], [113], [48...       [0, 1]  \n",
       "1  [[520], [12], [437], [469], [522], [84], [474]...       [0, 1]  \n",
       "2  [[25], [64], [479], [527], [450], [246], [326]...       [0, 1]  \n",
       "3  [[407], [212], [345], [68], [360], [260], [408...       [0, 1]  \n",
       "4  [[260], [397], [326], [273], [385], [143], [29...       [0, 1]  "
      ]
     },
     "execution_count": 10,
     "metadata": {},
     "output_type": "execute_result"
    }
   ],
   "source": [
    "# 분류 항목이 수치로 변환된 결과를 데이터프레임에 추가한다.\n",
    "df['enc_category'] = df.paragraph.apply(encode_category)\n",
    "df.head()"
   ]
  },
  {
   "cell_type": "markdown",
   "id": "2b2bde13",
   "metadata": {},
   "source": [
    "Dynamic RNN은 입력값의 다양한 길이를 고려하여 결과값을 출력하므로 Dynamic RNN이 각 입력값에 실제 길이(단어의 개수)를 알 수 있도록 각 지문별 단어의 개수를 계산해서  \n",
    "계산된 값을 데이터프레임에 추가한다."
   ]
  },
  {
   "cell_type": "code",
   "execution_count": 11,
   "id": "0f43948f",
   "metadata": {},
   "outputs": [],
   "source": [
    "# 지문을 구성하는 단어의 개수를 세는 함수를 만든다.\n",
    "def word_cnt(paragraph):\n",
    "    return len(paragraph.split())"
   ]
  },
  {
   "cell_type": "code",
   "execution_count": 12,
   "id": "8b478f3d",
   "metadata": {},
   "outputs": [
    {
     "data": {
      "text/html": [
       "<div>\n",
       "<style scoped>\n",
       "    .dataframe tbody tr th:only-of-type {\n",
       "        vertical-align: middle;\n",
       "    }\n",
       "\n",
       "    .dataframe tbody tr th {\n",
       "        vertical-align: top;\n",
       "    }\n",
       "\n",
       "    .dataframe thead th {\n",
       "        text-align: right;\n",
       "    }\n",
       "</style>\n",
       "<table border=\"1\" class=\"dataframe\">\n",
       "  <thead>\n",
       "    <tr style=\"text-align: right;\">\n",
       "      <th></th>\n",
       "      <th>paragraph</th>\n",
       "      <th>category</th>\n",
       "      <th>enc_paragraph</th>\n",
       "      <th>enc_category</th>\n",
       "      <th>seq_length</th>\n",
       "    </tr>\n",
       "  </thead>\n",
       "  <tbody>\n",
       "    <tr>\n",
       "      <th>0</th>\n",
       "      <td>Dishplace is located in sunnyvale downtown the...</td>\n",
       "      <td>food</td>\n",
       "      <td>[[118], [136], [366], [285], [435], [113], [48...</td>\n",
       "      <td>[0, 1]</td>\n",
       "      <td>53</td>\n",
       "    </tr>\n",
       "    <tr>\n",
       "      <th>1</th>\n",
       "      <td>Srvice can be slower during busy hours but our...</td>\n",
       "      <td>food</td>\n",
       "      <td>[[520], [12], [437], [469], [522], [84], [474]...</td>\n",
       "      <td>[0, 1]</td>\n",
       "      <td>19</td>\n",
       "    </tr>\n",
       "    <tr>\n",
       "      <th>2</th>\n",
       "      <td>Portions are huge both french toast and their ...</td>\n",
       "      <td>food</td>\n",
       "      <td>[[25], [64], [479], [527], [450], [246], [326]...</td>\n",
       "      <td>[0, 1]</td>\n",
       "      <td>42</td>\n",
       "    </tr>\n",
       "    <tr>\n",
       "      <th>3</th>\n",
       "      <td>We started with apps going the chicken and waf...</td>\n",
       "      <td>food</td>\n",
       "      <td>[[407], [212], [345], [68], [360], [260], [408...</td>\n",
       "      <td>[0, 1]</td>\n",
       "      <td>43</td>\n",
       "    </tr>\n",
       "    <tr>\n",
       "      <th>4</th>\n",
       "      <td>The biscuits and gravy was too salty two peopl...</td>\n",
       "      <td>food</td>\n",
       "      <td>[[260], [397], [326], [273], [385], [143], [29...</td>\n",
       "      <td>[0, 1]</td>\n",
       "      <td>82</td>\n",
       "    </tr>\n",
       "    <tr>\n",
       "      <th>5</th>\n",
       "      <td>The garlic fries were a great starter (and a h...</td>\n",
       "      <td>food</td>\n",
       "      <td>[[260], [464], [63], [448], [352], [492], [35]...</td>\n",
       "      <td>[0, 1]</td>\n",
       "      <td>24</td>\n",
       "    </tr>\n",
       "    <tr>\n",
       "      <th>6</th>\n",
       "      <td>Our meal was excellent i had the pasta ai form...</td>\n",
       "      <td>food</td>\n",
       "      <td>[[507], [96], [385], [375], [500], [39], [260]...</td>\n",
       "      <td>[0, 1]</td>\n",
       "      <td>50</td>\n",
       "    </tr>\n",
       "    <tr>\n",
       "      <th>7</th>\n",
       "      <td>What i enjoy most about palo alto is so many r...</td>\n",
       "      <td>food</td>\n",
       "      <td>[[158], [500], [436], [149], [477], [460], [24...</td>\n",
       "      <td>[0, 1]</td>\n",
       "      <td>43</td>\n",
       "    </tr>\n",
       "    <tr>\n",
       "      <th>8</th>\n",
       "      <td>The drinks came out fairly quickly a good two ...</td>\n",
       "      <td>food</td>\n",
       "      <td>[[260], [319], [415], [137], [125], [50], [352...</td>\n",
       "      <td>[0, 1]</td>\n",
       "      <td>49</td>\n",
       "    </tr>\n",
       "    <tr>\n",
       "      <th>9</th>\n",
       "      <td>Despite the not so good burger the service was...</td>\n",
       "      <td>food</td>\n",
       "      <td>[[194], [260], [190], [487], [197], [271], [26...</td>\n",
       "      <td>[0, 1]</td>\n",
       "      <td>82</td>\n",
       "    </tr>\n",
       "    <tr>\n",
       "      <th>10</th>\n",
       "      <td>The four reigning major champions simona halep...</td>\n",
       "      <td>sports</td>\n",
       "      <td>[[260], [90], [79], [461], [24], [417], [239],...</td>\n",
       "      <td>[0, 1]</td>\n",
       "      <td>65</td>\n",
       "    </tr>\n",
       "    <tr>\n",
       "      <th>11</th>\n",
       "      <td>The briton was seeded nn7 here last year befor...</td>\n",
       "      <td>sports</td>\n",
       "      <td>[[260], [452], [385], [166], [216], [466], [49...</td>\n",
       "      <td>[0, 1]</td>\n",
       "      <td>88</td>\n",
       "    </tr>\n",
       "    <tr>\n",
       "      <th>12</th>\n",
       "      <td>Stephens surged her way back from injury in st...</td>\n",
       "      <td>sports</td>\n",
       "      <td>[[61], [514], [494], [499], [398], [111], [53]...</td>\n",
       "      <td>[0, 1]</td>\n",
       "      <td>91</td>\n",
       "    </tr>\n",
       "    <tr>\n",
       "      <th>13</th>\n",
       "      <td>When it came to england chances in the world c...</td>\n",
       "      <td>sports</td>\n",
       "      <td>[[192], [329], [415], [307], [521], [227], [28...</td>\n",
       "      <td>[0, 1]</td>\n",
       "      <td>71</td>\n",
       "    </tr>\n",
       "    <tr>\n",
       "      <th>14</th>\n",
       "      <td>The team that eliminated russia – croatia – al...</td>\n",
       "      <td>sports</td>\n",
       "      <td>[[260], [5], [155], [332], [172], [453], [30],...</td>\n",
       "      <td>[0, 1]</td>\n",
       "      <td>70</td>\n",
       "    </tr>\n",
       "    <tr>\n",
       "      <th>15</th>\n",
       "      <td>The perseyside outfit finished in fourth place...</td>\n",
       "      <td>sports</td>\n",
       "      <td>[[260], [144], [413], [298], [285], [123], [17...</td>\n",
       "      <td>[0, 1]</td>\n",
       "      <td>30</td>\n",
       "    </tr>\n",
       "    <tr>\n",
       "      <th>16</th>\n",
       "      <td>Liverpool fc will return to premier league act...</td>\n",
       "      <td>sports</td>\n",
       "      <td>[[27], [303], [393], [304], [307], [370], [99]...</td>\n",
       "      <td>[0, 1]</td>\n",
       "      <td>35</td>\n",
       "    </tr>\n",
       "    <tr>\n",
       "      <th>17</th>\n",
       "      <td>Alisson signed for liverpool fc from as roma t...</td>\n",
       "      <td>sports</td>\n",
       "      <td>[[328], [201], [20], [27], [303], [111], [349]...</td>\n",
       "      <td>[0, 1]</td>\n",
       "      <td>30</td>\n",
       "    </tr>\n",
       "    <tr>\n",
       "      <th>18</th>\n",
       "      <td>But the rankings during that run-in to new yor...</td>\n",
       "      <td>sports</td>\n",
       "      <td>[[274], [260], [75], [522], [155], [253], [307...</td>\n",
       "      <td>[0, 1]</td>\n",
       "      <td>63</td>\n",
       "    </tr>\n",
       "    <tr>\n",
       "      <th>19</th>\n",
       "      <td>Then came the oh-so-familiar djokovic-nadal no...</td>\n",
       "      <td>sports</td>\n",
       "      <td>[[456], [415], [260], [60], [214], [513], [340...</td>\n",
       "      <td>[0, 1]</td>\n",
       "      <td>65</td>\n",
       "    </tr>\n",
       "  </tbody>\n",
       "</table>\n",
       "</div>"
      ],
      "text/plain": [
       "                                            paragraph category  \\\n",
       "0   Dishplace is located in sunnyvale downtown the...     food   \n",
       "1   Srvice can be slower during busy hours but our...     food   \n",
       "2   Portions are huge both french toast and their ...     food   \n",
       "3   We started with apps going the chicken and waf...     food   \n",
       "4   The biscuits and gravy was too salty two peopl...     food   \n",
       "5   The garlic fries were a great starter (and a h...     food   \n",
       "6   Our meal was excellent i had the pasta ai form...     food   \n",
       "7   What i enjoy most about palo alto is so many r...     food   \n",
       "8   The drinks came out fairly quickly a good two ...     food   \n",
       "9   Despite the not so good burger the service was...     food   \n",
       "10  The four reigning major champions simona halep...   sports   \n",
       "11  The briton was seeded nn7 here last year befor...   sports   \n",
       "12  Stephens surged her way back from injury in st...   sports   \n",
       "13  When it came to england chances in the world c...   sports   \n",
       "14  The team that eliminated russia – croatia – al...   sports   \n",
       "15  The perseyside outfit finished in fourth place...   sports   \n",
       "16  Liverpool fc will return to premier league act...   sports   \n",
       "17  Alisson signed for liverpool fc from as roma t...   sports   \n",
       "18  But the rankings during that run-in to new yor...   sports   \n",
       "19  Then came the oh-so-familiar djokovic-nadal no...   sports   \n",
       "\n",
       "                                        enc_paragraph enc_category  seq_length  \n",
       "0   [[118], [136], [366], [285], [435], [113], [48...       [0, 1]          53  \n",
       "1   [[520], [12], [437], [469], [522], [84], [474]...       [0, 1]          19  \n",
       "2   [[25], [64], [479], [527], [450], [246], [326]...       [0, 1]          42  \n",
       "3   [[407], [212], [345], [68], [360], [260], [408...       [0, 1]          43  \n",
       "4   [[260], [397], [326], [273], [385], [143], [29...       [0, 1]          82  \n",
       "5   [[260], [464], [63], [448], [352], [492], [35]...       [0, 1]          24  \n",
       "6   [[507], [96], [385], [375], [500], [39], [260]...       [0, 1]          50  \n",
       "7   [[158], [500], [436], [149], [477], [460], [24...       [0, 1]          43  \n",
       "8   [[260], [319], [415], [137], [125], [50], [352...       [0, 1]          49  \n",
       "9   [[194], [260], [190], [487], [197], [271], [26...       [0, 1]          82  \n",
       "10  [[260], [90], [79], [461], [24], [417], [239],...       [0, 1]          65  \n",
       "11  [[260], [452], [385], [166], [216], [466], [49...       [0, 1]          88  \n",
       "12  [[61], [514], [494], [499], [398], [111], [53]...       [0, 1]          91  \n",
       "13  [[192], [329], [415], [307], [521], [227], [28...       [0, 1]          71  \n",
       "14  [[260], [5], [155], [332], [172], [453], [30],...       [0, 1]          70  \n",
       "15  [[260], [144], [413], [298], [285], [123], [17...       [0, 1]          30  \n",
       "16  [[27], [303], [393], [304], [307], [370], [99]...       [0, 1]          35  \n",
       "17  [[328], [201], [20], [27], [303], [111], [349]...       [0, 1]          30  \n",
       "18  [[274], [260], [75], [522], [155], [253], [307...       [0, 1]          63  \n",
       "19  [[456], [415], [260], [60], [214], [513], [340...       [0, 1]          65  "
      ]
     },
     "execution_count": 12,
     "metadata": {},
     "output_type": "execute_result"
    }
   ],
   "source": [
    "# 지문을 구성하는 단어의 개수를 데이터프레임에 추가한다.\n",
    "df['seq_length'] = df.paragraph.apply(word_cnt)\n",
    "df"
   ]
  },
  {
   "cell_type": "markdown",
   "id": "4ba3a4ec",
   "metadata": {},
   "source": [
    "텐서플로우의 RNN은 항상 같은 길이의 시퀀스를 받아야 한다.  \n",
    "길이가 작은 입력 시퀀스는 패딩을 추가적으로 넣어 모든 시퀀스의 길이를 동일하게 설정한다.  \n",
    "패딩이 RNN 계산에 영향을 끼치지 않도록 Dynamic RNN은 패딩 이전의 입력 시퀀스의 실제 길이를 파라미터로 받아 상태값 계산시 패딩을 제외시킨다."
   ]
  },
  {
   "cell_type": "code",
   "execution_count": 13,
   "id": "f72dcb6a",
   "metadata": {},
   "outputs": [
    {
     "name": "stdout",
     "output_type": "stream",
     "text": [
      "91\n"
     ]
    }
   ],
   "source": [
    "# 최고로 긴 지문의 단어 수를 구한 후 모든 지문의 패딩을 집어넣어 최고로 긴 지문과 동일한 길이를 갖도록 만들기 위해 \n",
    "# 최고로 긴 지문의 단어 수를 계산한다.\n",
    "max_word_cnt = 0\n",
    "#for row in df.paragraph:\n",
    "    #if len(row.split()) > max_word_cnt:\n",
    "        #max_word_cnt = len(row.split())\n",
    "#for seq in df.seq_length:\n",
    "    #if seq > max_word_cnt:\n",
    "        #max_word_cnt = seq\n",
    "        \n",
    "max_word_cnt = df.seq_length.max()\n",
    "print(max_word_cnt)"
   ]
  },
  {
   "cell_type": "code",
   "execution_count": 14,
   "id": "c983302b",
   "metadata": {},
   "outputs": [],
   "source": [
    "# 모든 지문에 패딩을 집어넣어 최고로 긴 문장과 동일한 길이를 갖게하는 함수를 만든다.\n",
    "def sequence_padding(enc_paragraph):\n",
    "    seq_length = len(enc_paragraph)\n",
    "    for i in range(seq_length, max_word_cnt):\n",
    "        enc_paragraph.append([-1])\n",
    "    return enc_paragraph"
   ]
  },
  {
   "cell_type": "code",
   "execution_count": 15,
   "id": "02fa7c21",
   "metadata": {
    "scrolled": false
   },
   "outputs": [
    {
     "name": "stdout",
     "output_type": "stream",
     "text": [
      "91\n",
      "[[520], [12], [437], [469], [522], [84], [474], [274], [507], [142], [385], [67], [326], [86], [179], [174], [492], [46], [468], [-1], [-1], [-1], [-1], [-1], [-1], [-1], [-1], [-1], [-1], [-1], [-1], [-1], [-1], [-1], [-1], [-1], [-1], [-1], [-1], [-1], [-1], [-1], [-1], [-1], [-1], [-1], [-1], [-1], [-1], [-1], [-1], [-1], [-1], [-1], [-1], [-1], [-1], [-1], [-1], [-1], [-1], [-1], [-1], [-1], [-1], [-1], [-1], [-1], [-1], [-1], [-1], [-1], [-1], [-1], [-1], [-1], [-1], [-1], [-1], [-1], [-1], [-1], [-1], [-1], [-1], [-1], [-1], [-1], [-1], [-1], [-1]]\n",
      "================================================================================\n",
      "91\n",
      "[[61], [514], [494], [499], [398], [111], [53], [285], [484], [49], [307], [17], [494], [177], [461], [466], [497], [306], [530], [523], [26], [14], [308], [318], [87], [158], [352], [153], [373], [423], [14], [136], [38], [260], [325], [515], [81], [90], [119], [461], [24], [456], [476], [260], [501], [175], [260], [450], [234], [398], [108], [279], [186], [301], [315], [14], [342], [307], [260], [501], [285], [446], [226], [523], [82], [137], [220], [239], [14], [308], [282], [45], [156], [531], [260], [153], [378], [285], [494], [95], [20], [176], [235], [105], [349], [352], [187], [285], [260], [195], [117]]\n"
     ]
    }
   ],
   "source": [
    "# 모든 지문에 패딩이 적용된 결과를 데이터프레임에 적용한다.\n",
    "df['enc_paragraph'] = df.enc_paragraph.apply(sequence_padding)\n",
    "print(len(df.enc_paragraph[1]))\n",
    "print(df.enc_paragraph[1])\n",
    "print('=' * 80)\n",
    "print(len(df.enc_paragraph[12]))\n",
    "print(df.enc_paragraph[12])"
   ]
  },
  {
   "cell_type": "markdown",
   "id": "69e01cd9",
   "metadata": {},
   "source": [
    "모델에서 사용할 입력값, 실제값, Dynamic RNN의 sequence_length 파라미터를 만든다."
   ]
  },
  {
   "cell_type": "code",
   "execution_count": 16,
   "id": "ffd3e6b5",
   "metadata": {},
   "outputs": [
    {
     "name": "stdout",
     "output_type": "stream",
     "text": [
      "(20, 91, 1) (20, 2)\n"
     ]
    }
   ],
   "source": [
    "# 넘파이 array() 메소드는 인수로 파이썬의 리스트나 튜플 형태의 데이터를 받아서 넘파이 배열로 변환하는 기능을 하기 때문에 \n",
    "# 데이터프레임의 시리즈를 바로 넣어주면 안되고 tolist() 메소드를 실행해서 시리즈를 리스트 형태로 변환한 후 넣어준다.\n",
    "enc_paragraph = np.array(df.enc_paragraph.tolist())\n",
    "# print(type(df.enc_paragraph)) # <class 'pandas.core.series.Series'>\n",
    "# print(type(enc_paragraph.tolist())) # <class 'list'>\n",
    "# print(type(enc_paragraph)) # <class 'numpy.ndarray'>\n",
    "enc_category = np.array(df.enc_category.tolist()) # 실제값\n",
    "#print(enc_category)\n",
    "sequence_length = np.array(df.seq_length.tolist()) # Dynamic RNN의 sequence_length 파라미터 값\n",
    "#print(sequence_length)\n",
    "\n",
    "train_X = enc_paragraph\n",
    "trian_Y = enc_category\n",
    "print(train_X.shape, trian_Y.shape)"
   ]
  },
  {
   "cell_type": "markdown",
   "id": "d425ecc8",
   "metadata": {},
   "source": [
    "텐서플로우로 지문을 읽고 주제를 분류하는 모델을 만든다.  \n",
    "<img src=\"./images/LSTM3.png\" align=\"left\" width=\"1000\"/> "
   ]
  },
  {
   "cell_type": "markdown",
   "id": "6dd5fd54",
   "metadata": {},
   "source": [
    "문맥 벡터(contextualized vector) 생성 단계  \n",
    "인덱스를 임베딩으로 변환한다. 임베딩은 학습 과정을 통해 단어 유사도를 포함하게 되어 문맥 벡터를 생성하는데 도움을 준다.  \n",
    "인간의 언어(자연거)는 수치화되어있지 않은 데이터이기 때문에 머신러닝, 딥러닝 기법을 사로 사용할 수 없다.  \n",
    "그래서 자연어 처리에서 특징을 추출해서 수치화 해줘야 하는데 이때 사용하는 것이 '언어의 벡터화'이다. 이런 백터화 과정을 word embedding이라고 한다.  \n",
    "LSTM에 임베딩된 시퀀스를 입력해서 최종 상태값을 출력한다. => 최종 상태값이 문맥 벡터이다.  \n",
    "\n",
    "주제(food, sports) 분류 단계  \n",
    "문맥 벤터를 덴즈 레이어에 입력하고 출력값을 노드가 2개인 덴즈 레이어에 입력한 후 노드가 2개인 덴즈 레이어의 출력값을 소프트 맥스에 입력시켜 food, sports에 대한 예측값을 계산한다."
   ]
  },
  {
   "cell_type": "markdown",
   "id": "afeb0c23",
   "metadata": {},
   "source": [
    "모델을 구현한다."
   ]
  },
  {
   "cell_type": "code",
   "execution_count": 17,
   "id": "1fddcd47",
   "metadata": {
    "scrolled": true
   },
   "outputs": [
    {
     "name": "stdout",
     "output_type": "stream",
     "text": [
      "WARNING:tensorflow:From <ipython-input-17-c1ce90330cbc>:18: dynamic_rnn (from tensorflow.python.ops.rnn) is deprecated and will be removed in a future version.\n",
      "Instructions for updating:\n",
      "Please use `keras.layers.RNN(cell)`, which is equivalent to this API\n",
      "WARNING:tensorflow:From c:\\python\\lib\\site-packages\\keras\\layers\\legacy_rnn\\rnn_cell_impl.py:979: calling Zeros.__init__ (from tensorflow.python.ops.init_ops) with dtype is deprecated and will be removed in a future version.\n",
      "Instructions for updating:\n",
      "Call initializer instance with the dtype argument instead of passing it to the constructor\n"
     ]
    }
   ],
   "source": [
    "# 초기화\n",
    "tf.set_random_seed(35)\n",
    "learning_rate = 0.001 # 학습율\n",
    "n_epoch = 300 # 학습 횟수\n",
    "\n",
    "# 입력값과 출력값을 저장할 플레이스홀더(placeholder)를 만든다.\n",
    "# 입력값은 문장을 구성하는 단어들의 인덱스이며, 그 길이는 지문을 구성하는 단어의 최대 개수(max_word_cnt)이다.\n",
    "X = tf.placeholder(dtype=tf.float32, shape=[None, max_word_cnt, 1]) # 입력값을 기억할 placeholder, (20, 91, 1)\n",
    "Y = tf.placeholder(dtype=tf.float32, shape=[None, 2]) # 실제값을 기억할 placeholder, (20, 2)\n",
    "\n",
    "# 워드 임베딩 레이어, 임베딩 레이어는 입력값(인덱스)를 입력받아 5차원 벡터의 임베딩을 출력한다.\n",
    "# layers.dense() 메소드는 densely-connect layer 즉, '완전 연결 계층'을 만들어 준다.\n",
    "embedding = tf.layers.dense(X, 5)\n",
    "# LSTM 셀은 64차원 벡터의 생성값을 출력한다.\n",
    "cell = tf.nn.rnn_cell.LSTMCell(num_units=64)\n",
    "\n",
    "# 출력값과 상태값을 저장한다. 상태값이 문맥 벡터로 사용되며 dense layer의 입력값이 된다.\n",
    "output, state = tf.nn.dynamic_rnn(cell=cell, dtype=tf.float32, inputs=embedding, sequence_length=sequence_length)\n",
    "\n",
    "# 주제 분류는 두 개의 덴즈 레이어를 사용한다.\n",
    "# 첫 번째 덴즈 레이어는 32개 노드를 가지고 있고, 두 번째 덴즈 레이어는 2개의 노드를 가지고 있으며 이 2개의 노드가 소프트 맥스의 입력으로 들어간다.\n",
    "dense_layer = tf.layers.dense(state.h, 32)\n",
    "# logit은 food, sports를 원-핫 인코딩으로 구분하기 위해 2차원 벡터로 구성한다.\n",
    "logit = tf.layers.dense(dense_layer, 2)\n",
    "\n",
    "# 손실 함수 - 크로스 엔트로피\n",
    "cross_entropy = tf.nn.softmax_cross_entropy_with_logits_v2(logits=logit, labels=Y)\n",
    "loss = tf.reduce_mean(cross_entropy)\n",
    "\n",
    "# Adam 옵티마이저\n",
    "optimizer = tf.train.AdamOptimizer(learning_rate=learning_rate).minimize(loss)"
   ]
  },
  {
   "cell_type": "markdown",
   "id": "a30497a2",
   "metadata": {},
   "source": [
    "모델 요약"
   ]
  },
  {
   "cell_type": "code",
   "execution_count": 23,
   "id": "8800e232",
   "metadata": {},
   "outputs": [
    {
     "name": "stdout",
     "output_type": "stream",
     "text": [
      "Tensor(\"Placeholder:0\", shape=(?, 91, 1), dtype=float32)\n",
      "Tensor(\"dense/BiasAdd:0\", shape=(?, 91, 5), dtype=float32)\n",
      "Tensor(\"rnn/while/Exit_4:0\", shape=(?, 64), dtype=float32)\n",
      "Tensor(\"dense_1/BiasAdd:0\", shape=(?, 32), dtype=float32)\n",
      "Tensor(\"dense_2/BiasAdd:0\", shape=(?, 2), dtype=float32)\n"
     ]
    }
   ],
   "source": [
    "# 문맥 벡터 생성 \n",
    "# 입력값은 단어들의 인덱스이며 그 길이는 항상 91이다.\n",
    "print(X) # Tensor(\"Placeholder:0\", shape=(?, 91, 1), dtype=float32)\n",
    "\n",
    "# 임베딩 레이어는 인덱스를 받아 5차원 벡터의 임베딩을 출력한다.\n",
    "print(embedding) # Tensor(\"dense/BiasAdd:0\", shape=(?, 91, 5), dtype=float32)\n",
    "\n",
    "# LSTM 셀은 64차원의 상태값을 출력한다.\n",
    "print(state.h) # Tensor(\"rnn/while/Exit_4:0\", shape=(?, 64), dtype=float32)\n",
    "\n",
    "# 문맥 벡터를 사용해 지문의 주제 분류하기, 주제 분류는 2개의 덴즈 레이어를 사용한다.\n",
    "# 첫 번째 덴즈 레이어는 32개의 노드를 가지고 있다.\n",
    "print(dense_layer) # Tensor(\"dense_1/BiasAdd:0\", shape=(?, 32), dtype=float32)\n",
    "# 두 번째 덴즈 레이어는 2개의 노드를 가지고 있으며, 이 2개의 노드는 소프트 맥스의 입력값으로 들어간다.\n",
    "print(logit) # Tensor(\"dense_2/BiasAdd:0\", shape=(?, 2), dtype=float32)"
   ]
  },
  {
   "cell_type": "markdown",
   "id": "c0ab3a8d",
   "metadata": {},
   "source": [
    "학습시킨다."
   ]
  },
  {
   "cell_type": "code",
   "execution_count": 26,
   "id": "b35ff88f",
   "metadata": {},
   "outputs": [
    {
     "name": "stdout",
     "output_type": "stream",
     "text": [
      "epoch:   0, loss: 0.4698, acc: 1.0000\n",
      "epoch:  50, loss: 0.0002, acc: 1.0000\n",
      "epoch: 100, loss: 0.0001, acc: 1.0000\n",
      "epoch: 150, loss: 0.0000, acc: 1.0000\n",
      "epoch: 200, loss: 0.0000, acc: 1.0000\n",
      "epoch: 250, loss: 0.0000, acc: 1.0000\n",
      "epoch: 300, loss: 0.0000, acc: 1.0000\n"
     ]
    }
   ],
   "source": [
    "with tf.Session() as sess:\n",
    "    sess.run(tf.global_variables_initializer())\n",
    "    for epoch in range(n_epoch + 1):\n",
    "        #sess.run(optimizer, feed_dict={X: train_X, Y: trian_Y})\n",
    "        #train_loss = sess.run(loss, feed_dict={X: train_X, Y: trian_Y})\n",
    "        _, train_loss = sess.run([optimizer, loss], feed_dict={X: train_X, Y: trian_Y})\n",
    "        \n",
    "        if epoch % 50 == 0:\n",
    "            predict = tf.nn.softmax(logit) # 예측\n",
    "            # 정확도 계산\n",
    "            correct_prediction = tf.equal(tf.argmax(predict, 1), tf.argmax(Y, 1))\n",
    "            accuracy = tf.reduce_mean(tf.cast(correct_prediction, 'float'))\n",
    "            cur_acc = accuracy.eval(feed_dict={X: train_X, Y: trian_Y})\n",
    "            print('epoch: {:3d}, loss: {:6.4f}, acc: {:6.4f}'.format(epoch, train_loss, cur_acc))"
   ]
  },
  {
   "cell_type": "code",
   "execution_count": null,
   "id": "7fe4c662",
   "metadata": {},
   "outputs": [],
   "source": []
  },
  {
   "cell_type": "code",
   "execution_count": null,
   "id": "45b150a7",
   "metadata": {},
   "outputs": [],
   "source": []
  },
  {
   "cell_type": "code",
   "execution_count": null,
   "id": "fb8d29b8",
   "metadata": {},
   "outputs": [],
   "source": []
  },
  {
   "cell_type": "code",
   "execution_count": null,
   "id": "e3e3344f",
   "metadata": {},
   "outputs": [],
   "source": []
  },
  {
   "cell_type": "code",
   "execution_count": null,
   "id": "4811c167",
   "metadata": {},
   "outputs": [],
   "source": []
  },
  {
   "cell_type": "code",
   "execution_count": null,
   "id": "e871f79c",
   "metadata": {},
   "outputs": [],
   "source": []
  }
 ],
 "metadata": {
  "kernelspec": {
   "display_name": "Python 3",
   "language": "python",
   "name": "python3"
  },
  "language_info": {
   "codemirror_mode": {
    "name": "ipython",
    "version": 3
   },
   "file_extension": ".py",
   "mimetype": "text/x-python",
   "name": "python",
   "nbconvert_exporter": "python",
   "pygments_lexer": "ipython3",
   "version": "3.6.8"
  }
 },
 "nbformat": 4,
 "nbformat_minor": 5
}
