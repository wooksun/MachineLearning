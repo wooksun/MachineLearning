{
 "cells": [
  {
   "cell_type": "code",
   "execution_count": 1,
   "id": "3b89f995",
   "metadata": {},
   "outputs": [],
   "source": [
    "%config Completer.use_jedi = False\n",
    "import warnings\n",
    "warnings.filterwarnings(action='ignore')\n",
    "import numpy as np\n",
    "import pandas as pd\n",
    "import matplotlib.pyplot as plt\n",
    "import seaborn as sns\n",
    "from sklearn.model_selection import train_test_split\n",
    "from sklearn.metrics import accuracy_score\n",
    "from sklearn.metrics import classification_report\n",
    "from sklearn.metrics import confusion_matrix"
   ]
  },
  {
   "cell_type": "code",
   "execution_count": 6,
   "id": "22a654dd",
   "metadata": {},
   "outputs": [],
   "source": [
    "from sklearn.datasets import load_digits # MNIST 손글씨 데이터셋을 사용하기 위해 import 한다.\n",
    "from sklearn.neighbors import KNeighborsClassifier # kNN\n",
    "from sklearn.svm import SVC # SVM\n",
    "from sklearn import tree # 의사결정 트리\n",
    "# 하드/소프트 보팅을 계산하기 위해 import 한다.\n",
    "from sklearn.ensemble import VotingClassifier \n",
    "from sklearn.model_selection import train_test_split\n",
    "from sklearn.metrics import accuracy_score"
   ]
  },
  {
   "cell_type": "markdown",
   "id": "6833a8ef",
   "metadata": {},
   "source": [
    "손글씨 데이터를 불러온다."
   ]
  },
  {
   "cell_type": "code",
   "execution_count": 7,
   "id": "b73cc583",
   "metadata": {},
   "outputs": [
    {
     "name": "stdout",
     "output_type": "stream",
     "text": [
      "(1797, 64) (1797,)\n"
     ]
    }
   ],
   "source": [
    "mnist = load_digits()\n",
    "features, labels = mnist.data, mnist.target\n",
    "print(features.shape, labels.shape)"
   ]
  },
  {
   "cell_type": "markdown",
   "id": "dc129ae7",
   "metadata": {},
   "source": [
    "학습 데이터와 테스트 데이터를 나눈다."
   ]
  },
  {
   "cell_type": "code",
   "execution_count": 17,
   "id": "45c3c716",
   "metadata": {},
   "outputs": [
    {
     "name": "stdout",
     "output_type": "stream",
     "text": [
      "학습 데이터 개수: 1437, 테스트 데이터 개수: 360\n"
     ]
    }
   ],
   "source": [
    "X_train, X_test, y_train, y_test = train_test_split(features, labels, test_size=0.2)\n",
    "print('학습 데이터 개수: {}, 테스트 데이터 개수: {}'.format(X_train.shape[0], X_test.shape[0]))"
   ]
  },
  {
   "cell_type": "markdown",
   "id": "72aa885d",
   "metadata": {},
   "source": [
    "단일 모델이 정확도 측정  \n",
    "앙상블 정확도를 측정하기에 앞서서 단일 모델들의 정확도를 kNN, SVC, 의사결정 트리 분류기를 만들어 정확도를 계산한다."
   ]
  },
  {
   "cell_type": "code",
   "execution_count": 18,
   "id": "2e5256bb",
   "metadata": {},
   "outputs": [
    {
     "name": "stdout",
     "output_type": "stream",
     "text": [
      "knn accuracy 정확도: 83.33%\n"
     ]
    }
   ],
   "source": [
    "# kNN\n",
    "knn = KNeighborsClassifier(n_neighbors=299).fit(X_train, y_train)\n",
    "knn_predict = knn.predict(X_test)\n",
    "print('knn accuracy 정확도: {:6.2%}'.format(accuracy_score(y_test, knn_predict)))"
   ]
  },
  {
   "cell_type": "code",
   "execution_count": 22,
   "id": "1ecbf6ac",
   "metadata": {},
   "outputs": [
    {
     "name": "stdout",
     "output_type": "stream",
     "text": [
      "svm accuracy 정확도: 91.39%\n"
     ]
    }
   ],
   "source": [
    "# SVM\n",
    "svm = SVC(C=0.1, gamma=0.003, probability=True, random_state=35).fit(X_train, y_train)\n",
    "svm_predict = svm.predict(X_test)\n",
    "print('svm accuracy 정확도: {:6.2%}'.format(accuracy_score(y_test, svm_predict)))"
   ]
  },
  {
   "cell_type": "code",
   "execution_count": 24,
   "id": "ccc6f117",
   "metadata": {},
   "outputs": [
    {
     "name": "stdout",
     "output_type": "stream",
     "text": [
      "dtree accuracy 정확도: 81.67%\n"
     ]
    }
   ],
   "source": [
    "# 의사결정 트리\n",
    "dtree = tree.DecisionTreeClassifier(max_depth=8, random_state=35).fit(X_train, y_train)\n",
    "dtree_predict = dtree.predict(X_test)\n",
    "print('dtree accuracy 정확도: {:6.2%}'.format(accuracy_score(y_test, dtree_predict)))"
   ]
  },
  {
   "cell_type": "markdown",
   "id": "fde7c249",
   "metadata": {},
   "source": [
    "하드 보팅, 소프트 보팅은 VotingClassifier를 사용해 쉽게 구현할 수 있다.\n",
    "\n",
    "하드 보팅  \n",
    "일반적인 투표와 같이 각 분류기의 예측값들을 모아 가장 많은 투표를 받은 예측값으로 최종 결론을 내린다."
   ]
  },
  {
   "cell_type": "code",
   "execution_count": 26,
   "id": "176cb4b4",
   "metadata": {},
   "outputs": [
    {
     "name": "stdout",
     "output_type": "stream",
     "text": [
      "hard_voting: 90.833333%\n"
     ]
    }
   ],
   "source": [
    "hv_clf = VotingClassifier(estimators=[('knn', knn), ('svm', svm), ('decision_tree', dtree)], weights=[1, 1, 1],\n",
    "                voting='hard').fit(X_train, y_train)\n",
    "hv_predict = hv_clf.predict(X_test)\n",
    "print('hard_voting: {:%}'.format(accuracy_score(y_test, hv_predict)))"
   ]
  },
  {
   "cell_type": "markdown",
   "id": "f15692cf",
   "metadata": {},
   "source": [
    "소프트 보팅  \n",
    "각 분류값별 확률을 더해준 값을 점수로 사용해 최대 점수를 가진 분류값으로 결론을 내린다.\n",
    "\n",
    "확률 합계"
   ]
  },
  {
   "cell_type": "code",
   "execution_count": 31,
   "id": "9a959016",
   "metadata": {},
   "outputs": [
    {
     "name": "stdout",
     "output_type": "stream",
     "text": [
      "[0.04347826 0.04682274 0.07692308 0.13043478 0.         0.02341137\n",
      " 0.25752508 0.         0.27759197 0.14381271]\n",
      "확률 합계: 1.0\n"
     ]
    }
   ],
   "source": [
    "# predict_proba() 메소드로 분류 모델이 각 클래스(타겟, 레이블, 실제값)의 확률을 계산한다.\n",
    "knn_proba = knn.predict_proba(X_test)\n",
    "#print(knn_proba)\n",
    "print(knn_proba[0])\n",
    "print('확률 합계: {}'.format(knn_proba[0].sum()))"
   ]
  },
  {
   "cell_type": "code",
   "execution_count": 32,
   "id": "2b15365e",
   "metadata": {},
   "outputs": [
    {
     "name": "stdout",
     "output_type": "stream",
     "text": [
      "[0.00829485 0.04846673 0.04140506 0.02538155 0.01922868 0.02542684\n",
      " 0.01990068 0.02339998 0.70198949 0.08650614]\n",
      "확률 합계: 0.9999999999999999\n"
     ]
    }
   ],
   "source": [
    "svm_proba = svm.predict_proba(X_test)\n",
    "print(svm_proba[0])\n",
    "print('확률 합계: {}'.format(svm_proba[0].sum()))"
   ]
  },
  {
   "cell_type": "code",
   "execution_count": 33,
   "id": "bee4dc67",
   "metadata": {},
   "outputs": [
    {
     "name": "stdout",
     "output_type": "stream",
     "text": [
      "[0.00952381 0.02857143 0.00952381 0.00952381 0.         0.00952381\n",
      " 0.         0.01904762 0.85714286 0.05714286]\n",
      "확률 합계: 1.0\n"
     ]
    }
   ],
   "source": [
    "dtree_proba = dtree.predict_proba(X_test)\n",
    "print(dtree_proba[0])\n",
    "print('확률 합계: {}'.format(dtree_proba[0].sum()))"
   ]
  },
  {
   "cell_type": "code",
   "execution_count": 34,
   "id": "9a91de78",
   "metadata": {},
   "outputs": [
    {
     "name": "stdout",
     "output_type": "stream",
     "text": [
      "soft_voting: 89.166667%\n"
     ]
    }
   ],
   "source": [
    "sv_clf = VotingClassifier(estimators=[('knn', knn), ('svm', svm), ('decision_tree', dtree)], weights=[1, 1, 1],\n",
    "                voting='soft').fit(X_train, y_train)\n",
    "sv_predict = sv_clf.predict(X_test)\n",
    "print('soft_voting: {:%}'.format(accuracy_score(y_test, sv_predict)))"
   ]
  },
  {
   "cell_type": "markdown",
   "id": "bfbfc415",
   "metadata": {},
   "source": [
    "단일 모델과 앙상블 모델의 정확도 비교 시각화"
   ]
  },
  {
   "cell_type": "code",
   "execution_count": 35,
   "id": "1239075a",
   "metadata": {},
   "outputs": [
    {
     "data": {
      "image/png": "[encoded data removed]",
      "text/plain": [
       "<Figure size 576x432 with 1 Axes>"
      ]
     },
     "metadata": {
      "needs_background": "light"
     },
     "output_type": "display_data"
    }
   ],
   "source": [
    "plt.figure(figsize=(8, 6))\n",
    "x = np.arange(5)\n",
    "plt.bar(x, height=[\n",
    "    accuracy_score(y_test, knn_predict),\n",
    "    accuracy_score(y_test, svm_predict),\n",
    "    accuracy_score(y_test, dtree_predict),\n",
    "    accuracy_score(y_test, hv_predict),\n",
    "    accuracy_score(y_test, sv_predict)\n",
    "])\n",
    "plt.xticks(x, ['knn', 'svm', 'decision_tree', 'hard_voting', 'soft_voting'])\n",
    "plt.show()"
   ]
  },
  {
   "cell_type": "code",
   "execution_count": null,
   "id": "82b35e87",
   "metadata": {},
   "outputs": [],
   "source": []
  }
 ],
 "metadata": {
  "kernelspec": {
   "display_name": "Python 3",
   "language": "python",
   "name": "python3"
  },
  "language_info": {
   "codemirror_mode": {
    "name": "ipython",
    "version": 3
   },
   "file_extension": ".py",
   "mimetype": "text/x-python",
   "name": "python",
   "nbconvert_exporter": "python",
   "pygments_lexer": "ipython3",
   "version": "3.6.8"
  }
 },
 "nbformat": 4,
 "nbformat_minor": 5
}
