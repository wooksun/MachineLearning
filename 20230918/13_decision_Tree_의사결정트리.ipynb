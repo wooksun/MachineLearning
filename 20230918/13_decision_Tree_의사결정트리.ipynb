{
 "cells": [
  {
   "cell_type": "code",
   "execution_count": 1,
   "id": "ee678e8b",
   "metadata": {},
   "outputs": [],
   "source": [
    "%config Completer.use_jedi = False\n",
    "import warnings\n",
    "warnings.filterwarnings(action='ignore')\n",
    "import numpy as np\n",
    "import pandas as pd\n",
    "import matplotlib.pyplot as plt\n",
    "import seaborn as sns\n",
    "%matplotlib inline\n",
    "from sklearn.model_selection import train_test_split\n",
    "from sklearn.metrics import accuracy_score"
   ]
  },
  {
   "cell_type": "markdown",
   "id": "929e9dcb",
   "metadata": {},
   "source": [
    "의사결정 트리(Decision Tree)  \n",
    "\n",
    "데이터 분류 및 회귀에 사용되는 지도 학습 알고리즘으로 가장 큰 장점은 결과값이 어떻게 나왔는지 이해하기가 가장 쉽다는 것이다.  \n",
    "또한 높은 정확도 역시 상당히 큰 장점이다.  \n",
    "하지만 과대적합되기 쉬운 알고리즘이라는 단점도 있다.\n",
    "\n",
    "의사결정 트리 알고리즘은 스무고개와 상당히 비슷하다. 데이터의 특징을 바탕으로 데이터를 연속적으로 분리하다 보면 결국의  하나정답으로 데이터를 분류할 수 있는데  \n",
    "스무고개에서 적은 질문으로 정답을 맞추기 위해서는 의미있는 질문을 먼저 하는 것이 중요하듯이 의사결정 트리에서도 의미있는 질문을 먼저 하는 것이 상당히 중요하다.  \n",
    "데이터의 특징속에서 분류에 큰 영향을 끼치는 특징을 발견하고 상위노드를 선택하는 것이 의사결정 트리 알고리즘의 핵심이다.\n",
    "\n",
    "스므고개를 할 때 질문자는 질문을 하나 던질때마다 약간씩의 정보를 획득한다. 약간씩의 정보를 획득하는 과정은 정답에 대한 불확실성이 조금씩 줄어든다는 것과 같은 개념이다.  \n",
    "정보 이론(Information Theory)에서는 이 불확실성을 수치적으로 표현한 값을 엔트로피(Entropy)라고 표현하며 정보 이득(Information gain)은 질문 이전의 엔트로피에서 질문 후의 엔트로피를 뺀 값이된다. 즉, 불확실성이 줄어든 정도를 정보 이득이라고 한다.\n",
    "\n",
    "지니 계수(Gini Index)  \n",
    "P ** 2 + Q ** 2 으로 계산하며 불순도를 측정하는 지표로 데이터의 통계적 분산정도를 정량화해서 표현한 것을 의미한다.  \n",
    "사이킷런의 의사결정 트리는 CART(Classification And Regression Tree) 타입의 의사결정 트리이며 CART는 트리의 노드마드 특징을 이진 분류하는 특징이 있기에 사이킷런은 의사결정 트리를 구성할 때 지니 계수를 사용한다.  \n",
    "<img src=\"./images/gini.png\" align=\"left\" width=\"1200\"/>  "
   ]
  },
  {
   "cell_type": "markdown",
   "id": "f8d4cc08",
   "metadata": {},
   "source": [
    "문제 정의  \n",
    "서울 지역(구)의 위도와 경도 정보를 학습해서 임의로 입력된 지역(동)을 강동, 강서, 강남, 강북으로 분류하는 모델을 구현한다.  \n",
    "즉, 특정 지역이 강동인지 강서인지 아니면 강남인지 강북인지 알아내는 모델을 구현한다.\n",
    "\n",
    "데이터 획득 district: 구, dong: 동, latitude: 위도, longitude: 경도, label: 강동, 강서, 강남, 강북으로 구분한 지역"
   ]
  },
  {
   "cell_type": "code",
   "execution_count": 2,
   "id": "9d0a96d5",
   "metadata": {},
   "outputs": [],
   "source": [
    "# 구 데이터 => 학습 데이터\n",
    "district_dict_list = [\n",
    "    {'district': 'Gangseo-gu', 'latitude': 37.551000, 'longitude': 126.849500, 'label':'Gangseo'},\n",
    "    {'district': 'Yangcheon-gu', 'latitude': 37.52424, 'longitude': 126.855396, 'label':'Gangseo'},\n",
    "    {'district': 'Guro-gu', 'latitude': 37.4954, 'longitude': 126.8874, 'label':'Gangseo'},\n",
    "    {'district': 'Geumcheon-gu', 'latitude': 37.4519, 'longitude': 126.9020, 'label':'Gangseo'},\n",
    "    {'district': 'Mapo-gu', 'latitude': 37.560229, 'longitude': 126.908728, 'label':'Gangseo'},\n",
    "\n",
    "    {'district': 'Gwanak-gu', 'latitude': 37.487517, 'longitude': 126.915065, 'label':'Gangnam'},\n",
    "    {'district': 'Dongjak-gu', 'latitude': 37.5124, 'longitude': 126.9393, 'label':'Gangnam'},\n",
    "    {'district': 'Seocho-gu', 'latitude': 37.4837, 'longitude': 127.0324, 'label':'Gangnam'},\n",
    "    {'district': 'Gangnam-gu', 'latitude': 37.5172, 'longitude': 127.0473, 'label':'Gangnam'},\n",
    "    {'district': 'Songpa-gu', 'latitude': 37.503510, 'longitude': 127.117898, 'label':'Gangnam'},\n",
    "\n",
    "    {'district': 'Yongsan-gu', 'latitude': 37.532561, 'longitude': 127.008605, 'label':'Gangbuk'},\n",
    "    {'district': 'Jongro-gu', 'latitude': 37.5730, 'longitude': 126.9794, 'label':'Gangbuk'},\n",
    "    {'district': 'Seongbuk-gu', 'latitude': 37.603979, 'longitude': 127.056344, 'label':'Gangbuk'},\n",
    "    {'district': 'Nowon-gu', 'latitude': 37.6542, 'longitude': 127.0568, 'label':'Gangbuk'},\n",
    "    {'district': 'Dobong-gu', 'latitude': 37.6688, 'longitude': 127.0471, 'label':'Gangbuk'},\n",
    "\n",
    "    {'district': 'Seongdong-gu', 'latitude': 37.557340, 'longitude': 127.041667, 'label':'Gangdong'},\n",
    "    {'district': 'Dongdaemun-gu', 'latitude': 37.575759, 'longitude': 127.025288, 'label':'Gangdong'},\n",
    "    {'district': 'Gwangjin-gu', 'latitude': 37.557562, 'longitude': 127.083467, 'label':'Gangdong'},\n",
    "    {'district': 'Gangdong-gu', 'latitude': 37.554194, 'longitude': 127.151405, 'label':'Gangdong'},\n",
    "    {'district': 'Jungrang-gu', 'latitude': 37.593684, 'longitude': 127.090384, 'label':'Gangdong'}\n",
    " ]\n",
    "\n",
    "# 동 데이터 => 테스트 데이터\n",
    "dong_dict_list = [\n",
    "    {'dong': 'Gaebong-dong', 'latitude': 37.489853, 'longitude': 126.854547, 'label':'Gangseo'},\n",
    "    {'dong': 'Gochuk-dong', 'latitude': 37.501394, 'longitude': 126.859245, 'label':'Gangseo'},\n",
    "    {'dong': 'Hwagok-dong', 'latitude': 37.537759, 'longitude': 126.847951, 'label':'Gangseo'},\n",
    "    {'dong': 'Banghwa-dong', 'latitude': 37.575817, 'longitude': 126.815719, 'label':'Gangseo'},\n",
    "    {'dong': 'Sangam-dong', 'latitude': 37.577039, 'longitude': 126.891620, 'label':'Gangseo'},\n",
    "\n",
    "    {'dong': 'Nonhyun-dong', 'latitude': 37.508838, 'longitude': 127.030720, 'label':'Gangnam'},\n",
    "    {'dong': 'Daechi-dong', 'latitude': 37.501163, 'longitude': 127.057193, 'label':'Gangnam'},\n",
    "    {'dong': 'Seocho-dong', 'latitude': 37.486401, 'longitude': 127.018281, 'label':'Gangnam'},\n",
    "    {'dong': 'Bangbae-dong', 'latitude': 37.483279, 'longitude': 126.988194, 'label':'Gangnam'},\n",
    "    {'dong': 'Dogok-dong', 'latitude': 37.492896, 'longitude': 127.043159, 'label':'Gangnam'},\n",
    "\n",
    "    {'dong': 'Pyoungchang-dong', 'latitude': 37.612129, 'longitude': 126.975724, 'label':'Gangbuk'},\n",
    "    {'dong': 'Sungbuk-dong', 'latitude': 37.597916, 'longitude': 126.998067, 'label':'Gangbuk'},\n",
    "    {'dong': 'Ssangmoon-dong', 'latitude': 37.648094, 'longitude': 127.030421, 'label':'Gangbuk'},\n",
    "    {'dong': 'Ui-dong', 'latitude': 37.648446, 'longitude': 127.011396, 'label':'Gangbuk'},\n",
    "    {'dong': 'Samcheong-dong', 'latitude': 37.591109, 'longitude': 126.980488, 'label':'Gangbuk'},\n",
    "\n",
    "    {'dong': 'Hwayang-dong', 'latitude': 37.544234, 'longitude': 127.071648, 'label':'Gangdong'},\n",
    "    {'dong': 'Gui-dong', 'latitude': 37.543757, 'longitude': 127.086803, 'label':'Gangdong'},\n",
    "    {'dong': 'Neung-dong', 'latitude': 37.553102, 'longitude': 127.080248, 'label':'Gangdong'},\n",
    "    {'dong': 'Amsa-dong', 'latitude': 37.552370, 'longitude': 127.127124, 'label':'Gangdong'},\n",
    "    {'dong': 'Chunho-dong', 'latitude': 37.547436, 'longitude': 127.137382, 'label':'Gangdong'}\n",
    " ]"
   ]
  },
  {
   "cell_type": "code",
   "execution_count": 3,
   "id": "14009171",
   "metadata": {},
   "outputs": [
    {
     "data": {
      "text/html": [
       "<div>\n",
       "<style scoped>\n",
       "    .dataframe tbody tr th:only-of-type {\n",
       "        vertical-align: middle;\n",
       "    }\n",
       "\n",
       "    .dataframe tbody tr th {\n",
       "        vertical-align: top;\n",
       "    }\n",
       "\n",
       "    .dataframe thead th {\n",
       "        text-align: right;\n",
       "    }\n",
       "</style>\n",
       "<table border=\"1\" class=\"dataframe\">\n",
       "  <thead>\n",
       "    <tr style=\"text-align: right;\">\n",
       "      <th></th>\n",
       "      <th>district</th>\n",
       "      <th>latitude</th>\n",
       "      <th>longitude</th>\n",
       "      <th>label</th>\n",
       "    </tr>\n",
       "  </thead>\n",
       "  <tbody>\n",
       "    <tr>\n",
       "      <th>0</th>\n",
       "      <td>Gangseo-gu</td>\n",
       "      <td>37.551000</td>\n",
       "      <td>126.849500</td>\n",
       "      <td>Gangseo</td>\n",
       "    </tr>\n",
       "    <tr>\n",
       "      <th>1</th>\n",
       "      <td>Yangcheon-gu</td>\n",
       "      <td>37.524240</td>\n",
       "      <td>126.855396</td>\n",
       "      <td>Gangseo</td>\n",
       "    </tr>\n",
       "    <tr>\n",
       "      <th>2</th>\n",
       "      <td>Guro-gu</td>\n",
       "      <td>37.495400</td>\n",
       "      <td>126.887400</td>\n",
       "      <td>Gangseo</td>\n",
       "    </tr>\n",
       "    <tr>\n",
       "      <th>3</th>\n",
       "      <td>Geumcheon-gu</td>\n",
       "      <td>37.451900</td>\n",
       "      <td>126.902000</td>\n",
       "      <td>Gangseo</td>\n",
       "    </tr>\n",
       "    <tr>\n",
       "      <th>4</th>\n",
       "      <td>Mapo-gu</td>\n",
       "      <td>37.560229</td>\n",
       "      <td>126.908728</td>\n",
       "      <td>Gangseo</td>\n",
       "    </tr>\n",
       "  </tbody>\n",
       "</table>\n",
       "</div>"
      ],
      "text/plain": [
       "       district   latitude   longitude    label\n",
       "0    Gangseo-gu  37.551000  126.849500  Gangseo\n",
       "1  Yangcheon-gu  37.524240  126.855396  Gangseo\n",
       "2       Guro-gu  37.495400  126.887400  Gangseo\n",
       "3  Geumcheon-gu  37.451900  126.902000  Gangseo\n",
       "4       Mapo-gu  37.560229  126.908728  Gangseo"
      ]
     },
     "execution_count": 3,
     "metadata": {},
     "output_type": "execute_result"
    }
   ],
   "source": [
    "train_df = pd.DataFrame(district_dict_list)\n",
    "train_df.head()"
   ]
  },
  {
   "cell_type": "code",
   "execution_count": 4,
   "id": "841c1ce0",
   "metadata": {},
   "outputs": [
    {
     "data": {
      "text/html": [
       "<div>\n",
       "<style scoped>\n",
       "    .dataframe tbody tr th:only-of-type {\n",
       "        vertical-align: middle;\n",
       "    }\n",
       "\n",
       "    .dataframe tbody tr th {\n",
       "        vertical-align: top;\n",
       "    }\n",
       "\n",
       "    .dataframe thead th {\n",
       "        text-align: right;\n",
       "    }\n",
       "</style>\n",
       "<table border=\"1\" class=\"dataframe\">\n",
       "  <thead>\n",
       "    <tr style=\"text-align: right;\">\n",
       "      <th></th>\n",
       "      <th>dong</th>\n",
       "      <th>latitude</th>\n",
       "      <th>longitude</th>\n",
       "      <th>label</th>\n",
       "    </tr>\n",
       "  </thead>\n",
       "  <tbody>\n",
       "    <tr>\n",
       "      <th>0</th>\n",
       "      <td>Gaebong-dong</td>\n",
       "      <td>37.489853</td>\n",
       "      <td>126.854547</td>\n",
       "      <td>Gangseo</td>\n",
       "    </tr>\n",
       "    <tr>\n",
       "      <th>1</th>\n",
       "      <td>Gochuk-dong</td>\n",
       "      <td>37.501394</td>\n",
       "      <td>126.859245</td>\n",
       "      <td>Gangseo</td>\n",
       "    </tr>\n",
       "    <tr>\n",
       "      <th>2</th>\n",
       "      <td>Hwagok-dong</td>\n",
       "      <td>37.537759</td>\n",
       "      <td>126.847951</td>\n",
       "      <td>Gangseo</td>\n",
       "    </tr>\n",
       "    <tr>\n",
       "      <th>3</th>\n",
       "      <td>Banghwa-dong</td>\n",
       "      <td>37.575817</td>\n",
       "      <td>126.815719</td>\n",
       "      <td>Gangseo</td>\n",
       "    </tr>\n",
       "    <tr>\n",
       "      <th>4</th>\n",
       "      <td>Sangam-dong</td>\n",
       "      <td>37.577039</td>\n",
       "      <td>126.891620</td>\n",
       "      <td>Gangseo</td>\n",
       "    </tr>\n",
       "  </tbody>\n",
       "</table>\n",
       "</div>"
      ],
      "text/plain": [
       "           dong   latitude   longitude    label\n",
       "0  Gaebong-dong  37.489853  126.854547  Gangseo\n",
       "1   Gochuk-dong  37.501394  126.859245  Gangseo\n",
       "2   Hwagok-dong  37.537759  126.847951  Gangseo\n",
       "3  Banghwa-dong  37.575817  126.815719  Gangseo\n",
       "4   Sangam-dong  37.577039  126.891620  Gangseo"
      ]
     },
     "execution_count": 4,
     "metadata": {},
     "output_type": "execute_result"
    }
   ],
   "source": [
    "test_df = pd.DataFrame(dong_dict_list)\n",
    "test_df.head()"
   ]
  },
  {
   "cell_type": "markdown",
   "id": "e04ed9f0",
   "metadata": {},
   "source": [
    "학습 데이터와 테스트 데이터의 분포를 확인한다."
   ]
  },
  {
   "cell_type": "code",
   "execution_count": 5,
   "id": "ef5d2842",
   "metadata": {},
   "outputs": [
    {
     "name": "stdout",
     "output_type": "stream",
     "text": [
      "train_df.label\n",
      "Gangdong    5\n",
      "Gangnam     5\n",
      "Gangbuk     5\n",
      "Gangseo     5\n",
      "Name: label, dtype: int64\n",
      "test_df.label\n",
      "Gangdong    5\n",
      "Gangnam     5\n",
      "Gangbuk     5\n",
      "Gangseo     5\n",
      "Name: label, dtype: int64\n"
     ]
    }
   ],
   "source": [
    "# 학습 데이터의 레이블은 강남, 강북, 강서, 강동으로 총 4개의 값으로 5개씩 일정한 양으로 분포되어있음을 확인할 수 있다.\n",
    "print('train_df.label')\n",
    "print(train_df['label'].value_counts())\n",
    "# 테스트 데이터의 레이블은 강남, 강북, 강서, 강동으로 총 4개의 값으로 5개씩 일정한 양으로 분포되어있음을 확인할 수 있다.\n",
    "print('test_df.label')\n",
    "# print(test_df.get('label').value_counts())\n",
    "print(test_df.label.value_counts())"
   ]
  },
  {
   "cell_type": "markdown",
   "id": "fb3b54de",
   "metadata": {},
   "source": [
    "학습 데이터 시각화"
   ]
  },
  {
   "cell_type": "code",
   "execution_count": 6,
   "id": "6afaa54c",
   "metadata": {},
   "outputs": [
    {
     "data": {
      "image/png": "[encoded data removed]",
      "text/plain": [
       "<Figure size 447.75x360 with 1 Axes>"
      ]
     },
     "metadata": {
      "needs_background": "light"
     },
     "output_type": "display_data"
    }
   ],
   "source": [
    "sns.lmplot(data=train_df, x='longitude', y='latitude', fit_reg=False, hue='label', markers=['o', 'x', 's', '^'],\n",
    "          scatter_kws={'s': 80})\n",
    "plt.title('district vasualization in 2D plane')\n",
    "plt.show()"
   ]
  },
  {
   "cell_type": "markdown",
   "id": "20f068cb",
   "metadata": {},
   "source": [
    "데이터 전처리  \n",
    "위의 시각화를 통해 구 이름과 동 이름이 학습이나 테스트에 별 영향을 미치지 않는다는 점을 알았으므로 학습 및 테스트에 필요없는 특징(피쳐)을 데이터에서 제거한다."
   ]
  },
  {
   "cell_type": "code",
   "execution_count": 7,
   "id": "223b8fe1",
   "metadata": {},
   "outputs": [
    {
     "data": {
      "text/html": [
       "<div>\n",
       "<style scoped>\n",
       "    .dataframe tbody tr th:only-of-type {\n",
       "        vertical-align: middle;\n",
       "    }\n",
       "\n",
       "    .dataframe tbody tr th {\n",
       "        vertical-align: top;\n",
       "    }\n",
       "\n",
       "    .dataframe thead th {\n",
       "        text-align: right;\n",
       "    }\n",
       "</style>\n",
       "<table border=\"1\" class=\"dataframe\">\n",
       "  <thead>\n",
       "    <tr style=\"text-align: right;\">\n",
       "      <th></th>\n",
       "      <th>latitude</th>\n",
       "      <th>longitude</th>\n",
       "      <th>label</th>\n",
       "    </tr>\n",
       "  </thead>\n",
       "  <tbody>\n",
       "    <tr>\n",
       "      <th>0</th>\n",
       "      <td>37.551000</td>\n",
       "      <td>126.849500</td>\n",
       "      <td>Gangseo</td>\n",
       "    </tr>\n",
       "    <tr>\n",
       "      <th>1</th>\n",
       "      <td>37.524240</td>\n",
       "      <td>126.855396</td>\n",
       "      <td>Gangseo</td>\n",
       "    </tr>\n",
       "    <tr>\n",
       "      <th>2</th>\n",
       "      <td>37.495400</td>\n",
       "      <td>126.887400</td>\n",
       "      <td>Gangseo</td>\n",
       "    </tr>\n",
       "    <tr>\n",
       "      <th>3</th>\n",
       "      <td>37.451900</td>\n",
       "      <td>126.902000</td>\n",
       "      <td>Gangseo</td>\n",
       "    </tr>\n",
       "    <tr>\n",
       "      <th>4</th>\n",
       "      <td>37.560229</td>\n",
       "      <td>126.908728</td>\n",
       "      <td>Gangseo</td>\n",
       "    </tr>\n",
       "  </tbody>\n",
       "</table>\n",
       "</div>"
      ],
      "text/plain": [
       "    latitude   longitude    label\n",
       "0  37.551000  126.849500  Gangseo\n",
       "1  37.524240  126.855396  Gangseo\n",
       "2  37.495400  126.887400  Gangseo\n",
       "3  37.451900  126.902000  Gangseo\n",
       "4  37.560229  126.908728  Gangseo"
      ]
     },
     "execution_count": 7,
     "metadata": {},
     "output_type": "execute_result"
    }
   ],
   "source": [
    "# train_df = train_df.drop('district', axis=1)\n",
    "train_df.drop('district', axis=1, inplace=True) # 학습 데이터에서 구 제거\n",
    "train_df.head()"
   ]
  },
  {
   "cell_type": "code",
   "execution_count": 8,
   "id": "ac8099ba",
   "metadata": {},
   "outputs": [
    {
     "data": {
      "text/html": [
       "<div>\n",
       "<style scoped>\n",
       "    .dataframe tbody tr th:only-of-type {\n",
       "        vertical-align: middle;\n",
       "    }\n",
       "\n",
       "    .dataframe tbody tr th {\n",
       "        vertical-align: top;\n",
       "    }\n",
       "\n",
       "    .dataframe thead th {\n",
       "        text-align: right;\n",
       "    }\n",
       "</style>\n",
       "<table border=\"1\" class=\"dataframe\">\n",
       "  <thead>\n",
       "    <tr style=\"text-align: right;\">\n",
       "      <th></th>\n",
       "      <th>latitude</th>\n",
       "      <th>longitude</th>\n",
       "      <th>label</th>\n",
       "    </tr>\n",
       "  </thead>\n",
       "  <tbody>\n",
       "    <tr>\n",
       "      <th>0</th>\n",
       "      <td>37.489853</td>\n",
       "      <td>126.854547</td>\n",
       "      <td>Gangseo</td>\n",
       "    </tr>\n",
       "    <tr>\n",
       "      <th>1</th>\n",
       "      <td>37.501394</td>\n",
       "      <td>126.859245</td>\n",
       "      <td>Gangseo</td>\n",
       "    </tr>\n",
       "    <tr>\n",
       "      <th>2</th>\n",
       "      <td>37.537759</td>\n",
       "      <td>126.847951</td>\n",
       "      <td>Gangseo</td>\n",
       "    </tr>\n",
       "    <tr>\n",
       "      <th>3</th>\n",
       "      <td>37.575817</td>\n",
       "      <td>126.815719</td>\n",
       "      <td>Gangseo</td>\n",
       "    </tr>\n",
       "    <tr>\n",
       "      <th>4</th>\n",
       "      <td>37.577039</td>\n",
       "      <td>126.891620</td>\n",
       "      <td>Gangseo</td>\n",
       "    </tr>\n",
       "  </tbody>\n",
       "</table>\n",
       "</div>"
      ],
      "text/plain": [
       "    latitude   longitude    label\n",
       "0  37.489853  126.854547  Gangseo\n",
       "1  37.501394  126.859245  Gangseo\n",
       "2  37.537759  126.847951  Gangseo\n",
       "3  37.575817  126.815719  Gangseo\n",
       "4  37.577039  126.891620  Gangseo"
      ]
     },
     "execution_count": 8,
     "metadata": {},
     "output_type": "execute_result"
    }
   ],
   "source": [
    "test_df.drop('dong', axis=1, inplace=True) # 테스트 데이터에서 동 제거\n",
    "test_df.head()"
   ]
  },
  {
   "cell_type": "markdown",
   "id": "3f3e63cc",
   "metadata": {},
   "source": [
    "모델 학습  \n",
    "사이킷언의 의사결정 트리를 로드해서 학습시킨다."
   ]
  },
  {
   "cell_type": "code",
   "execution_count": 9,
   "id": "a97f97b3",
   "metadata": {},
   "outputs": [],
   "source": [
    "X_train = train_df[['longitude', 'latitude']] # 순서주의\n",
    "Y_train = train_df[['label']]\n",
    "X_test = test_df[['longitude', 'latitude']]\n",
    "Y_test = test_df[['label']]"
   ]
  },
  {
   "cell_type": "code",
   "execution_count": 10,
   "id": "881bac02",
   "metadata": {},
   "outputs": [
    {
     "name": "stdout",
     "output_type": "stream",
     "text": [
      "[3 3 3 3 3 2 2 2 2 2 0 0 0 0 0 1 1 1 1 1]\n",
      "['Gangbuk' 'Gangdong' 'Gangnam' 'Gangseo']\n"
     ]
    }
   ],
   "source": [
    "# 데이터를 모델화시키고 학습을 시키기 위해서 숫자로 만들기 위해 import 한다.\n",
    "from sklearn.preprocessing import LabelEncoder \n",
    "\n",
    "le = LabelEncoder() # LabelEncoder 객체를 만든다.\n",
    "y_encoded = le.fit_transform(Y_train)\n",
    "print(y_encoded)\n",
    "# classes_: LabelEncoder() 함수로 숫자로 변환한 원래 레이블 데이터\n",
    "print(le.classes_)"
   ]
  },
  {
   "cell_type": "code",
   "execution_count": 11,
   "id": "5af6c86b",
   "metadata": {},
   "outputs": [],
   "source": [
    "# 사이킷런의 의사 결정 트리를 사용하기 위해 import 한다. \n",
    "from sklearn.tree import DecisionTreeClassifier\n",
    "# DecisionTreeClassifier 객체로 의사 결정 트리를 학습시킨다.\n",
    "# 사이킷런 의사 결정 트리 내부 알고리즘 구동 시 random하게 특성들과 데이터 건수를 선택하는 로직이 포함되어 있기 때문에\n",
    "# random_state 속성의 특정 값을 지정하여 수행시 마다 동일한 트리를 만들 수 있도록 한다.\n",
    "clf = DecisionTreeClassifier(random_state=35).fit(X_train, y_encoded)"
   ]
  },
  {
   "cell_type": "markdown",
   "id": "86a14ac3",
   "metadata": {},
   "source": [
    "학습된 의사 결정 트리 시각화"
   ]
  },
  {
   "cell_type": "code",
   "execution_count": 12,
   "id": "ce45731e",
   "metadata": {},
   "outputs": [],
   "source": [
    "# 학습된 의사 결정 트리를 시각화 하는 함수\n",
    "def display_decision_surface(clf, x, y):\n",
    "    # 차트 크기\n",
    "    x_min = x.longitude.min() - 0.01\n",
    "    x_max = x.longitude.max() + 0.01\n",
    "    y_min = x.latitude.min() - 0.01\n",
    "    y_max = x.latitude.max() + 0.01\n",
    "    \n",
    "    n_classes = len(le.classes_) # 레이블의 개수\n",
    "    plot_color = 'rywb' # 시각화에 사용할 포인트 색상\n",
    "    plot_step = 0.001 # 차트의 눈금 가격\n",
    "    \n",
    "    # meshgrid(): 좌표 벡터로 부터 좌표 행렬을 반환한다.\n",
    "    xx, yy = np.meshgrid(np.arange(x_min, x_max, plot_step), np.arange(y_min, y_max, plot_step))\n",
    "    \n",
    "    # predict(): 학습 결과에 따른 예측을 한다.\n",
    "    Z = clf.predict(np.c_[xx.ravel(), yy.ravel()])\n",
    "    # print(Z)\n",
    "    Z = Z.reshape(xx.shape)\n",
    "    # print('type: {}'.format(type(Z)))\n",
    "    # print('shape: {}, dimension: {}, dtype: {}'.format(Z.shape, Z.ndim, Z.dtype))\n",
    "    # print('Array Data:\\n', Z)\n",
    "    \n",
    "    # 등고선 차트\n",
    "    plt.contourf(xx, yy, Z, cmap=plt.cm.RdYlBu)\n",
    "    \n",
    "    for i, color in zip(range(n_classes), plot_color):\n",
    "        # print(i, color)\n",
    "        # np.where(): 조건에 맞는 값의 색인 위치를 찾는다.\n",
    "        idx = np.where(y == i)\n",
    "        # print(idx)\n",
    "        plt.scatter(x=x.loc[idx].longitude, y=x.loc[idx].latitude, c=color, label=le.classes_[i], cmap=plt.cm.RdYlBu,\n",
    "                   edgecolor='black', s=80)\n",
    "        \n",
    "    plt.title('Decision surface of a decision tree', fontsize=20) # 차트 제목\n",
    "    plt.legend(bbox_to_anchor=(1.05, 1), loc=2, borderaxespad=0, fontsize=14) # 범례\n",
    "    plt.xlabel('longitude', fontsize=14) # x축 제목\n",
    "    plt.ylabel('latitude', fontsize=14) # y축 제목\n",
    "    \n",
    "    plt.rcParams['figure.figsize'] = [7, 5] # 차트 크기\n",
    "    plt.rcParams['xtick.labelsize'] = 10 # x축 레이블의 크기를 지정한다.\n",
    "    plt.rcParams['ytick.labelsize'] = 10 # y축 레이블의 크기를 지정한다.\n",
    "    plt.show()"
   ]
  },
  {
   "cell_type": "markdown",
   "id": "15a0da55",
   "metadata": {},
   "source": [
    "의사결정 트리는 과대적합되기 상당히 쉬운 모델이다.  \n",
    "사이킷런의 의사결정 트리는 과대적합을 피할 수 있도록 별도의 파라미터를 제공하는데 파라미터를 설정하지 않을 경우 모델은 학습되지만 과대적합될 가능성이 높다.  \n",
    "여기서는 아무런 파라미터 설정없이 학습 데이터를 학습한 의사결정 트리의 결정 표면을 시각화해 보았다.  \n",
    "아래 차트는 강북 사이에 강동에 해당되는 데이터가 보이고 강동 사이에 강북에 해당되는 데이터가 보이는것으로 봐서 학습 데이터에만 너무 치우치게 학습됐다.  \n",
    "즉, 과대적합 되었다고 판단할 수 있다."
   ]
  },
  {
   "cell_type": "code",
   "execution_count": 13,
   "id": "76a40106",
   "metadata": {},
   "outputs": [
    {
     "data": {
      "image/png": "[encoded data removed]",
      "text/plain": [
       "<Figure size 432x288 with 1 Axes>"
      ]
     },
     "metadata": {
      "needs_background": "light"
     },
     "output_type": "display_data"
    }
   ],
   "source": [
    "display_decision_surface(clf, X_train, y_encoded)"
   ]
  },
  {
   "cell_type": "code",
   "execution_count": 14,
   "id": "13c33f62",
   "metadata": {},
   "outputs": [
    {
     "data": {
      "image/png": "[encoded data removed]",
      "text/plain": [
       "<Figure size 504x360 with 1 Axes>"
      ]
     },
     "metadata": {
      "needs_background": "light"
     },
     "output_type": "display_data"
    }
   ],
   "source": [
    "clf = DecisionTreeClassifier(\n",
    "    random_state=70,\n",
    "    max_depth=4, # 트리의 최대 깊이, 과대 적합을 방지하려면 max_depth는 지정해주는 것이 좋다.\n",
    "    min_samples_split=2, # 자식 노드를 가지기 위한 최소한의 데이터 개수\n",
    "    min_samples_leaf=2 # 리프(터미널, 단노드) 노드의 최소 데이터 개수\n",
    ").fit(X_train, y_encoded)\n",
    "display_decision_surface(clf, X_train, y_encoded)"
   ]
  },
  {
   "cell_type": "markdown",
   "id": "4645a14a",
   "metadata": {},
   "source": [
    "의사결정 트리 시각화  \n",
    "graphviz를 사용하려면 아래와 같은 과정을 먼저 실행해야 한다.  \n",
    "https://graphviz.org/download/%EC%97%90%EC%84%9C  \n",
    "graphviz 설치 파일(*.exe)을 다운받아 설치한다.  \n",
    "path 환경변수에 C:\\Program Files\\Graphviz\\bin를 추가한다.  \n",
    "라이브러리를 설치한다. conda install graphviz와 같이 설치가 안되는 모듈은 pip install graphviz로 설치한다."
   ]
  },
  {
   "cell_type": "code",
   "execution_count": 17,
   "id": "a770a393",
   "metadata": {},
   "outputs": [],
   "source": [
    "import graphviz\n",
    "# graphviz 라이브러리의 데이터로 사용할 dot를 만들기 위해 import 한다.\n",
    "from sklearn.tree import export_graphviz"
   ]
  },
  {
   "cell_type": "code",
   "execution_count": 18,
   "id": "4bd611ae",
   "metadata": {},
   "outputs": [
    {
     "data": {
      "image/svg+xml": [
       "<?xml version=\"1.0\" encoding=\"UTF-8\" standalone=\"no\"?>\n",
       "<!DOCTYPE svg PUBLIC \"-//W3C//DTD SVG 1.1//EN\"\n",
       " \"http://www.w3.org/Graphics/SVG/1.1/DTD/svg11.dtd\">\n",
       "<!-- Generated by graphviz version 9.0.0 (20230911.1827)\n",
       " -->\n",
       "<!-- Title: Tree Pages: 1 -->\n",
       "<svg width=\"432pt\" height=\"588pt\"\n",
       " viewBox=\"0.00 0.00 431.75 588.00\" xmlns=\"http://www.w3.org/2000/svg\" xmlns:xlink=\"http://www.w3.org/1999/xlink\">\n",
       "<g id=\"graph0\" class=\"graph\" transform=\"scale(1 1) rotate(0) translate(4 584)\">\n",
       "<title>Tree</title>\n",
       "<polygon fill=\"white\" stroke=\"none\" points=\"-4,4 -4,-584 427.75,-584 427.75,4 -4,4\"/>\n",
       "<!-- 0 -->\n",
       "<g id=\"node1\" class=\"node\">\n",
       "<title>0</title>\n",
       "<path fill=\"#ffffff\" stroke=\"black\" d=\"M195.88,-580C195.88,-580 77.88,-580 77.88,-580 71.88,-580 65.88,-574 65.88,-568 65.88,-568 65.88,-501.5 65.88,-501.5 65.88,-495.5 71.88,-489.5 77.88,-489.5 77.88,-489.5 195.88,-489.5 195.88,-489.5 201.88,-489.5 207.88,-495.5 207.88,-501.5 207.88,-501.5 207.88,-568 207.88,-568 207.88,-574 201.88,-580 195.88,-580\"/>\n",
       "<text text-anchor=\"start\" x=\"73.88\" y=\"-562.7\" font-family=\"Helvetica,sans-Serif\" font-size=\"14.00\">longitude ≤ 126.912</text>\n",
       "<text text-anchor=\"start\" x=\"103.88\" y=\"-546.2\" font-family=\"Helvetica,sans-Serif\" font-size=\"14.00\">gini = 0.75</text>\n",
       "<text text-anchor=\"start\" x=\"93.75\" y=\"-529.7\" font-family=\"Helvetica,sans-Serif\" font-size=\"14.00\">samples = 20</text>\n",
       "<text text-anchor=\"start\" x=\"81\" y=\"-513.2\" font-family=\"Helvetica,sans-Serif\" font-size=\"14.00\">value = [5, 5, 5, 5]</text>\n",
       "<text text-anchor=\"start\" x=\"84\" y=\"-496.7\" font-family=\"Helvetica,sans-Serif\" font-size=\"14.00\">class = Gangbuk</text>\n",
       "</g>\n",
       "<!-- 1 -->\n",
       "<g id=\"node2\" class=\"node\">\n",
       "<title>1</title>\n",
       "<path fill=\"#d739e5\" stroke=\"black\" d=\"M115.75,-445.25C115.75,-445.25 12,-445.25 12,-445.25 6,-445.25 0,-439.25 0,-433.25 0,-433.25 0,-383.25 0,-383.25 0,-377.25 6,-371.25 12,-371.25 12,-371.25 115.75,-371.25 115.75,-371.25 121.75,-371.25 127.75,-377.25 127.75,-383.25 127.75,-383.25 127.75,-433.25 127.75,-433.25 127.75,-439.25 121.75,-445.25 115.75,-445.25\"/>\n",
       "<text text-anchor=\"start\" x=\"35\" y=\"-427.95\" font-family=\"Helvetica,sans-Serif\" font-size=\"14.00\">gini = 0.0</text>\n",
       "<text text-anchor=\"start\" x=\"24.88\" y=\"-411.45\" font-family=\"Helvetica,sans-Serif\" font-size=\"14.00\">samples = 5</text>\n",
       "<text text-anchor=\"start\" x=\"8\" y=\"-394.95\" font-family=\"Helvetica,sans-Serif\" font-size=\"14.00\">value = [0, 0, 0, 5]</text>\n",
       "<text text-anchor=\"start\" x=\"10.25\" y=\"-378.45\" font-family=\"Helvetica,sans-Serif\" font-size=\"14.00\">class = Gangseo</text>\n",
       "</g>\n",
       "<!-- 0&#45;&gt;1 -->\n",
       "<g id=\"edge1\" class=\"edge\">\n",
       "<title>0&#45;&gt;1</title>\n",
       "<path fill=\"none\" stroke=\"black\" d=\"M110.73,-489.15C104.27,-478.15 97.35,-466.34 90.86,-455.27\"/>\n",
       "<polygon fill=\"black\" stroke=\"black\" points=\"93.89,-453.52 85.81,-446.66 87.85,-457.06 93.89,-453.52\"/>\n",
       "<text text-anchor=\"middle\" x=\"78.74\" y=\"-464.5\" font-family=\"Helvetica,sans-Serif\" font-size=\"14.00\">True</text>\n",
       "</g>\n",
       "<!-- 2 -->\n",
       "<g id=\"node3\" class=\"node\">\n",
       "<title>2</title>\n",
       "<path fill=\"#ffffff\" stroke=\"black\" d=\"M261.75,-453.5C261.75,-453.5 158,-453.5 158,-453.5 152,-453.5 146,-447.5 146,-441.5 146,-441.5 146,-375 146,-375 146,-369 152,-363 158,-363 158,-363 261.75,-363 261.75,-363 267.75,-363 273.75,-369 273.75,-375 273.75,-375 273.75,-441.5 273.75,-441.5 273.75,-447.5 267.75,-453.5 261.75,-453.5\"/>\n",
       "<text text-anchor=\"start\" x=\"157.38\" y=\"-436.2\" font-family=\"Helvetica,sans-Serif\" font-size=\"14.00\">latitude ≤ 37.525</text>\n",
       "<text text-anchor=\"start\" x=\"172.75\" y=\"-419.7\" font-family=\"Helvetica,sans-Serif\" font-size=\"14.00\">gini = 0.667</text>\n",
       "<text text-anchor=\"start\" x=\"166.75\" y=\"-403.2\" font-family=\"Helvetica,sans-Serif\" font-size=\"14.00\">samples = 15</text>\n",
       "<text text-anchor=\"start\" x=\"154\" y=\"-386.7\" font-family=\"Helvetica,sans-Serif\" font-size=\"14.00\">value = [5, 5, 5, 0]</text>\n",
       "<text text-anchor=\"start\" x=\"157\" y=\"-370.2\" font-family=\"Helvetica,sans-Serif\" font-size=\"14.00\">class = Gangbuk</text>\n",
       "</g>\n",
       "<!-- 0&#45;&gt;2 -->\n",
       "<g id=\"edge2\" class=\"edge\">\n",
       "<title>0&#45;&gt;2</title>\n",
       "<path fill=\"none\" stroke=\"black\" d=\"M163.02,-489.15C167.85,-480.93 172.93,-472.26 177.9,-463.78\"/>\n",
       "<polygon fill=\"black\" stroke=\"black\" points=\"180.86,-465.66 182.9,-455.26 174.82,-462.11 180.86,-465.66\"/>\n",
       "<text text-anchor=\"middle\" x=\"189.97\" y=\"-473.09\" font-family=\"Helvetica,sans-Serif\" font-size=\"14.00\">False</text>\n",
       "</g>\n",
       "<!-- 3 -->\n",
       "<g id=\"node4\" class=\"node\">\n",
       "<title>3</title>\n",
       "<path fill=\"#399de5\" stroke=\"black\" d=\"M188.75,-318.75C188.75,-318.75 85,-318.75 85,-318.75 79,-318.75 73,-312.75 73,-306.75 73,-306.75 73,-256.75 73,-256.75 73,-250.75 79,-244.75 85,-244.75 85,-244.75 188.75,-244.75 188.75,-244.75 194.75,-244.75 200.75,-250.75 200.75,-256.75 200.75,-256.75 200.75,-306.75 200.75,-306.75 200.75,-312.75 194.75,-318.75 188.75,-318.75\"/>\n",
       "<text text-anchor=\"start\" x=\"108\" y=\"-301.45\" font-family=\"Helvetica,sans-Serif\" font-size=\"14.00\">gini = 0.0</text>\n",
       "<text text-anchor=\"start\" x=\"97.88\" y=\"-284.95\" font-family=\"Helvetica,sans-Serif\" font-size=\"14.00\">samples = 5</text>\n",
       "<text text-anchor=\"start\" x=\"81\" y=\"-268.45\" font-family=\"Helvetica,sans-Serif\" font-size=\"14.00\">value = [0, 0, 5, 0]</text>\n",
       "<text text-anchor=\"start\" x=\"81.75\" y=\"-251.95\" font-family=\"Helvetica,sans-Serif\" font-size=\"14.00\">class = Gangnam</text>\n",
       "</g>\n",
       "<!-- 2&#45;&gt;3 -->\n",
       "<g id=\"edge3\" class=\"edge\">\n",
       "<title>2&#45;&gt;3</title>\n",
       "<path fill=\"none\" stroke=\"black\" d=\"M183.73,-362.65C177.27,-351.65 170.35,-339.84 163.86,-328.77\"/>\n",
       "<polygon fill=\"black\" stroke=\"black\" points=\"166.89,-327.02 158.81,-320.16 160.85,-330.56 166.89,-327.02\"/>\n",
       "</g>\n",
       "<!-- 4 -->\n",
       "<g id=\"node5\" class=\"node\">\n",
       "<title>4</title>\n",
       "<path fill=\"#ffffff\" stroke=\"black\" d=\"M334.75,-327C334.75,-327 231,-327 231,-327 225,-327 219,-321 219,-315 219,-315 219,-248.5 219,-248.5 219,-242.5 225,-236.5 231,-236.5 231,-236.5 334.75,-236.5 334.75,-236.5 340.75,-236.5 346.75,-242.5 346.75,-248.5 346.75,-248.5 346.75,-315 346.75,-315 346.75,-321 340.75,-327 334.75,-327\"/>\n",
       "<text text-anchor=\"start\" x=\"230.38\" y=\"-309.7\" font-family=\"Helvetica,sans-Serif\" font-size=\"14.00\">latitude ≤ 37.599</text>\n",
       "<text text-anchor=\"start\" x=\"254\" y=\"-293.2\" font-family=\"Helvetica,sans-Serif\" font-size=\"14.00\">gini = 0.5</text>\n",
       "<text text-anchor=\"start\" x=\"239.75\" y=\"-276.7\" font-family=\"Helvetica,sans-Serif\" font-size=\"14.00\">samples = 10</text>\n",
       "<text text-anchor=\"start\" x=\"227\" y=\"-260.2\" font-family=\"Helvetica,sans-Serif\" font-size=\"14.00\">value = [5, 5, 0, 0]</text>\n",
       "<text text-anchor=\"start\" x=\"230\" y=\"-243.7\" font-family=\"Helvetica,sans-Serif\" font-size=\"14.00\">class = Gangbuk</text>\n",
       "</g>\n",
       "<!-- 2&#45;&gt;4 -->\n",
       "<g id=\"edge4\" class=\"edge\">\n",
       "<title>2&#45;&gt;4</title>\n",
       "<path fill=\"none\" stroke=\"black\" d=\"M236.02,-362.65C240.85,-354.43 245.93,-345.76 250.9,-337.28\"/>\n",
       "<polygon fill=\"black\" stroke=\"black\" points=\"253.86,-339.16 255.9,-328.76 247.82,-335.61 253.86,-339.16\"/>\n",
       "</g>\n",
       "<!-- 5 -->\n",
       "<g id=\"node6\" class=\"node\">\n",
       "<title>5</title>\n",
       "<path fill=\"#91ef88\" stroke=\"black\" d=\"M265.88,-200.5C265.88,-200.5 147.88,-200.5 147.88,-200.5 141.88,-200.5 135.88,-194.5 135.88,-188.5 135.88,-188.5 135.88,-122 135.88,-122 135.88,-116 141.88,-110 147.88,-110 147.88,-110 265.88,-110 265.88,-110 271.88,-110 277.88,-116 277.88,-122 277.88,-122 277.88,-188.5 277.88,-188.5 277.88,-194.5 271.88,-200.5 265.88,-200.5\"/>\n",
       "<text text-anchor=\"start\" x=\"143.88\" y=\"-183.2\" font-family=\"Helvetica,sans-Serif\" font-size=\"14.00\">longitude ≤ 127.017</text>\n",
       "<text text-anchor=\"start\" x=\"169.75\" y=\"-166.7\" font-family=\"Helvetica,sans-Serif\" font-size=\"14.00\">gini = 0.408</text>\n",
       "<text text-anchor=\"start\" x=\"167.88\" y=\"-150.2\" font-family=\"Helvetica,sans-Serif\" font-size=\"14.00\">samples = 7</text>\n",
       "<text text-anchor=\"start\" x=\"151\" y=\"-133.7\" font-family=\"Helvetica,sans-Serif\" font-size=\"14.00\">value = [2, 5, 0, 0]</text>\n",
       "<text text-anchor=\"start\" x=\"149.12\" y=\"-117.2\" font-family=\"Helvetica,sans-Serif\" font-size=\"14.00\">class = Gangdong</text>\n",
       "</g>\n",
       "<!-- 4&#45;&gt;5 -->\n",
       "<g id=\"edge5\" class=\"edge\">\n",
       "<title>4&#45;&gt;5</title>\n",
       "<path fill=\"none\" stroke=\"black\" d=\"M255.65,-236.15C250.63,-227.93 245.34,-219.26 240.16,-210.78\"/>\n",
       "<polygon fill=\"black\" stroke=\"black\" points=\"243.15,-208.96 234.95,-202.24 237.18,-212.6 243.15,-208.96\"/>\n",
       "</g>\n",
       "<!-- 8 -->\n",
       "<g id=\"node9\" class=\"node\">\n",
       "<title>8</title>\n",
       "<path fill=\"#e58139\" stroke=\"black\" d=\"M411.75,-192.25C411.75,-192.25 308,-192.25 308,-192.25 302,-192.25 296,-186.25 296,-180.25 296,-180.25 296,-130.25 296,-130.25 296,-124.25 302,-118.25 308,-118.25 308,-118.25 411.75,-118.25 411.75,-118.25 417.75,-118.25 423.75,-124.25 423.75,-130.25 423.75,-130.25 423.75,-180.25 423.75,-180.25 423.75,-186.25 417.75,-192.25 411.75,-192.25\"/>\n",
       "<text text-anchor=\"start\" x=\"331\" y=\"-174.95\" font-family=\"Helvetica,sans-Serif\" font-size=\"14.00\">gini = 0.0</text>\n",
       "<text text-anchor=\"start\" x=\"320.88\" y=\"-158.45\" font-family=\"Helvetica,sans-Serif\" font-size=\"14.00\">samples = 3</text>\n",
       "<text text-anchor=\"start\" x=\"304\" y=\"-141.95\" font-family=\"Helvetica,sans-Serif\" font-size=\"14.00\">value = [3, 0, 0, 0]</text>\n",
       "<text text-anchor=\"start\" x=\"307\" y=\"-125.45\" font-family=\"Helvetica,sans-Serif\" font-size=\"14.00\">class = Gangbuk</text>\n",
       "</g>\n",
       "<!-- 4&#45;&gt;8 -->\n",
       "<g id=\"edge8\" class=\"edge\">\n",
       "<title>4&#45;&gt;8</title>\n",
       "<path fill=\"none\" stroke=\"black\" d=\"M310.46,-236.15C317.33,-225.04 324.71,-213.1 331.62,-201.93\"/>\n",
       "<polygon fill=\"black\" stroke=\"black\" points=\"334.46,-203.99 336.75,-193.64 328.51,-200.31 334.46,-203.99\"/>\n",
       "</g>\n",
       "<!-- 6 -->\n",
       "<g id=\"node7\" class=\"node\">\n",
       "<title>6</title>\n",
       "<path fill=\"#e58139\" stroke=\"black\" d=\"M184.75,-74C184.75,-74 81,-74 81,-74 75,-74 69,-68 69,-62 69,-62 69,-12 69,-12 69,-6 75,0 81,0 81,0 184.75,0 184.75,0 190.75,0 196.75,-6 196.75,-12 196.75,-12 196.75,-62 196.75,-62 196.75,-68 190.75,-74 184.75,-74\"/>\n",
       "<text text-anchor=\"start\" x=\"104\" y=\"-56.7\" font-family=\"Helvetica,sans-Serif\" font-size=\"14.00\">gini = 0.0</text>\n",
       "<text text-anchor=\"start\" x=\"93.88\" y=\"-40.2\" font-family=\"Helvetica,sans-Serif\" font-size=\"14.00\">samples = 2</text>\n",
       "<text text-anchor=\"start\" x=\"77\" y=\"-23.7\" font-family=\"Helvetica,sans-Serif\" font-size=\"14.00\">value = [2, 0, 0, 0]</text>\n",
       "<text text-anchor=\"start\" x=\"80\" y=\"-7.2\" font-family=\"Helvetica,sans-Serif\" font-size=\"14.00\">class = Gangbuk</text>\n",
       "</g>\n",
       "<!-- 5&#45;&gt;6 -->\n",
       "<g id=\"edge6\" class=\"edge\">\n",
       "<title>5&#45;&gt;6</title>\n",
       "<path fill=\"none\" stroke=\"black\" d=\"M178.48,-109.64C173.14,-101.26 167.56,-92.49 162.2,-84.07\"/>\n",
       "<polygon fill=\"black\" stroke=\"black\" points=\"165.18,-82.23 156.85,-75.67 159.27,-85.99 165.18,-82.23\"/>\n",
       "</g>\n",
       "<!-- 7 -->\n",
       "<g id=\"node8\" class=\"node\">\n",
       "<title>7</title>\n",
       "<path fill=\"#47e539\" stroke=\"black\" d=\"M334.62,-74C334.62,-74 227.12,-74 227.12,-74 221.12,-74 215.12,-68 215.12,-62 215.12,-62 215.12,-12 215.12,-12 215.12,-6 221.12,0 227.12,0 227.12,0 334.62,0 334.62,0 340.62,0 346.62,-6 346.62,-12 346.62,-12 346.62,-62 346.62,-62 346.62,-68 340.62,-74 334.62,-74\"/>\n",
       "<text text-anchor=\"start\" x=\"252\" y=\"-56.7\" font-family=\"Helvetica,sans-Serif\" font-size=\"14.00\">gini = 0.0</text>\n",
       "<text text-anchor=\"start\" x=\"241.88\" y=\"-40.2\" font-family=\"Helvetica,sans-Serif\" font-size=\"14.00\">samples = 5</text>\n",
       "<text text-anchor=\"start\" x=\"225\" y=\"-23.7\" font-family=\"Helvetica,sans-Serif\" font-size=\"14.00\">value = [0, 5, 0, 0]</text>\n",
       "<text text-anchor=\"start\" x=\"223.12\" y=\"-7.2\" font-family=\"Helvetica,sans-Serif\" font-size=\"14.00\">class = Gangdong</text>\n",
       "</g>\n",
       "<!-- 5&#45;&gt;7 -->\n",
       "<g id=\"edge7\" class=\"edge\">\n",
       "<title>5&#45;&gt;7</title>\n",
       "<path fill=\"none\" stroke=\"black\" d=\"M235.27,-109.64C240.61,-101.26 246.19,-92.49 251.55,-84.07\"/>\n",
       "<polygon fill=\"black\" stroke=\"black\" points=\"254.48,-85.99 256.9,-75.67 248.57,-82.23 254.48,-85.99\"/>\n",
       "</g>\n",
       "</g>\n",
       "</svg>\n"
      ],
      "text/plain": [
       "<graphviz.sources.Source at 0x2a54249c160>"
      ]
     },
     "execution_count": 18,
     "metadata": {},
     "output_type": "execute_result"
    }
   ],
   "source": [
    "dot_data = export_graphviz(clf, out_file=None, feature_names=['longitude', 'latitude'], class_names=['Gangbuk', 'Gangdong', 'Gangnam', 'Gangseo'], \n",
    "                           filled=True, rounded=True, special_characters=True)\n",
    "graph = graphviz.Source(dot_data)\n",
    "graph.render('seoul') # 랜더링된 의사결정 트리를 pdf 파일로 저장한다.\n",
    "graph"
   ]
  },
  {
   "cell_type": "markdown",
   "id": "594f8c0c",
   "metadata": {},
   "source": [
    "모델 테스트"
   ]
  },
  {
   "cell_type": "code",
   "execution_count": 19,
   "id": "279210dd",
   "metadata": {},
   "outputs": [
    {
     "name": "stdout",
     "output_type": "stream",
     "text": [
      "[3 3 3 3 3 2 2 2 2 2 0 0 0 0 0 1 1 1 1 1]\n",
      "정확도: 1.0\n"
     ]
    }
   ],
   "source": [
    "predict = clf.predict(X_test) # 모델 정확도를 예측한다.\n",
    "print(predict)\n",
    "print('정확도: ' + str(accuracy_score(Y_test.values.ravel(), le.classes_[predict]))) # 정확도를 출력한다."
   ]
  },
  {
   "cell_type": "code",
   "execution_count": 20,
   "id": "86b5b390",
   "metadata": {},
   "outputs": [
    {
     "data": {
      "text/html": [
       "<div>\n",
       "<style scoped>\n",
       "    .dataframe tbody tr th:only-of-type {\n",
       "        vertical-align: middle;\n",
       "    }\n",
       "\n",
       "    .dataframe tbody tr th {\n",
       "        vertical-align: top;\n",
       "    }\n",
       "\n",
       "    .dataframe thead th {\n",
       "        text-align: right;\n",
       "    }\n",
       "</style>\n",
       "<table border=\"1\" class=\"dataframe\">\n",
       "  <thead>\n",
       "    <tr style=\"text-align: right;\">\n",
       "      <th></th>\n",
       "      <th>예측값</th>\n",
       "      <th>실제값</th>\n",
       "    </tr>\n",
       "  </thead>\n",
       "  <tbody>\n",
       "    <tr>\n",
       "      <th>0</th>\n",
       "      <td>Gangseo</td>\n",
       "      <td>Gangseo</td>\n",
       "    </tr>\n",
       "    <tr>\n",
       "      <th>1</th>\n",
       "      <td>Gangseo</td>\n",
       "      <td>Gangseo</td>\n",
       "    </tr>\n",
       "    <tr>\n",
       "      <th>2</th>\n",
       "      <td>Gangseo</td>\n",
       "      <td>Gangseo</td>\n",
       "    </tr>\n",
       "    <tr>\n",
       "      <th>3</th>\n",
       "      <td>Gangseo</td>\n",
       "      <td>Gangseo</td>\n",
       "    </tr>\n",
       "    <tr>\n",
       "      <th>4</th>\n",
       "      <td>Gangseo</td>\n",
       "      <td>Gangseo</td>\n",
       "    </tr>\n",
       "    <tr>\n",
       "      <th>5</th>\n",
       "      <td>Gangnam</td>\n",
       "      <td>Gangnam</td>\n",
       "    </tr>\n",
       "    <tr>\n",
       "      <th>6</th>\n",
       "      <td>Gangnam</td>\n",
       "      <td>Gangnam</td>\n",
       "    </tr>\n",
       "    <tr>\n",
       "      <th>7</th>\n",
       "      <td>Gangnam</td>\n",
       "      <td>Gangnam</td>\n",
       "    </tr>\n",
       "    <tr>\n",
       "      <th>8</th>\n",
       "      <td>Gangnam</td>\n",
       "      <td>Gangnam</td>\n",
       "    </tr>\n",
       "    <tr>\n",
       "      <th>9</th>\n",
       "      <td>Gangnam</td>\n",
       "      <td>Gangnam</td>\n",
       "    </tr>\n",
       "    <tr>\n",
       "      <th>10</th>\n",
       "      <td>Gangbuk</td>\n",
       "      <td>Gangbuk</td>\n",
       "    </tr>\n",
       "    <tr>\n",
       "      <th>11</th>\n",
       "      <td>Gangbuk</td>\n",
       "      <td>Gangbuk</td>\n",
       "    </tr>\n",
       "    <tr>\n",
       "      <th>12</th>\n",
       "      <td>Gangbuk</td>\n",
       "      <td>Gangbuk</td>\n",
       "    </tr>\n",
       "    <tr>\n",
       "      <th>13</th>\n",
       "      <td>Gangbuk</td>\n",
       "      <td>Gangbuk</td>\n",
       "    </tr>\n",
       "    <tr>\n",
       "      <th>14</th>\n",
       "      <td>Gangbuk</td>\n",
       "      <td>Gangbuk</td>\n",
       "    </tr>\n",
       "    <tr>\n",
       "      <th>15</th>\n",
       "      <td>Gangdong</td>\n",
       "      <td>Gangdong</td>\n",
       "    </tr>\n",
       "    <tr>\n",
       "      <th>16</th>\n",
       "      <td>Gangdong</td>\n",
       "      <td>Gangdong</td>\n",
       "    </tr>\n",
       "    <tr>\n",
       "      <th>17</th>\n",
       "      <td>Gangdong</td>\n",
       "      <td>Gangdong</td>\n",
       "    </tr>\n",
       "    <tr>\n",
       "      <th>18</th>\n",
       "      <td>Gangdong</td>\n",
       "      <td>Gangdong</td>\n",
       "    </tr>\n",
       "    <tr>\n",
       "      <th>19</th>\n",
       "      <td>Gangdong</td>\n",
       "      <td>Gangdong</td>\n",
       "    </tr>\n",
       "  </tbody>\n",
       "</table>\n",
       "</div>"
      ],
      "text/plain": [
       "         예측값       실제값\n",
       "0    Gangseo   Gangseo\n",
       "1    Gangseo   Gangseo\n",
       "2    Gangseo   Gangseo\n",
       "3    Gangseo   Gangseo\n",
       "4    Gangseo   Gangseo\n",
       "5    Gangnam   Gangnam\n",
       "6    Gangnam   Gangnam\n",
       "7    Gangnam   Gangnam\n",
       "8    Gangnam   Gangnam\n",
       "9    Gangnam   Gangnam\n",
       "10   Gangbuk   Gangbuk\n",
       "11   Gangbuk   Gangbuk\n",
       "12   Gangbuk   Gangbuk\n",
       "13   Gangbuk   Gangbuk\n",
       "14   Gangbuk   Gangbuk\n",
       "15  Gangdong  Gangdong\n",
       "16  Gangdong  Gangdong\n",
       "17  Gangdong  Gangdong\n",
       "18  Gangdong  Gangdong\n",
       "19  Gangdong  Gangdong"
      ]
     },
     "execution_count": 20,
     "metadata": {},
     "output_type": "execute_result"
    }
   ],
   "source": [
    "comparison = pd.DataFrame({'예측값': le.classes_[predict], '실제값': Y_test.values.ravel()})\n",
    "comparison"
   ]
  },
  {
   "cell_type": "code",
   "execution_count": 21,
   "id": "b4dc9db4",
   "metadata": {},
   "outputs": [],
   "source": [
    "# 정확도 예측 후 임의의 내용으로 테스트 데이터를 만든다.\n",
    "dong_dict_list = [\n",
    "    {'dong': 'Gaebong-dong', 'latitude': 37.489853, 'longitude': 126.854547, 'label':'Gangseo'},\n",
    "    {'dong': 'Gochuk-dong', 'latitude': 37.501394, 'longitude': 126.859245, 'label':'Gangnam'},\n",
    "    {'dong': 'Hwagok-dong', 'latitude': 37.537759, 'longitude': 126.847951, 'label':'Gangseo'},\n",
    "    {'dong': 'Banghwa-dong', 'latitude': 37.575817, 'longitude': 126.815719, 'label':'Gangdong'},\n",
    "    {'dong': 'Sangam-dong', 'latitude': 37.577039, 'longitude': 126.891620, 'label':'Gangseo'}\n",
    "]\n",
    "\n",
    "test_df = pd.DataFrame(dong_dict_list)\n",
    "X_test = test_df[['longitude', 'latitude']]\n",
    "Y_test = test_df[['label']]"
   ]
  },
  {
   "cell_type": "code",
   "execution_count": 22,
   "id": "8eb660fe",
   "metadata": {},
   "outputs": [
    {
     "name": "stdout",
     "output_type": "stream",
     "text": [
      "정확도: 0.6\n"
     ]
    }
   ],
   "source": [
    "# 임의의 데이터에 대해 예측한다.\n",
    "predict = clf.predict(X_test)\n",
    "print('정확도: ' + str(accuracy_score(Y_test.values.ravel(), le.classes_[predict]))) # 정확도를 출력한다."
   ]
  },
  {
   "cell_type": "code",
   "execution_count": 23,
   "id": "e21f5430",
   "metadata": {},
   "outputs": [
    {
     "data": {
      "text/html": [
       "<div>\n",
       "<style scoped>\n",
       "    .dataframe tbody tr th:only-of-type {\n",
       "        vertical-align: middle;\n",
       "    }\n",
       "\n",
       "    .dataframe tbody tr th {\n",
       "        vertical-align: top;\n",
       "    }\n",
       "\n",
       "    .dataframe thead th {\n",
       "        text-align: right;\n",
       "    }\n",
       "</style>\n",
       "<table border=\"1\" class=\"dataframe\">\n",
       "  <thead>\n",
       "    <tr style=\"text-align: right;\">\n",
       "      <th></th>\n",
       "      <th>예측값</th>\n",
       "      <th>실제값</th>\n",
       "    </tr>\n",
       "  </thead>\n",
       "  <tbody>\n",
       "    <tr>\n",
       "      <th>0</th>\n",
       "      <td>Gangseo</td>\n",
       "      <td>Gangseo</td>\n",
       "    </tr>\n",
       "    <tr>\n",
       "      <th>1</th>\n",
       "      <td>Gangseo</td>\n",
       "      <td>Gangnam</td>\n",
       "    </tr>\n",
       "    <tr>\n",
       "      <th>2</th>\n",
       "      <td>Gangseo</td>\n",
       "      <td>Gangseo</td>\n",
       "    </tr>\n",
       "    <tr>\n",
       "      <th>3</th>\n",
       "      <td>Gangseo</td>\n",
       "      <td>Gangdong</td>\n",
       "    </tr>\n",
       "    <tr>\n",
       "      <th>4</th>\n",
       "      <td>Gangseo</td>\n",
       "      <td>Gangseo</td>\n",
       "    </tr>\n",
       "  </tbody>\n",
       "</table>\n",
       "</div>"
      ],
      "text/plain": [
       "       예측값       실제값\n",
       "0  Gangseo   Gangseo\n",
       "1  Gangseo   Gangnam\n",
       "2  Gangseo   Gangseo\n",
       "3  Gangseo  Gangdong\n",
       "4  Gangseo   Gangseo"
      ]
     },
     "execution_count": 23,
     "metadata": {},
     "output_type": "execute_result"
    }
   ],
   "source": [
    "comparison = pd.DataFrame({'예측값': le.classes_[predict], '실제값': Y_test.values.ravel()})\n",
    "comparison"
   ]
  },
  {
   "cell_type": "code",
   "execution_count": null,
   "id": "ccff3815",
   "metadata": {},
   "outputs": [],
   "source": []
  },
  {
   "cell_type": "code",
   "execution_count": null,
   "id": "941cbf39",
   "metadata": {},
   "outputs": [],
   "source": []
  },
  {
   "cell_type": "code",
   "execution_count": null,
   "id": "8b785790",
   "metadata": {},
   "outputs": [],
   "source": []
  },
  {
   "cell_type": "code",
   "execution_count": null,
   "id": "eb6ceee7",
   "metadata": {},
   "outputs": [],
   "source": []
  },
  {
   "cell_type": "code",
   "execution_count": null,
   "id": "b3afdf33",
   "metadata": {},
   "outputs": [],
   "source": []
  },
  {
   "cell_type": "code",
   "execution_count": null,
   "id": "adfb8fb4",
   "metadata": {},
   "outputs": [],
   "source": []
  }
 ],
 "metadata": {
  "kernelspec": {
   "display_name": "Python 3",
   "language": "python",
   "name": "python3"
  },
  "language_info": {
   "codemirror_mode": {
    "name": "ipython",
    "version": 3
   },
   "file_extension": ".py",
   "mimetype": "text/x-python",
   "name": "python",
   "nbconvert_exporter": "python",
   "pygments_lexer": "ipython3",
   "version": "3.6.8"
  }
 },
 "nbformat": 4,
 "nbformat_minor": 5
}
